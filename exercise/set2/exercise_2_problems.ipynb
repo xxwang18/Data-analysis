{
 "cells": [
  {
   "cell_type": "markdown",
   "metadata": {},
   "source": [
    "# Exercise Set 2\n",
    "\n",
    "**Xiongxiao Wang, Sakshi Pahujani, Mahak Sadhwani**\n",
    "\n",
    "Due: **10:00 25 April 2022**\n",
    "\n",
    "Discussion: **13:00 29 April 2022**\n",
    "\n",
    "**Online submission** at via [ILIAS](https://www.ilias.uni-koeln.de/ilias/goto_uk_exc_4593683.html) in the directory Exercises / Übungen -> Submission of Exercises / Rückgabe des Übungsblätter"
   ]
  },
  {
   "cell_type": "markdown",
   "metadata": {},
   "source": [
    "# 1. Global $CO_2$ emissions [100 points]"
   ]
  },
  {
   "cell_type": "markdown",
   "metadata": {},
   "source": [
    "Open the data in `co2-data.csv` to answer the following questions. It contains historical $CO_2$ emissions of each country per capita."
   ]
  },
  {
   "cell_type": "code",
   "execution_count": 1,
   "metadata": {},
   "outputs": [
    {
     "data": {
      "text/html": [
       "<div>\n",
       "<style scoped>\n",
       "    .dataframe tbody tr th:only-of-type {\n",
       "        vertical-align: middle;\n",
       "    }\n",
       "\n",
       "    .dataframe tbody tr th {\n",
       "        vertical-align: top;\n",
       "    }\n",
       "\n",
       "    .dataframe thead th {\n",
       "        text-align: right;\n",
       "    }\n",
       "</style>\n",
       "<table border=\"1\" class=\"dataframe\">\n",
       "  <thead>\n",
       "    <tr style=\"text-align: right;\">\n",
       "      <th></th>\n",
       "      <th>Unnamed: 0</th>\n",
       "      <th>iso_code</th>\n",
       "      <th>country</th>\n",
       "      <th>continent</th>\n",
       "      <th>year</th>\n",
       "      <th>co2</th>\n",
       "      <th>co2_growth_prct</th>\n",
       "      <th>co2_growth_abs</th>\n",
       "      <th>consumption_co2</th>\n",
       "      <th>trade_co2</th>\n",
       "      <th>...</th>\n",
       "      <th>ghg_per_capita</th>\n",
       "      <th>methane</th>\n",
       "      <th>methane_per_capita</th>\n",
       "      <th>nitrous_oxide</th>\n",
       "      <th>nitrous_oxide_per_capita</th>\n",
       "      <th>primary_energy_consumption</th>\n",
       "      <th>energy_per_capita</th>\n",
       "      <th>energy_per_gdp</th>\n",
       "      <th>population</th>\n",
       "      <th>gdp</th>\n",
       "    </tr>\n",
       "  </thead>\n",
       "  <tbody>\n",
       "    <tr>\n",
       "      <th>0</th>\n",
       "      <td>0</td>\n",
       "      <td>AFG</td>\n",
       "      <td>Afghanistan</td>\n",
       "      <td>Asia</td>\n",
       "      <td>1949</td>\n",
       "      <td>0.015</td>\n",
       "      <td>NaN</td>\n",
       "      <td>NaN</td>\n",
       "      <td>NaN</td>\n",
       "      <td>NaN</td>\n",
       "      <td>...</td>\n",
       "      <td>NaN</td>\n",
       "      <td>NaN</td>\n",
       "      <td>NaN</td>\n",
       "      <td>NaN</td>\n",
       "      <td>NaN</td>\n",
       "      <td>NaN</td>\n",
       "      <td>NaN</td>\n",
       "      <td>NaN</td>\n",
       "      <td>7663783.0</td>\n",
       "      <td>NaN</td>\n",
       "    </tr>\n",
       "    <tr>\n",
       "      <th>1</th>\n",
       "      <td>1</td>\n",
       "      <td>AFG</td>\n",
       "      <td>Afghanistan</td>\n",
       "      <td>Asia</td>\n",
       "      <td>1950</td>\n",
       "      <td>0.084</td>\n",
       "      <td>475.000</td>\n",
       "      <td>0.070</td>\n",
       "      <td>NaN</td>\n",
       "      <td>NaN</td>\n",
       "      <td>...</td>\n",
       "      <td>NaN</td>\n",
       "      <td>NaN</td>\n",
       "      <td>NaN</td>\n",
       "      <td>NaN</td>\n",
       "      <td>NaN</td>\n",
       "      <td>NaN</td>\n",
       "      <td>NaN</td>\n",
       "      <td>NaN</td>\n",
       "      <td>7752000.0</td>\n",
       "      <td>1.949480e+10</td>\n",
       "    </tr>\n",
       "    <tr>\n",
       "      <th>2</th>\n",
       "      <td>2</td>\n",
       "      <td>AFG</td>\n",
       "      <td>Afghanistan</td>\n",
       "      <td>Asia</td>\n",
       "      <td>1951</td>\n",
       "      <td>0.092</td>\n",
       "      <td>8.696</td>\n",
       "      <td>0.007</td>\n",
       "      <td>NaN</td>\n",
       "      <td>NaN</td>\n",
       "      <td>...</td>\n",
       "      <td>NaN</td>\n",
       "      <td>NaN</td>\n",
       "      <td>NaN</td>\n",
       "      <td>NaN</td>\n",
       "      <td>NaN</td>\n",
       "      <td>NaN</td>\n",
       "      <td>NaN</td>\n",
       "      <td>NaN</td>\n",
       "      <td>7840000.0</td>\n",
       "      <td>2.006385e+10</td>\n",
       "    </tr>\n",
       "    <tr>\n",
       "      <th>3</th>\n",
       "      <td>3</td>\n",
       "      <td>AFG</td>\n",
       "      <td>Afghanistan</td>\n",
       "      <td>Asia</td>\n",
       "      <td>1952</td>\n",
       "      <td>0.092</td>\n",
       "      <td>NaN</td>\n",
       "      <td>NaN</td>\n",
       "      <td>NaN</td>\n",
       "      <td>NaN</td>\n",
       "      <td>...</td>\n",
       "      <td>NaN</td>\n",
       "      <td>NaN</td>\n",
       "      <td>NaN</td>\n",
       "      <td>NaN</td>\n",
       "      <td>NaN</td>\n",
       "      <td>NaN</td>\n",
       "      <td>NaN</td>\n",
       "      <td>NaN</td>\n",
       "      <td>7936000.0</td>\n",
       "      <td>2.074235e+10</td>\n",
       "    </tr>\n",
       "    <tr>\n",
       "      <th>4</th>\n",
       "      <td>4</td>\n",
       "      <td>AFG</td>\n",
       "      <td>Afghanistan</td>\n",
       "      <td>Asia</td>\n",
       "      <td>1953</td>\n",
       "      <td>0.106</td>\n",
       "      <td>16.000</td>\n",
       "      <td>0.015</td>\n",
       "      <td>NaN</td>\n",
       "      <td>NaN</td>\n",
       "      <td>...</td>\n",
       "      <td>NaN</td>\n",
       "      <td>NaN</td>\n",
       "      <td>NaN</td>\n",
       "      <td>NaN</td>\n",
       "      <td>NaN</td>\n",
       "      <td>NaN</td>\n",
       "      <td>NaN</td>\n",
       "      <td>NaN</td>\n",
       "      <td>8040000.0</td>\n",
       "      <td>2.201546e+10</td>\n",
       "    </tr>\n",
       "  </tbody>\n",
       "</table>\n",
       "<p>5 rows × 57 columns</p>\n",
       "</div>"
      ],
      "text/plain": [
       "   Unnamed: 0 iso_code      country continent  year    co2  co2_growth_prct  \\\n",
       "0           0      AFG  Afghanistan      Asia  1949  0.015              NaN   \n",
       "1           1      AFG  Afghanistan      Asia  1950  0.084          475.000   \n",
       "2           2      AFG  Afghanistan      Asia  1951  0.092            8.696   \n",
       "3           3      AFG  Afghanistan      Asia  1952  0.092              NaN   \n",
       "4           4      AFG  Afghanistan      Asia  1953  0.106           16.000   \n",
       "\n",
       "   co2_growth_abs  consumption_co2  trade_co2  ...  ghg_per_capita  methane  \\\n",
       "0             NaN              NaN        NaN  ...             NaN      NaN   \n",
       "1           0.070              NaN        NaN  ...             NaN      NaN   \n",
       "2           0.007              NaN        NaN  ...             NaN      NaN   \n",
       "3             NaN              NaN        NaN  ...             NaN      NaN   \n",
       "4           0.015              NaN        NaN  ...             NaN      NaN   \n",
       "\n",
       "   methane_per_capita  nitrous_oxide  nitrous_oxide_per_capita  \\\n",
       "0                 NaN            NaN                       NaN   \n",
       "1                 NaN            NaN                       NaN   \n",
       "2                 NaN            NaN                       NaN   \n",
       "3                 NaN            NaN                       NaN   \n",
       "4                 NaN            NaN                       NaN   \n",
       "\n",
       "   primary_energy_consumption  energy_per_capita  energy_per_gdp  population  \\\n",
       "0                         NaN                NaN             NaN   7663783.0   \n",
       "1                         NaN                NaN             NaN   7752000.0   \n",
       "2                         NaN                NaN             NaN   7840000.0   \n",
       "3                         NaN                NaN             NaN   7936000.0   \n",
       "4                         NaN                NaN             NaN   8040000.0   \n",
       "\n",
       "            gdp  \n",
       "0           NaN  \n",
       "1  1.949480e+10  \n",
       "2  2.006385e+10  \n",
       "3  2.074235e+10  \n",
       "4  2.201546e+10  \n",
       "\n",
       "[5 rows x 57 columns]"
      ]
     },
     "execution_count": 1,
     "metadata": {},
     "output_type": "execute_result"
    }
   ],
   "source": [
    "import pandas as pds\n",
    "import numpy as np\n",
    "import matplotlib.pyplot as plt\n",
    "from matplotlib.ticker import FormatStrFormatter\n",
    "\n",
    "file_name = './co2-data.csv'\n",
    "df = pds.read_csv(file_name)\n",
    "df.head(5)"
   ]
  },
  {
   "cell_type": "markdown",
   "metadata": {},
   "source": [
    "**a.** Compute the mean $CO_2$ per capita emission in 2017. What is the standard deviation and median? **20 points**"
   ]
  },
  {
   "cell_type": "code",
   "execution_count": 2,
   "metadata": {},
   "outputs": [
    {
     "data": {
      "text/html": [
       "<div>\n",
       "<style scoped>\n",
       "    .dataframe tbody tr th:only-of-type {\n",
       "        vertical-align: middle;\n",
       "    }\n",
       "\n",
       "    .dataframe tbody tr th {\n",
       "        vertical-align: top;\n",
       "    }\n",
       "\n",
       "    .dataframe thead th {\n",
       "        text-align: right;\n",
       "    }\n",
       "</style>\n",
       "<table border=\"1\" class=\"dataframe\">\n",
       "  <thead>\n",
       "    <tr style=\"text-align: right;\">\n",
       "      <th></th>\n",
       "      <th>Unnamed: 0</th>\n",
       "      <th>iso_code</th>\n",
       "      <th>country</th>\n",
       "      <th>continent</th>\n",
       "      <th>year</th>\n",
       "      <th>co2</th>\n",
       "      <th>co2_growth_prct</th>\n",
       "      <th>co2_growth_abs</th>\n",
       "      <th>consumption_co2</th>\n",
       "      <th>trade_co2</th>\n",
       "      <th>...</th>\n",
       "      <th>ghg_per_capita</th>\n",
       "      <th>methane</th>\n",
       "      <th>methane_per_capita</th>\n",
       "      <th>nitrous_oxide</th>\n",
       "      <th>nitrous_oxide_per_capita</th>\n",
       "      <th>primary_energy_consumption</th>\n",
       "      <th>energy_per_capita</th>\n",
       "      <th>energy_per_gdp</th>\n",
       "      <th>population</th>\n",
       "      <th>gdp</th>\n",
       "    </tr>\n",
       "  </thead>\n",
       "  <tbody>\n",
       "    <tr>\n",
       "      <th>68</th>\n",
       "      <td>68</td>\n",
       "      <td>AFG</td>\n",
       "      <td>Afghanistan</td>\n",
       "      <td>Asia</td>\n",
       "      <td>2017</td>\n",
       "      <td>6.860</td>\n",
       "      <td>1.708</td>\n",
       "      <td>0.115</td>\n",
       "      <td>NaN</td>\n",
       "      <td>NaN</td>\n",
       "      <td>...</td>\n",
       "      <td>NaN</td>\n",
       "      <td>NaN</td>\n",
       "      <td>NaN</td>\n",
       "      <td>NaN</td>\n",
       "      <td>NaN</td>\n",
       "      <td>NaN</td>\n",
       "      <td>NaN</td>\n",
       "      <td>NaN</td>\n",
       "      <td>36296000.0</td>\n",
       "      <td>NaN</td>\n",
       "    </tr>\n",
       "    <tr>\n",
       "      <th>155</th>\n",
       "      <td>291</td>\n",
       "      <td>ALB</td>\n",
       "      <td>Albania</td>\n",
       "      <td>Europe</td>\n",
       "      <td>2017</td>\n",
       "      <td>5.404</td>\n",
       "      <td>20.212</td>\n",
       "      <td>0.909</td>\n",
       "      <td>6.186</td>\n",
       "      <td>0.782</td>\n",
       "      <td>...</td>\n",
       "      <td>NaN</td>\n",
       "      <td>NaN</td>\n",
       "      <td>NaN</td>\n",
       "      <td>NaN</td>\n",
       "      <td>NaN</td>\n",
       "      <td>NaN</td>\n",
       "      <td>NaN</td>\n",
       "      <td>NaN</td>\n",
       "      <td>2884000.0</td>\n",
       "      <td>NaN</td>\n",
       "    </tr>\n",
       "    <tr>\n",
       "      <th>259</th>\n",
       "      <td>395</td>\n",
       "      <td>DZA</td>\n",
       "      <td>Algeria</td>\n",
       "      <td>Africa</td>\n",
       "      <td>2017</td>\n",
       "      <td>153.448</td>\n",
       "      <td>3.097</td>\n",
       "      <td>4.609</td>\n",
       "      <td>NaN</td>\n",
       "      <td>NaN</td>\n",
       "      <td>...</td>\n",
       "      <td>NaN</td>\n",
       "      <td>NaN</td>\n",
       "      <td>NaN</td>\n",
       "      <td>NaN</td>\n",
       "      <td>NaN</td>\n",
       "      <td>NaN</td>\n",
       "      <td>NaN</td>\n",
       "      <td>NaN</td>\n",
       "      <td>41389000.0</td>\n",
       "      <td>NaN</td>\n",
       "    </tr>\n",
       "    <tr>\n",
       "      <th>289</th>\n",
       "      <td>425</td>\n",
       "      <td>AND</td>\n",
       "      <td>Andorra</td>\n",
       "      <td>Europe</td>\n",
       "      <td>2017</td>\n",
       "      <td>0.465</td>\n",
       "      <td>-0.781</td>\n",
       "      <td>-0.004</td>\n",
       "      <td>NaN</td>\n",
       "      <td>NaN</td>\n",
       "      <td>...</td>\n",
       "      <td>NaN</td>\n",
       "      <td>NaN</td>\n",
       "      <td>NaN</td>\n",
       "      <td>NaN</td>\n",
       "      <td>NaN</td>\n",
       "      <td>NaN</td>\n",
       "      <td>NaN</td>\n",
       "      <td>NaN</td>\n",
       "      <td>77000.0</td>\n",
       "      <td>NaN</td>\n",
       "    </tr>\n",
       "    <tr>\n",
       "      <th>359</th>\n",
       "      <td>495</td>\n",
       "      <td>AGO</td>\n",
       "      <td>Angola</td>\n",
       "      <td>Africa</td>\n",
       "      <td>2017</td>\n",
       "      <td>37.471</td>\n",
       "      <td>9.850</td>\n",
       "      <td>3.360</td>\n",
       "      <td>NaN</td>\n",
       "      <td>NaN</td>\n",
       "      <td>...</td>\n",
       "      <td>NaN</td>\n",
       "      <td>NaN</td>\n",
       "      <td>NaN</td>\n",
       "      <td>NaN</td>\n",
       "      <td>NaN</td>\n",
       "      <td>NaN</td>\n",
       "      <td>NaN</td>\n",
       "      <td>NaN</td>\n",
       "      <td>29817000.0</td>\n",
       "      <td>NaN</td>\n",
       "    </tr>\n",
       "  </tbody>\n",
       "</table>\n",
       "<p>5 rows × 57 columns</p>\n",
       "</div>"
      ],
      "text/plain": [
       "     Unnamed: 0 iso_code      country continent  year      co2  \\\n",
       "68           68      AFG  Afghanistan      Asia  2017    6.860   \n",
       "155         291      ALB      Albania    Europe  2017    5.404   \n",
       "259         395      DZA      Algeria    Africa  2017  153.448   \n",
       "289         425      AND      Andorra    Europe  2017    0.465   \n",
       "359         495      AGO       Angola    Africa  2017   37.471   \n",
       "\n",
       "     co2_growth_prct  co2_growth_abs  consumption_co2  trade_co2  ...  \\\n",
       "68             1.708           0.115              NaN        NaN  ...   \n",
       "155           20.212           0.909            6.186      0.782  ...   \n",
       "259            3.097           4.609              NaN        NaN  ...   \n",
       "289           -0.781          -0.004              NaN        NaN  ...   \n",
       "359            9.850           3.360              NaN        NaN  ...   \n",
       "\n",
       "     ghg_per_capita  methane  methane_per_capita  nitrous_oxide  \\\n",
       "68              NaN      NaN                 NaN            NaN   \n",
       "155             NaN      NaN                 NaN            NaN   \n",
       "259             NaN      NaN                 NaN            NaN   \n",
       "289             NaN      NaN                 NaN            NaN   \n",
       "359             NaN      NaN                 NaN            NaN   \n",
       "\n",
       "     nitrous_oxide_per_capita  primary_energy_consumption  energy_per_capita  \\\n",
       "68                        NaN                         NaN                NaN   \n",
       "155                       NaN                         NaN                NaN   \n",
       "259                       NaN                         NaN                NaN   \n",
       "289                       NaN                         NaN                NaN   \n",
       "359                       NaN                         NaN                NaN   \n",
       "\n",
       "     energy_per_gdp  population  gdp  \n",
       "68              NaN  36296000.0  NaN  \n",
       "155             NaN   2884000.0  NaN  \n",
       "259             NaN  41389000.0  NaN  \n",
       "289             NaN     77000.0  NaN  \n",
       "359             NaN  29817000.0  NaN  \n",
       "\n",
       "[5 rows x 57 columns]"
      ]
     },
     "execution_count": 2,
     "metadata": {},
     "output_type": "execute_result"
    }
   ],
   "source": [
    "co2_per_capita_2017 = df.loc[df['year'] == 2017]\n",
    "co2_per_capita_2017.head(5)"
   ]
  },
  {
   "cell_type": "code",
   "execution_count": 3,
   "metadata": {},
   "outputs": [
    {
     "data": {
      "text/plain": [
       "4.87293203883495"
      ]
     },
     "execution_count": 3,
     "metadata": {},
     "output_type": "execute_result"
    }
   ],
   "source": [
    "co2_per_capita_2017['co2_per_capita'].mean() # mean"
   ]
  },
  {
   "cell_type": "code",
   "execution_count": 4,
   "metadata": {},
   "outputs": [
    {
     "data": {
      "text/plain": [
       "5.745929455073027"
      ]
     },
     "execution_count": 4,
     "metadata": {},
     "output_type": "execute_result"
    }
   ],
   "source": [
    "co2_per_capita_2017['co2_per_capita'].std() # unbiased standard deviation"
   ]
  },
  {
   "cell_type": "code",
   "execution_count": 5,
   "metadata": {},
   "outputs": [
    {
     "data": {
      "text/plain": [
       "5.731966057870995"
      ]
     },
     "execution_count": 5,
     "metadata": {},
     "output_type": "execute_result"
    }
   ],
   "source": [
    "co2_per_capita_2017['co2_per_capita'].std(ddof=0) #biased standard deviation"
   ]
  },
  {
   "cell_type": "code",
   "execution_count": 6,
   "metadata": {},
   "outputs": [
    {
     "data": {
      "text/plain": [
       "2.9515000000000002"
      ]
     },
     "execution_count": 6,
     "metadata": {},
     "output_type": "execute_result"
    }
   ],
   "source": [
    "co2_per_capita_2017['co2_per_capita'].median() # median"
   ]
  },
  {
   "cell_type": "markdown",
   "metadata": {},
   "source": [
    "The mean CO2 per capita emission in 2017 is 4,87 million tonnes,the standard deviation is 5,75 $（million tonnes）^{2}$, and the median is 2.95 million tonnes"
   ]
  },
  {
   "cell_type": "markdown",
   "metadata": {},
   "source": [
    "**b.** This compares the data of countries in numerous stages of development. Try separating the data by continent, then calculate the mean, standard deviation, and median in 2017. Show this data in a convenient plot (maybe in a *box plot*). What are the limitations to this data reduction? **30 points**"
   ]
  },
  {
   "cell_type": "code",
   "execution_count": 7,
   "metadata": {},
   "outputs": [
    {
     "name": "stdout",
     "output_type": "stream",
     "text": [
      "      continent  co2_per_capita\n",
      "68         Asia           0.189\n",
      "155      Europe           1.874\n",
      "259      Africa           3.707\n",
      "289      Europe           6.043\n",
      "359      Africa           1.257\n",
      "...         ...             ...\n",
      "20381      Asia           1.930\n",
      "20400   Oceania             NaN\n",
      "20470      Asia           0.363\n",
      "20540    Africa           0.387\n",
      "20657    Africa           0.720\n",
      "\n",
      "[209 rows x 2 columns]\n"
     ]
    },
    {
     "data": {
      "text/plain": [
       "Text(0, 0.5, 'co2 emission(million tones per year)')"
      ]
     },
     "execution_count": 7,
     "metadata": {},
     "output_type": "execute_result"
    },
    {
     "data": {
      "image/png": "[encoded data removed]",
      "text/plain": [
       "<Figure size 432x288 with 1 Axes>"
      ]
     },
     "metadata": {
      "needs_background": "light"
     },
     "output_type": "display_data"
    }
   ],
   "source": [
    "co2_per_capita_2017_continent= co2_per_capita_2017[['continent','co2_per_capita']]\n",
    "print(co2_per_capita_2017_continent)\n",
    "ax1=co2_per_capita_2017_continent.boxplot(by='continent')\n",
    "ax1.set_ylabel('co2 emission(million tones per year)')"
   ]
  },
  {
   "cell_type": "code",
   "execution_count": 8,
   "metadata": {},
   "outputs": [
    {
     "data": {
      "text/html": [
       "<div>\n",
       "<style scoped>\n",
       "    .dataframe tbody tr th:only-of-type {\n",
       "        vertical-align: middle;\n",
       "    }\n",
       "\n",
       "    .dataframe tbody tr th {\n",
       "        vertical-align: top;\n",
       "    }\n",
       "\n",
       "    .dataframe thead tr th {\n",
       "        text-align: left;\n",
       "    }\n",
       "\n",
       "    .dataframe thead tr:last-of-type th {\n",
       "        text-align: right;\n",
       "    }\n",
       "</style>\n",
       "<table border=\"1\" class=\"dataframe\">\n",
       "  <thead>\n",
       "    <tr>\n",
       "      <th></th>\n",
       "      <th colspan=\"8\" halign=\"left\">co2_per_capita</th>\n",
       "    </tr>\n",
       "    <tr>\n",
       "      <th></th>\n",
       "      <th>count</th>\n",
       "      <th>mean</th>\n",
       "      <th>std</th>\n",
       "      <th>min</th>\n",
       "      <th>25%</th>\n",
       "      <th>50%</th>\n",
       "      <th>75%</th>\n",
       "      <th>max</th>\n",
       "    </tr>\n",
       "    <tr>\n",
       "      <th>continent</th>\n",
       "      <th></th>\n",
       "      <th></th>\n",
       "      <th></th>\n",
       "      <th></th>\n",
       "      <th></th>\n",
       "      <th></th>\n",
       "      <th></th>\n",
       "      <th></th>\n",
       "    </tr>\n",
       "  </thead>\n",
       "  <tbody>\n",
       "    <tr>\n",
       "      <th>Africa</th>\n",
       "      <td>53.0</td>\n",
       "      <td>1.201226</td>\n",
       "      <td>1.802184</td>\n",
       "      <td>0.027</td>\n",
       "      <td>0.16000</td>\n",
       "      <td>0.3960</td>\n",
       "      <td>1.25700</td>\n",
       "      <td>8.176</td>\n",
       "    </tr>\n",
       "    <tr>\n",
       "      <th>Asia</th>\n",
       "      <td>49.0</td>\n",
       "      <td>6.845694</td>\n",
       "      <td>8.142382</td>\n",
       "      <td>0.189</td>\n",
       "      <td>1.27900</td>\n",
       "      <td>3.4190</td>\n",
       "      <td>9.31500</td>\n",
       "      <td>38.741</td>\n",
       "    </tr>\n",
       "    <tr>\n",
       "      <th>Europe</th>\n",
       "      <td>43.0</td>\n",
       "      <td>6.774860</td>\n",
       "      <td>3.169785</td>\n",
       "      <td>1.303</td>\n",
       "      <td>4.63800</td>\n",
       "      <td>6.0580</td>\n",
       "      <td>8.20600</td>\n",
       "      <td>15.626</td>\n",
       "    </tr>\n",
       "    <tr>\n",
       "      <th>North America</th>\n",
       "      <td>31.0</td>\n",
       "      <td>6.050452</td>\n",
       "      <td>6.440145</td>\n",
       "      <td>0.298</td>\n",
       "      <td>2.07950</td>\n",
       "      <td>3.6960</td>\n",
       "      <td>7.69950</td>\n",
       "      <td>28.878</td>\n",
       "    </tr>\n",
       "    <tr>\n",
       "      <th>Oceania</th>\n",
       "      <td>16.0</td>\n",
       "      <td>4.340000</td>\n",
       "      <td>5.702985</td>\n",
       "      <td>0.449</td>\n",
       "      <td>0.94325</td>\n",
       "      <td>2.4250</td>\n",
       "      <td>3.98350</td>\n",
       "      <td>19.295</td>\n",
       "    </tr>\n",
       "    <tr>\n",
       "      <th>South America</th>\n",
       "      <td>14.0</td>\n",
       "      <td>4.028357</td>\n",
       "      <td>3.335294</td>\n",
       "      <td>1.167</td>\n",
       "      <td>1.89275</td>\n",
       "      <td>2.6645</td>\n",
       "      <td>4.51675</td>\n",
       "      <td>13.337</td>\n",
       "    </tr>\n",
       "  </tbody>\n",
       "</table>\n",
       "</div>"
      ],
      "text/plain": [
       "              co2_per_capita                                              \\\n",
       "                       count      mean       std    min      25%     50%   \n",
       "continent                                                                  \n",
       "Africa                  53.0  1.201226  1.802184  0.027  0.16000  0.3960   \n",
       "Asia                    49.0  6.845694  8.142382  0.189  1.27900  3.4190   \n",
       "Europe                  43.0  6.774860  3.169785  1.303  4.63800  6.0580   \n",
       "North America           31.0  6.050452  6.440145  0.298  2.07950  3.6960   \n",
       "Oceania                 16.0  4.340000  5.702985  0.449  0.94325  2.4250   \n",
       "South America           14.0  4.028357  3.335294  1.167  1.89275  2.6645   \n",
       "\n",
       "                                \n",
       "                   75%     max  \n",
       "continent                       \n",
       "Africa         1.25700   8.176  \n",
       "Asia           9.31500  38.741  \n",
       "Europe         8.20600  15.626  \n",
       "North America  7.69950  28.878  \n",
       "Oceania        3.98350  19.295  \n",
       "South America  4.51675  13.337  "
      ]
     },
     "execution_count": 8,
     "metadata": {},
     "output_type": "execute_result"
    }
   ],
   "source": [
    "# In the columns indexs, 'mean' is mean, 'std' is standard deviation, '50%' is median\n",
    "co2_per_capita_continent_groupby = co2_per_capita_2017_continent.groupby('continent')#separating the data by continent\n",
    "co2_per_capita_continent_groupby.describe()#calculate the mean, standard deviation, and median in 2017"
   ]
  },
  {
   "cell_type": "markdown",
   "metadata": {},
   "source": [
    ">>The mean CO2 per capita emission in Africa in 2017 is 1.201226 million tonnes,the standard deviation is $1.802184  （𝑚𝑖𝑙𝑙𝑖𝑜𝑛𝑡𝑜𝑛𝑛𝑒𝑠）^{2} $, and the median is 0.3960 million tonnes\n",
    ">>The mean CO2 per capita emission in Aisa in 2017 is 6.845694 million tonnes,the standard deviation is $8.142382  （𝑚𝑖𝑙𝑙𝑖𝑜𝑛𝑡𝑜𝑛𝑛𝑒𝑠）^{2} $, and the median is 3.4190 million tonnes\n",
    ">>The mean CO2 per capita emission in Europe in 2017 is 6.774860 million tonnes,the standard deviation is $3.169785（𝑚𝑖𝑙𝑙𝑖𝑜𝑛𝑡𝑜𝑛𝑛𝑒𝑠）^{2} $, and the median is 6.0580 million tonnes\n",
    ">>The mean CO2 per capita emission in North America in 2017 is 6.050452 million tonnes,the standard deviation is $6.440145 （𝑚𝑖𝑙𝑙𝑖𝑜𝑛𝑡𝑜𝑛𝑛𝑒𝑠）^{2} $, and the median is 3.6960 million tonnes\n",
    ">>The mean CO2 per capita emission in Oceania in 2017 is 4.340000 million tonnes,the standard deviation is $5.702985  （𝑚𝑖𝑙𝑙𝑖𝑜𝑛𝑡𝑜𝑛𝑛𝑒𝑠）^{2} $, and the median is 2.4250 million tonnes\n",
    ">>The mean CO2 per capita emission in South America in 2017 is 4.028357 million tonnes,the standard deviation is $3.335294  （𝑚𝑖𝑙𝑙𝑖𝑜𝑛𝑡𝑜𝑛𝑛𝑒𝑠）^{2} $, and the median is 2.6645 million tonnes"
   ]
  },
  {
   "cell_type": "markdown",
   "metadata": {},
   "source": [
    "**c.** To fully assess the contribution of each country to global emissions, we should look at the cumulative emission. What are the mean, standard deviation, and median of the dataset? Show this information for both the world and separated by continent. **20 points**"
   ]
  },
  {
   "cell_type": "code",
   "execution_count": 9,
   "metadata": {},
   "outputs": [
    {
     "data": {
      "text/html": [
       "<div>\n",
       "<style scoped>\n",
       "    .dataframe tbody tr th:only-of-type {\n",
       "        vertical-align: middle;\n",
       "    }\n",
       "\n",
       "    .dataframe tbody tr th {\n",
       "        vertical-align: top;\n",
       "    }\n",
       "\n",
       "    .dataframe thead tr th {\n",
       "        text-align: left;\n",
       "    }\n",
       "\n",
       "    .dataframe thead tr:last-of-type th {\n",
       "        text-align: right;\n",
       "    }\n",
       "</style>\n",
       "<table border=\"1\" class=\"dataframe\">\n",
       "  <thead>\n",
       "    <tr>\n",
       "      <th></th>\n",
       "      <th colspan=\"8\" halign=\"left\">cumulative_co2</th>\n",
       "    </tr>\n",
       "    <tr>\n",
       "      <th></th>\n",
       "      <th>count</th>\n",
       "      <th>mean</th>\n",
       "      <th>std</th>\n",
       "      <th>min</th>\n",
       "      <th>25%</th>\n",
       "      <th>50%</th>\n",
       "      <th>75%</th>\n",
       "      <th>max</th>\n",
       "    </tr>\n",
       "    <tr>\n",
       "      <th>continent</th>\n",
       "      <th></th>\n",
       "      <th></th>\n",
       "      <th></th>\n",
       "      <th></th>\n",
       "      <th></th>\n",
       "      <th></th>\n",
       "      <th></th>\n",
       "      <th></th>\n",
       "    </tr>\n",
       "  </thead>\n",
       "  <tbody>\n",
       "    <tr>\n",
       "      <th>Africa</th>\n",
       "      <td>3824.0</td>\n",
       "      <td>300.341422</td>\n",
       "      <td>1440.587225</td>\n",
       "      <td>0.004</td>\n",
       "      <td>2.62025</td>\n",
       "      <td>16.6165</td>\n",
       "      <td>80.53125</td>\n",
       "      <td>20722.289</td>\n",
       "    </tr>\n",
       "    <tr>\n",
       "      <th>Asia</th>\n",
       "      <td>5128.0</td>\n",
       "      <td>2073.347942</td>\n",
       "      <td>10410.663560</td>\n",
       "      <td>0.000</td>\n",
       "      <td>8.30250</td>\n",
       "      <td>118.8095</td>\n",
       "      <td>773.44525</td>\n",
       "      <td>219985.862</td>\n",
       "    </tr>\n",
       "    <tr>\n",
       "      <th>Europe</th>\n",
       "      <td>6590.0</td>\n",
       "      <td>3910.472644</td>\n",
       "      <td>11877.614654</td>\n",
       "      <td>0.000</td>\n",
       "      <td>19.21900</td>\n",
       "      <td>270.4970</td>\n",
       "      <td>1847.35825</td>\n",
       "      <td>113884.448</td>\n",
       "    </tr>\n",
       "    <tr>\n",
       "      <th>North America</th>\n",
       "      <td>2519.0</td>\n",
       "      <td>8141.898006</td>\n",
       "      <td>41762.270858</td>\n",
       "      <td>0.004</td>\n",
       "      <td>1.70400</td>\n",
       "      <td>16.3710</td>\n",
       "      <td>183.82200</td>\n",
       "      <td>410238.263</td>\n",
       "    </tr>\n",
       "    <tr>\n",
       "      <th>Oceania</th>\n",
       "      <td>1136.0</td>\n",
       "      <td>551.261707</td>\n",
       "      <td>2181.376940</td>\n",
       "      <td>0.004</td>\n",
       "      <td>0.61500</td>\n",
       "      <td>3.7685</td>\n",
       "      <td>61.02475</td>\n",
       "      <td>18181.941</td>\n",
       "    </tr>\n",
       "    <tr>\n",
       "      <th>South America</th>\n",
       "      <td>1402.0</td>\n",
       "      <td>791.776566</td>\n",
       "      <td>1845.309646</td>\n",
       "      <td>0.004</td>\n",
       "      <td>15.97375</td>\n",
       "      <td>82.6695</td>\n",
       "      <td>540.03075</td>\n",
       "      <td>15125.104</td>\n",
       "    </tr>\n",
       "  </tbody>\n",
       "</table>\n",
       "</div>"
      ],
      "text/plain": [
       "              cumulative_co2                                              \\\n",
       "                       count         mean           std    min       25%   \n",
       "continent                                                                  \n",
       "Africa                3824.0   300.341422   1440.587225  0.004   2.62025   \n",
       "Asia                  5128.0  2073.347942  10410.663560  0.000   8.30250   \n",
       "Europe                6590.0  3910.472644  11877.614654  0.000  19.21900   \n",
       "North America         2519.0  8141.898006  41762.270858  0.004   1.70400   \n",
       "Oceania               1136.0   551.261707   2181.376940  0.004   0.61500   \n",
       "South America         1402.0   791.776566   1845.309646  0.004  15.97375   \n",
       "\n",
       "                                                 \n",
       "                    50%         75%         max  \n",
       "continent                                        \n",
       "Africa          16.6165    80.53125   20722.289  \n",
       "Asia           118.8095   773.44525  219985.862  \n",
       "Europe         270.4970  1847.35825  113884.448  \n",
       "North America   16.3710   183.82200  410238.263  \n",
       "Oceania          3.7685    61.02475   18181.941  \n",
       "South America   82.6695   540.03075   15125.104  "
      ]
     },
     "execution_count": 9,
     "metadata": {},
     "output_type": "execute_result"
    }
   ],
   "source": [
    "df[['continent','cumulative_co2']].groupby('continent').describe() #statistics information of cumulative emission separated by continent"
   ]
  },
  {
   "cell_type": "code",
   "execution_count": 10,
   "metadata": {},
   "outputs": [
    {
     "data": {
      "text/html": [
       "<div>\n",
       "<style scoped>\n",
       "    .dataframe tbody tr th:only-of-type {\n",
       "        vertical-align: middle;\n",
       "    }\n",
       "\n",
       "    .dataframe tbody tr th {\n",
       "        vertical-align: top;\n",
       "    }\n",
       "\n",
       "    .dataframe thead th {\n",
       "        text-align: right;\n",
       "    }\n",
       "</style>\n",
       "<table border=\"1\" class=\"dataframe\">\n",
       "  <thead>\n",
       "    <tr style=\"text-align: right;\">\n",
       "      <th></th>\n",
       "      <th>cumulative_co2</th>\n",
       "    </tr>\n",
       "  </thead>\n",
       "  <tbody>\n",
       "    <tr>\n",
       "      <th>count</th>\n",
       "      <td>20599.000000</td>\n",
       "    </tr>\n",
       "    <tr>\n",
       "      <th>mean</th>\n",
       "      <td>2902.878474</td>\n",
       "    </tr>\n",
       "    <tr>\n",
       "      <th>std</th>\n",
       "      <td>17085.345894</td>\n",
       "    </tr>\n",
       "    <tr>\n",
       "      <th>min</th>\n",
       "      <td>0.000000</td>\n",
       "    </tr>\n",
       "    <tr>\n",
       "      <th>25%</th>\n",
       "      <td>4.791500</td>\n",
       "    </tr>\n",
       "    <tr>\n",
       "      <th>50%</th>\n",
       "      <td>60.419000</td>\n",
       "    </tr>\n",
       "    <tr>\n",
       "      <th>75%</th>\n",
       "      <td>644.539000</td>\n",
       "    </tr>\n",
       "    <tr>\n",
       "      <th>max</th>\n",
       "      <td>410238.263000</td>\n",
       "    </tr>\n",
       "  </tbody>\n",
       "</table>\n",
       "</div>"
      ],
      "text/plain": [
       "       cumulative_co2\n",
       "count    20599.000000\n",
       "mean      2902.878474\n",
       "std      17085.345894\n",
       "min          0.000000\n",
       "25%          4.791500\n",
       "50%         60.419000\n",
       "75%        644.539000\n",
       "max     410238.263000"
      ]
     },
     "execution_count": 10,
     "metadata": {},
     "output_type": "execute_result"
    }
   ],
   "source": [
    "df[['continent','cumulative_co2']].describe() # statistics information of cumulative emission about the world"
   ]
  },
  {
   "cell_type": "markdown",
   "metadata": {},
   "source": [
    "**d.** We can also look at this history of $CO_2$ emissions by each country. Calculate the mean and standard deviation of the annual emission for the U.S., U.K., Germany, and China. Is this metric useful? In which year was the peak emission from these countries? Are they starting to gain control of their emissions? **30 points**"
   ]
  },
  {
   "cell_type": "code",
   "execution_count": 11,
   "metadata": {},
   "outputs": [
    {
     "data": {
      "text/html": [
       "<div>\n",
       "<style scoped>\n",
       "    .dataframe tbody tr th:only-of-type {\n",
       "        vertical-align: middle;\n",
       "    }\n",
       "\n",
       "    .dataframe tbody tr th {\n",
       "        vertical-align: top;\n",
       "    }\n",
       "\n",
       "    .dataframe thead th {\n",
       "        text-align: right;\n",
       "    }\n",
       "</style>\n",
       "<table border=\"1\" class=\"dataframe\">\n",
       "  <thead>\n",
       "    <tr style=\"text-align: right;\">\n",
       "      <th></th>\n",
       "      <th>country</th>\n",
       "      <th>co2</th>\n",
       "      <th>year</th>\n",
       "    </tr>\n",
       "  </thead>\n",
       "  <tbody>\n",
       "    <tr>\n",
       "      <th>3971</th>\n",
       "      <td>China</td>\n",
       "      <td>0.095</td>\n",
       "      <td>1899</td>\n",
       "    </tr>\n",
       "    <tr>\n",
       "      <th>3972</th>\n",
       "      <td>China</td>\n",
       "      <td>0.095</td>\n",
       "      <td>1902</td>\n",
       "    </tr>\n",
       "    <tr>\n",
       "      <th>3973</th>\n",
       "      <td>China</td>\n",
       "      <td>1.964</td>\n",
       "      <td>1903</td>\n",
       "    </tr>\n",
       "    <tr>\n",
       "      <th>3974</th>\n",
       "      <td>China</td>\n",
       "      <td>2.088</td>\n",
       "      <td>1904</td>\n",
       "    </tr>\n",
       "    <tr>\n",
       "      <th>3975</th>\n",
       "      <td>China</td>\n",
       "      <td>2.297</td>\n",
       "      <td>1905</td>\n",
       "    </tr>\n",
       "    <tr>\n",
       "      <th>...</th>\n",
       "      <td>...</td>\n",
       "      <td>...</td>\n",
       "      <td>...</td>\n",
       "    </tr>\n",
       "    <tr>\n",
       "      <th>19806</th>\n",
       "      <td>United States</td>\n",
       "      <td>5412.432</td>\n",
       "      <td>2015</td>\n",
       "    </tr>\n",
       "    <tr>\n",
       "      <th>19807</th>\n",
       "      <td>United States</td>\n",
       "      <td>5292.268</td>\n",
       "      <td>2016</td>\n",
       "    </tr>\n",
       "    <tr>\n",
       "      <th>19808</th>\n",
       "      <td>United States</td>\n",
       "      <td>5253.606</td>\n",
       "      <td>2017</td>\n",
       "    </tr>\n",
       "    <tr>\n",
       "      <th>19809</th>\n",
       "      <td>United States</td>\n",
       "      <td>5424.882</td>\n",
       "      <td>2018</td>\n",
       "    </tr>\n",
       "    <tr>\n",
       "      <th>19810</th>\n",
       "      <td>United States</td>\n",
       "      <td>5284.697</td>\n",
       "      <td>2019</td>\n",
       "    </tr>\n",
       "  </tbody>\n",
       "</table>\n",
       "<p>837 rows × 3 columns</p>\n",
       "</div>"
      ],
      "text/plain": [
       "             country       co2  year\n",
       "3971           China     0.095  1899\n",
       "3972           China     0.095  1902\n",
       "3973           China     1.964  1903\n",
       "3974           China     2.088  1904\n",
       "3975           China     2.297  1905\n",
       "...              ...       ...   ...\n",
       "19806  United States  5412.432  2015\n",
       "19807  United States  5292.268  2016\n",
       "19808  United States  5253.606  2017\n",
       "19809  United States  5424.882  2018\n",
       "19810  United States  5284.697  2019\n",
       "\n",
       "[837 rows x 3 columns]"
      ]
     },
     "execution_count": 11,
     "metadata": {},
     "output_type": "execute_result"
    }
   ],
   "source": [
    "# get the co2 emission only from the four countries\n",
    "co2_country_years = df[['country','co2','year']].loc[df['country'].isin(['United States','United Kingdom','Germany','China'])]\n",
    "co2_country_years"
   ]
  },
  {
   "cell_type": "code",
   "execution_count": 12,
   "metadata": {},
   "outputs": [
    {
     "data": {
      "text/html": [
       "<div>\n",
       "<style scoped>\n",
       "    .dataframe tbody tr th:only-of-type {\n",
       "        vertical-align: middle;\n",
       "    }\n",
       "\n",
       "    .dataframe tbody tr th {\n",
       "        vertical-align: top;\n",
       "    }\n",
       "\n",
       "    .dataframe thead tr th {\n",
       "        text-align: left;\n",
       "    }\n",
       "\n",
       "    .dataframe thead tr:last-of-type th {\n",
       "        text-align: right;\n",
       "    }\n",
       "</style>\n",
       "<table border=\"1\" class=\"dataframe\">\n",
       "  <thead>\n",
       "    <tr>\n",
       "      <th></th>\n",
       "      <th colspan=\"8\" halign=\"left\">co2</th>\n",
       "    </tr>\n",
       "    <tr>\n",
       "      <th></th>\n",
       "      <th>count</th>\n",
       "      <th>mean</th>\n",
       "      <th>std</th>\n",
       "      <th>min</th>\n",
       "      <th>25%</th>\n",
       "      <th>50%</th>\n",
       "      <th>75%</th>\n",
       "      <th>max</th>\n",
       "    </tr>\n",
       "    <tr>\n",
       "      <th>country</th>\n",
       "      <th></th>\n",
       "      <th></th>\n",
       "      <th></th>\n",
       "      <th></th>\n",
       "      <th></th>\n",
       "      <th></th>\n",
       "      <th></th>\n",
       "      <th></th>\n",
       "    </tr>\n",
       "  </thead>\n",
       "  <tbody>\n",
       "    <tr>\n",
       "      <th>China</th>\n",
       "      <td>119.0</td>\n",
       "      <td>1848.620706</td>\n",
       "      <td>2890.360371</td>\n",
       "      <td>0.095</td>\n",
       "      <td>34.60100</td>\n",
       "      <td>435.7040</td>\n",
       "      <td>2403.83700</td>\n",
       "      <td>10174.681</td>\n",
       "    </tr>\n",
       "    <tr>\n",
       "      <th>Germany</th>\n",
       "      <td>228.0</td>\n",
       "      <td>403.418079</td>\n",
       "      <td>382.868824</td>\n",
       "      <td>0.443</td>\n",
       "      <td>13.78500</td>\n",
       "      <td>329.3440</td>\n",
       "      <td>787.54025</td>\n",
       "      <td>1117.882</td>\n",
       "    </tr>\n",
       "    <tr>\n",
       "      <th>United Kingdom</th>\n",
       "      <td>270.0</td>\n",
       "      <td>288.280374</td>\n",
       "      <td>225.313168</td>\n",
       "      <td>9.351</td>\n",
       "      <td>41.94775</td>\n",
       "      <td>315.1280</td>\n",
       "      <td>482.72500</td>\n",
       "      <td>660.388</td>\n",
       "    </tr>\n",
       "    <tr>\n",
       "      <th>United States</th>\n",
       "      <td>220.0</td>\n",
       "      <td>1864.719400</td>\n",
       "      <td>2065.292513</td>\n",
       "      <td>0.253</td>\n",
       "      <td>36.91050</td>\n",
       "      <td>1231.4285</td>\n",
       "      <td>3286.61450</td>\n",
       "      <td>6131.893</td>\n",
       "    </tr>\n",
       "  </tbody>\n",
       "</table>\n",
       "</div>"
      ],
      "text/plain": [
       "                  co2                                                        \\\n",
       "                count         mean          std    min       25%        50%   \n",
       "country                                                                       \n",
       "China           119.0  1848.620706  2890.360371  0.095  34.60100   435.7040   \n",
       "Germany         228.0   403.418079   382.868824  0.443  13.78500   329.3440   \n",
       "United Kingdom  270.0   288.280374   225.313168  9.351  41.94775   315.1280   \n",
       "United States   220.0  1864.719400  2065.292513  0.253  36.91050  1231.4285   \n",
       "\n",
       "                                       \n",
       "                       75%        max  \n",
       "country                                \n",
       "China           2403.83700  10174.681  \n",
       "Germany          787.54025   1117.882  \n",
       "United Kingdom   482.72500    660.388  \n",
       "United States   3286.61450   6131.893  "
      ]
     },
     "execution_count": 12,
     "metadata": {},
     "output_type": "execute_result"
    }
   ],
   "source": [
    "co2_country_years[['country','co2']].groupby('country').describe()#Calculate the mean and standard deviation of the annual emission for the U.S., U.K., Germany, and China."
   ]
  },
  {
   "cell_type": "code",
   "execution_count": 13,
   "metadata": {},
   "outputs": [
    {
     "data": {
      "text/plain": [
       "country\n",
       "China             AxesSubplot(0.125,0.125;0.775x0.755)\n",
       "Germany           AxesSubplot(0.125,0.125;0.775x0.755)\n",
       "United Kingdom    AxesSubplot(0.125,0.125;0.775x0.755)\n",
       "United States     AxesSubplot(0.125,0.125;0.775x0.755)\n",
       "dtype: object"
      ]
     },
     "execution_count": 13,
     "metadata": {},
     "output_type": "execute_result"
    },
    {
     "data": {
      "image/png": "[encoded data removed]",
      "text/plain": [
       "<Figure size 432x288 with 1 Axes>"
      ]
     },
     "metadata": {
      "needs_background": "light"
     },
     "output_type": "display_data"
    },
    {
     "data": {
      "image/png": "[encoded data removed]",
      "text/plain": [
       "<Figure size 432x288 with 1 Axes>"
      ]
     },
     "metadata": {
      "needs_background": "light"
     },
     "output_type": "display_data"
    },
    {
     "data": {
      "image/png": "[encoded data removed]",
      "text/plain": [
       "<Figure size 432x288 with 1 Axes>"
      ]
     },
     "metadata": {
      "needs_background": "light"
     },
     "output_type": "display_data"
    },
    {
     "data": {
      "image/png": "[encoded data removed]",
      "text/plain": [
       "<Figure size 432x288 with 1 Axes>"
      ]
     },
     "metadata": {
      "needs_background": "light"
     },
     "output_type": "display_data"
    }
   ],
   "source": [
    "co2_country_years.groupby('country').plot(x='year',y='co2')"
   ]
  },
  {
   "cell_type": "code",
   "execution_count": 14,
   "metadata": {},
   "outputs": [
    {
     "data": {
      "text/plain": [
       "country\n",
       "China              4089\n",
       "Germany            7212\n",
       "United Kingdom    19542\n",
       "United States     19796\n",
       "Name: co2, dtype: int64"
      ]
     },
     "execution_count": 14,
     "metadata": {},
     "output_type": "execute_result"
    }
   ],
   "source": [
    "co2_country_years_idxmax=co2_country_years.groupby('country')['co2'].idxmax() #get the index of the max emission of different countries\n",
    "co2_country_years_idxmax"
   ]
  },
  {
   "cell_type": "code",
   "execution_count": 15,
   "metadata": {},
   "outputs": [
    {
     "data": {
      "text/plain": [
       "country        China\n",
       "co2        10174.681\n",
       "year            2019\n",
       "Name: 4089, dtype: object"
      ]
     },
     "execution_count": 15,
     "metadata": {},
     "output_type": "execute_result"
    }
   ],
   "source": [
    "co2_china_year_max = co2_country_years.loc[4089]  # China peaked at 2019 and didn't start to control\n",
    "co2_china_year_max"
   ]
  },
  {
   "cell_type": "code",
   "execution_count": 16,
   "metadata": {},
   "outputs": [
    {
     "data": {
      "text/plain": [
       "country     Germany\n",
       "co2        1117.882\n",
       "year           1979\n",
       "Name: 7212, dtype: object"
      ]
     },
     "execution_count": 16,
     "metadata": {},
     "output_type": "execute_result"
    }
   ],
   "source": [
    "co2_germany_year_max = co2_country_years.loc[7212] # Germany peaked at 1979, and has already started to control since 1979\n",
    "co2_germany_year_max"
   ]
  },
  {
   "cell_type": "code",
   "execution_count": 17,
   "metadata": {},
   "outputs": [
    {
     "data": {
      "text/plain": [
       "country    United Kingdom\n",
       "co2               660.388\n",
       "year                 1971\n",
       "Name: 19542, dtype: object"
      ]
     },
     "execution_count": 17,
     "metadata": {},
     "output_type": "execute_result"
    }
   ],
   "source": [
    "co2_UK_year_max = co2_country_years.loc[19542]  # UK peaked at 1971, and has already started to control since 1971\n",
    "co2_UK_year_max"
   ]
  },
  {
   "cell_type": "code",
   "execution_count": 18,
   "metadata": {},
   "outputs": [
    {
     "data": {
      "text/plain": [
       "country    United States\n",
       "co2             6131.893\n",
       "year                2005\n",
       "Name: 19796, dtype: object"
      ]
     },
     "execution_count": 18,
     "metadata": {},
     "output_type": "execute_result"
    }
   ],
   "source": [
    "co2_USA_year_max = co2_country_years.loc[19796] #USA peaked at 2005,and has already started to control since 2005\n",
    "co2_USA_year_max"
   ]
  }
 ],
 "metadata": {
  "kernelspec": {
   "display_name": "Python 3 (ipykernel)",
   "language": "python",
   "name": "python3"
  },
  "language_info": {
   "codemirror_mode": {
    "name": "ipython",
    "version": 3
   },
   "file_extension": ".py",
   "mimetype": "text/x-python",
   "name": "python",
   "nbconvert_exporter": "python",
   "pygments_lexer": "ipython3",
   "version": "3.9.7"
  },
  "latex_metadata": {
   "author": "PD Dr. Markus Röllig,\nDr. Christof Buchbender,\nCraig Yanitski",
   "title": "Data Analysis in Astronomy and Astrophysics  |  SoSe20"
  }
 },
 "nbformat": 4,
 "nbformat_minor": 4
}
