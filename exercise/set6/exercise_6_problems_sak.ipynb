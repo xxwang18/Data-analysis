{
 "cells": [
  {
   "cell_type": "markdown",
   "metadata": {},
   "source": [
    "# Exercise Set 6\n",
    "\n",
    "Due: **9:30 16 May 2022**\n",
    "\n",
    "Discussion: **13:00 20 May 2022**\n",
    "\n",
    "**Online submission** at via [ILIAS](https://www.ilias.uni-koeln.de/ilias/goto_uk_exc_4593683.html) in the directory Exercises / Übungen -> Submission of Exercises / Rückgabe des Übungsblätter"
   ]
  },
  {
   "cell_type": "code",
   "execution_count": 7,
   "metadata": {},
   "outputs": [],
   "source": [
    "import numpy as np\n",
    "from math import sqrt\n",
    "from scipy.stats import t\n",
    "import scipy.stats as stats\n",
    "import matplotlib.pyplot as plt"
   ]
  },
  {
   "cell_type": "markdown",
   "metadata": {},
   "source": [
    "# 1. *Kepler* [60 points]"
   ]
  },
  {
   "cell_type": "markdown",
   "metadata": {},
   "source": [
    "The [*Kepler* mission](https://keplerscience.arc.nasa.gov/science.html) was a planet-hunting mission from 2009-2018, during which time it observed thousands of stars to search for periodic variability."
   ]
  },
  {
   "cell_type": "markdown",
   "metadata": {},
   "source": [
    " > **a)** *Kepler* observed 306604 stars in its lifetime, 3664 of which were identified as candidates for hosting a planet. In total, there were 9564 planet candidates (called Kepler Objects of Interest or KOI) including 4847 false positives. Assume that an object identified as a candidate by *Kepler* has a 50% chance of being a false positive if we account the relevant physics. Do the results from *Kepler* suggest that we accounted for all of the physics? What are the null and alternative hypotheses? Make the relevant plots, including the shaded regions of interest. **30 points**"
   ]
  },
  {
   "cell_type": "markdown",
   "metadata": {},
   "source": [
    "**Null Hypothesis**, $H_0$ : All of the physics has been accounted for. i.e. Probability of false positives, p=0.5000\n",
    "\n",
    "**Alternate Hypothesis**, $H_A$ : All of the physics has not been accounted for. i.e. Probability of false positives, p>0.5000 or p<0.5000"
   ]
  },
  {
   "cell_type": "markdown",
   "metadata": {},
   "source": [
    "**Check for Conditions**\n",
    "\n",
    "*1)*  Sampled objects are random and less than 10% of the objects in space.\n",
    "\n",
    "*2)* np = 9564*0.5 = 4782 $>$ 10"
   ]
  },
  {
   "cell_type": "markdown",
   "metadata": {},
   "source": [
    "Given observation (Proportion of false positives in 9564 candidates): \n",
    "$$ \\bar{p} = 4847/9564 = 0.5068 $$\n",
    "The observed values of this proportion are distributed as a Gaussian:\n",
    "$$ \\bar{p} \\approx \\mathcal{N} \\bigg( mean = 0.5, SE = \\sqrt{\\dfrac{0.5\\times 0.5}{9564}}  = 0.0051\\bigg)$$\n",
    "Z-score for the observed proportion:\n",
    "$$ Z = \\dfrac{0.5068-0.5000}{0.0051} = 1.33$$\n",
    "Two-tailed p-value:\n",
    "$$ p-value = \\mathcal{P}(Z > 1.33) - \\mathcal{P}(Z<-1.33) = ? $$"
   ]
  },
  {
   "cell_type": "markdown",
   "metadata": {},
   "source": [
    "**Check for Conditions**\n",
    "\n",
    "*1)*  Sampled objects are less than 10% of the objects in space.\n",
    "\n",
    "*2)* np = 9564*0.5 = 4782 $\\ge$ 10"
   ]
  },
  {
   "cell_type": "code",
   "execution_count": 36,
   "metadata": {},
   "outputs": [
    {
     "name": "stdout",
     "output_type": "stream",
     "text": [
      "Two tailed p-value for Z-score of 1.33 =  0.18351827130056153\n"
     ]
    },
    {
     "data": {
      "text/plain": [
       "Text(0.488217, 10, 'p=0.1835')"
      ]
     },
     "execution_count": 36,
     "metadata": {},
     "output_type": "execute_result"
    },
    {
     "data": {
      "image/png": "[encoded data removed]",
      "text/plain": [
       "<Figure size 432x288 with 1 Axes>"
      ]
     },
     "metadata": {
      "needs_background": "light"
     },
     "output_type": "display_data"
    }
   ],
   "source": [
    "pval = 2*scipy.stats.norm.sf(abs(1.33))\n",
    "print(\"Two tailed p-value for Z-score of 1.33 = \", pval)\n",
    "x = np.arange(0.475, 0.525, 0.0001)\n",
    "plt.title(r\"Distribution of $\\bar{p}$\")\n",
    "plt.xlabel(r'$\\bar{p}$')\n",
    "plt.ylabel(r\"Prob($\\bar{p}$)\")\n",
    "plt.plot(x, stats.norm.pdf(x, 0.5, 0.0051))\n",
    "plt.fill_between(x=np.arange(0.5068,0.525,0.0001), y1 = stats.norm.pdf(np.arange(0.5068,0.525,0.0001),0.5,0.0051),facecolor ='red',alpha =0.35)\n",
    "plt.fill_between(x=np.arange(0.475,0.5-(1.33*0.0051),0.0001), y1 = stats.norm.pdf(np.arange(0.475,0.5-(1.33*0.0051),0.0001),0.5,0.0051),facecolor ='red',alpha =0.35)\n",
    "plt.text(x=0.506,y=10,s='p='+str(round(pval,4)))\n",
    "plt.text(x=0.5-(1.33*0.0051)-0.005,y=10,s='p='+str(round(pval,4)))"
   ]
  },
  {
   "cell_type": "markdown",
   "metadata": {},
   "source": [
    "$$ \\text{Two-tailed } p-value = \\mathcal{P}(Z > 1.33)- \\mathcal{P}(Z<-1.33) \\approx 0.18 $$\n",
    "\n",
    "Since $ p-value > 0.05 $, we do not reject the null hypothesis. So, the results from Kepler does suggest that we accounted for all the relevant physics."
   ]
  },
  {
   "cell_type": "markdown",
   "metadata": {},
   "source": [
    " > **b)** *Kepler* observed 8 planets within the habitable zone. Knowing that 6 of these planets orbit Sun-like stars while the others orbit red dwarfs, can you determine if a correlation must exist between stellar type and the occurance of an Earth-analogue planet? Show the simulation results. What is the probability of observing the planets we did? **30 points**"
   ]
  },
  {
   "cell_type": "markdown",
   "metadata": {},
   "source": [
    "# 2. Small sample proportions [40 points]"
   ]
  },
  {
   "cell_type": "markdown",
   "metadata": {},
   "source": [
    "There was a survey to determine if people were satisfied with their life, and it cross-referenced this with their income. The data is as follows:\n",
    "\n",
    "| **GDP**     | less than €5000 | between €5000 and €50000 | more than €50000 |\n",
    "| ----------: | ---------------: | -------------------------: | ----------------: |\n",
    "| Satisfied   | 18               | 62                         | 6                 |\n",
    "| Unsatisfied | 20               | 34                         | 3                 |\n",
    "\n",
    "Use a $\\chi^2$ test to determine if there is a correlation between income and general life satisfaction. Make the relevant plots. **40 points**"
   ]
  }
 ],
 "metadata": {
  "kernelspec": {
   "display_name": "Python 3 (ipykernel)",
   "language": "python",
   "name": "python3"
  },
  "language_info": {
   "codemirror_mode": {
    "name": "ipython",
    "version": 3
   },
   "file_extension": ".py",
   "mimetype": "text/x-python",
   "name": "python",
   "nbconvert_exporter": "python",
   "pygments_lexer": "ipython3",
   "version": "3.9.7"
  }
 },
 "nbformat": 4,
 "nbformat_minor": 4
}
