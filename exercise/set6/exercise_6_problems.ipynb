{
 "cells": [
  {
   "cell_type": "markdown",
   "metadata": {},
   "source": [
    "# Exercise Set 6\n",
    "\n",
    "Due: **9:30 16 May 2022**\n",
    "\n",
    "Discussion: **13:00 20 May 2022**\n",
    "\n",
    "**Online submission** at via [ILIAS](https://www.ilias.uni-koeln.de/ilias/goto_uk_exc_4593683.html) in the directory Exercises / Übungen -> Submission of Exercises / Rückgabe des Übungsblätter"
   ]
  },
  {
   "cell_type": "markdown",
   "metadata": {},
   "source": [
    "# 1. *Kepler* [60 points]"
   ]
  },
  {
   "cell_type": "markdown",
   "metadata": {},
   "source": [
    "The [*Kepler* mission](https://keplerscience.arc.nasa.gov/science.html) was a planet-hunting mission from 2009-2018, during which time it observed thousands of stars to search for periodic variability."
   ]
  },
  {
   "cell_type": "markdown",
   "metadata": {},
   "source": [
    " > **a)** *Kepler* observed 306604 stars in its lifetime, 3664 of which were identified as candidates for hosting a planet. In total, there were 9564 planet candidates (called Kepler Objects of Interest or KOI) including 4847 false positives. Assume that an object identified as a candidate by *Kepler* has a 50% chance of being a false positive if we account the relevant physics. Do the results from *Kepler* suggest that we accounted for all of the physics? What are the null and alternative hypotheses? Make the relevant plots, including the shaded regions of interest. **30 points**"
   ]
  },
  {
   "cell_type": "code",
   "execution_count": 1,
   "metadata": {},
   "outputs": [
    {
     "data": {
      "text/plain": [
       "4717"
      ]
     },
     "execution_count": 1,
     "metadata": {},
     "output_type": "execute_result"
    }
   ],
   "source": [
    "9564-4847"
   ]
  },
  {
   "cell_type": "markdown",
   "metadata": {},
   "source": [
    "* Do the results from Kepler suggest that we accounted for all of the physics?\n",
    "\n",
    "    No. Due to the selection effectthe results from Kepler is only what he can observe, which cannot represent the whole universe."
   ]
  },
  {
   "cell_type": "markdown",
   "metadata": {},
   "source": [
    "* What are the null and alternative hypotheses? \n",
    "\n",
    "    Null hypothese $H_0:$ the chance of being a false positve is 50%,Prob(being a posive) = 50%\n",
    "\n",
    "    Alternative hypothese $H_a$ the chance of being a false positve is not 50%,Prob(being a posive) $\\neq$ 50%\n",
    "    \n",
    "    $p = 0.5 $, n =9564, $\\overline{p} =\\frac{4847}{9564}=0.5068 $\n",
    "    $ SE = \\sqrt{\\frac{p \\times (1-p)}{n}} = \\sqrt{\\frac{ 0.5068 \\times (1-0.5068)}{9564} }=0.0051$"
   ]
  },
  {
   "cell_type": "markdown",
   "metadata": {},
   "source": [
    "* Make the relevant plots, including the shaded regions of interest. "
   ]
  },
  {
   "cell_type": "code",
   "execution_count": 58,
   "metadata": {},
   "outputs": [
    {
     "name": "stdout",
     "output_type": "stream",
     "text": [
      "The standard error is 0.0051\n",
      "t_value is -1.3293\n",
      "p_value_2tails is 0.18374844513360278\n"
     ]
    },
    {
     "data": {
      "text/plain": [
       "Text(0.5, 1.0, 'Norm distribution with $\\\\mu = p = 0.5$, $\\\\sigma =SE = \\\\sqrt{\\\\frac{p\\\\times (1-p)}{n}}$ = 0.0051')"
      ]
     },
     "execution_count": 58,
     "metadata": {},
     "output_type": "execute_result"
    },
    {
     "data": {
      "image/png": "[encoded data removed]",
      "text/plain": [
       "<Figure size 432x288 with 1 Axes>"
      ]
     },
     "metadata": {
      "needs_background": "light"
     },
     "output_type": "display_data"
    }
   ],
   "source": [
    "from math import sqrt\n",
    "from scipy.stats import norm\n",
    "import matplotlib.pyplot as plt\n",
    "import numpy as np\n",
    "\n",
    "n =9564\n",
    "p_bar = 4847/9564\n",
    "p = 0.5\n",
    "\n",
    "SE=sqrt(p*(1-p)/n)\n",
    "t_value = (p-p_bar)/SE\n",
    "p_value = norm.cdf(t_value)\n",
    "p_value_2tails = 2*p_value \n",
    "\n",
    "print('The standard error is '+str(round(SE,4)))\n",
    "print('t_value is ' +str(round(t_value,4)))\n",
    "print('p_value_2tails is '+str(p_value_2tails))\n",
    "x=np.arange(0.46,0.55,0.0001)\n",
    "plt.plot(x,norm.pdf(x,loc=p,scale = SE))\n",
    "plt.fill_between(x=np.arange(0.46,2*p-p_bar,0.0001), y1 = norm.pdf(np.arange(0.46,2*p-p_bar,0.0001),loc=p,scale = SE) ,facecolor ='red',alpha =0.35)\n",
    "plt.fill_between(x=np.arange(p_bar,0.55,0.0001), y1 = norm.pdf(np.arange(p_bar,0.55,0.0001),loc=p,scale = SE) ,facecolor ='red',alpha =0.35)\n",
    "plt.text(x=0.48,y=10,s='p='+str(round(p_value,4)))\n",
    "plt.text(x=0.50,y=10,s='p='+str(round(p_value,4)))\n",
    "plt.xlabel(r'$\\overline {p}$')\n",
    "plt.ylabel('probability density')\n",
    "plt.title(r'Norm distribution with $\\mu = p = 0.5$, $\\sigma =SE = \\sqrt{\\frac{p\\times (1-p)}{n}}$ = '+str(round(SE,4)))"
   ]
  },
  {
   "cell_type": "markdown",
   "metadata": {},
   "source": [
    " > **b)** *Kepler* observed 8 planets within the habitable zone. Knowing that 6 of these planets orbit Sun-like stars while the others orbit red dwarfs, can you determine if a correlation must exist between stellar type and the occurance of an Earth-analogue planet? Show the simulation results. What is the probability of observing the planets we did? **30 points**"
   ]
  },
  {
   "cell_type": "markdown",
   "metadata": {},
   "source": [
    "| **planets**          |  orbit Sun-like stars    |   orbit red dwarfs\n",
    "| ----------  :         | ---------------:       | -------------------------:  \n",
    "| Earth-analouge planet    | 6                 | 2                                   |\n",
    "| Non-earth-analouge planet | 3664               | 0                         "
   ]
  },
  {
   "cell_type": "markdown",
   "metadata": {},
   "source": [
    "\n",
    "• Correctly identify the null hypothesis (no correlation)\n",
    "\n",
    "• Perform simulation for a large sset of samples\n",
    "\n",
    "• Plot distribution\n",
    "\n",
    "• Correcly label axes\n",
    "\n",
    "• Directly calculate the probability of observing 6 planets orbiting Sun-like stars"
   ]
  },
  {
   "cell_type": "markdown",
   "metadata": {},
   "source": [
    "# 2. Small sample proportions [40 points]"
   ]
  },
  {
   "cell_type": "markdown",
   "metadata": {},
   "source": [
    "There was a survey to determine if people were satisfied with their life, and it cross-referenced this with their income. The data is as follows:\n",
    "\n",
    "| **GDP**     | less than €5000 | between €5000 and €50000 | more than €50000 |\n",
    "| ----------: | ---------------: | -------------------------: | ----------------: |\n",
    "| Satisfied   | 18               | 62                         | 6                 |\n",
    "| Unsatisfied | 20               | 34                         | 3                 |\n",
    "\n",
    "Use a $\\chi^2$ test to determine if there is a correlation between income and general life satisfaction. Make the relevant plots. **40 points**"
   ]
  },
  {
   "cell_type": "code",
   "execution_count": null,
   "metadata": {},
   "outputs": [],
   "source": []
  }
 ],
 "metadata": {
  "kernelspec": {
   "display_name": "Python 3 (ipykernel)",
   "language": "python",
   "name": "python3"
  },
  "language_info": {
   "codemirror_mode": {
    "name": "ipython",
    "version": 3
   },
   "file_extension": ".py",
   "mimetype": "text/x-python",
   "name": "python",
   "nbconvert_exporter": "python",
   "pygments_lexer": "ipython3",
   "version": "3.9.7"
  }
 },
 "nbformat": 4,
 "nbformat_minor": 4
}
