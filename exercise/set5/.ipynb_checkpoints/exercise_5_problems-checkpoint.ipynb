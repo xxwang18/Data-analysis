{
 "cells": [
  {
   "cell_type": "markdown",
   "metadata": {},
   "source": [
    "# Exercise Set 5\n",
    "\n",
    "Submission by: Mahak Sadhwani, Xiongxiao Wang, Sakshi Pahujani\n",
    "\n",
    "Due: **9:30 9 May 2022**\n",
    "\n",
    "Discussion: **13:00 13 May 2022**\n",
    "\n",
    "**Online submission** at via [ILIAS](https://www.ilias.uni-koeln.de/ilias/goto_uk_exc_4593683.html) in the directory Exercises / Übungen -> Submission of Exercises / Rückgabe des Übungsblätter"
   ]
  },
  {
   "cell_type": "markdown",
   "metadata": {},
   "source": [
    "# 1. Parametric tests: mean [100 points]"
   ]
  },
  {
   "cell_type": "markdown",
   "metadata": {},
   "source": [
    "A very common question arises when we have two sets of data (or one set of data and a model) and we ask if they differ in location. To contrast the classical and Bayesian methods for hypothesis testing, we look at the simple case of comparison of means. We deal with a Gaussian distribution, because its analytical tractability has resulted in many tests being developed for Gaussian data; and then, of course, there is the central limit theorem.\n",
    "\n",
    "Let us suppose we have $n$ data $X_i$ drawn from a Gaussian of mean $\\mu_x$, and $m$ other data $Y_i$, drawn from a Gaussian of **identical variance** but different mean $\\mu_y$. Call the common variance $\\sigma^2$. The Bayesian method is to calculate the joint posterior distribution:\n",
    "\n",
    "$$ \\mathcal{P}(\\mu_x,\\mu_y,\\sigma)\\propto\\dfrac{1}{\\sigma^{n+m+1}}\\exp\\left(-\\dfrac{\\Sigma_i (x_i-\\mu_x)^2}{2\\sigma^2}\\right)\\exp\\left(-\\dfrac{\\Sigma_i (y_i-\\mu_y)^2}{2\\sigma^2}\\right) $$\n",
    "\n",
    "in which we have used the Jeffreys prior for the variance. Integrating over the 'nuisance' parameter $\\sigma$, we would get the joint probability prob($\\mu_x,\\mu_y$) and could use it to derive, for example, the probability that $\\mu_x$ is bigger than $\\mu_y$. From this we can calculate the probability distribution of ($\\mu_x-\\mu_y$). The result depends on the data via a quantity\n",
    "\n",
    "$$ t^\\prime = \\dfrac{(\\mu_x-\\mu_y)-(\\bar{X}-\\bar{Y})}{s\\sqrt{\\frac{1}{m}+\\frac{1}{n}}}, \\qquad \\textrm{where} \\qquad s^2 = \\dfrac{nS_x+mS_y}{\\nu} $$\n",
    "\n",
    "with the usual mean squares $S_x = \\Sigma (X_i-\\bar{X})^2 / n$, similarly for $S_y$, and $\\nu=n+m-2$. $s$ is called pooled standard deviation. The probability for $t^\\prime$ is\n",
    "\n",
    "$$ \\mathcal{P}(t^\\prime) = \\dfrac{\\Gamma\\left(\\frac{\\nu+1}{2}\\right)}{\\sqrt{\\pi\\nu}\\Gamma\\left(\\frac{\\nu}{2}\\right)} \\left(1+\\dfrac{t^{\\prime 2}}{\\nu}\\right)^{-\\frac{1}{2}(\\nu+1)} $$\n",
    "\n",
    "We regard the data as fixed and $(\\mu_x-\\mu_y)$ as the variable, simply computing the probability of any particular difference in the means. We might alternatively work out the range of differences whichare, say, 90 percent probable, or we might carry the distribution of $(\\mu_x-\\mu_y)$ on into a later probabilistic calculation. If we instead follow the classical line of reasoning, we do not treat the $\\mu$'s as random variables. Instead we guess that the difference in the averages $X-Y$ will be the statistic we need; and we calculate its distribution on the null hypothesis that $\\mu_x=\\mu_y$. We find that\n",
    "\n",
    "$$ t=\\dfrac{\\bar{X}-\\bar{Y}}{s\\sqrt{\\frac{1}{m}+\\frac{1}{n}}} $$\n",
    "\n",
    "follows a t-distribution with $(n+m-2)$ degrees of freedom. This is the classical Student's t. This gives the basis of a classical hypothesis test, the t-test for means. Assuming that $(\\mu_x-\\mu_y)=0$ (the null hypothesis), we calculate t. If it (or some greater value) is very unlikely, we think that the null hypothesis is ruled out."
   ]
  },
  {
   "cell_type": "markdown",
   "metadata": {},
   "source": [
    "**a.** Suppose we have two small sets of data, from Gaussian distributions of equal variance: \n",
    "\n",
    "$$\n",
    "(-1.22, -1.17, 0.93, -0.58, -1.14) \\in A,\n",
    "$$\n",
    "\n",
    "and,\n",
    "\n",
    "$$\n",
    "(1.03, -1.59, -0.41, 0.71, 2.10) \\in B.\n",
    "$$ \n",
    "\n",
    "Compute the respective mean values and the pooled standard deviation $s$ **10 Points**"
   ]
  },
  {
   "cell_type": "code",
   "execution_count": 1,
   "metadata": {},
   "outputs": [
    {
     "name": "stdout",
     "output_type": "stream",
     "text": [
      "mean of A = -0.6359999999999999 mean of B = 0.368  nu= 8\n",
      "std of A = 0.8167888343996874 std of B = 1.264442960358434\n",
      "pooled std s = 1.1405129862144603\n"
     ]
    }
   ],
   "source": [
    "import numpy as np\n",
    "from math import sqrt\n",
    "from scipy.stats import t\n",
    "import matplotlib.pyplot as plt\n",
    "\n",
    "A = np.array((-1.22, -1.17, 0.93, -0.58, -1.14))\n",
    "B = np.array((1.03, -1.59, -0.41, 0.71, 2.10))\n",
    "nu = len(A)+len(B)-2\n",
    "print('mean of A =',A.mean(),'mean of B =',B.mean(),' nu=',nu)\n",
    "print('std of A =',A.std(),'std of B =',B.std())\n",
    "s=sqrt((A.std()*len(A)+B.std()*len(B))/nu)\n",
    "print('pooled std s =',s)"
   ]
  },
  {
   "cell_type": "markdown",
   "metadata": {},
   "source": [
    "The mean value of set A is $\\overline{A} = \\frac{\\sum_{i=1}^n a_{i}}{n} =-0.636$, the standard deviation is $S_a = 0.817$\n",
    "\n",
    "The mean value of Set B is $\\overline{B} = \\frac{\\sum_{i=1}^m b_{i}}{m} =0.368$, the standard deviation is $S_b = 1.264$\n",
    "\n",
    "The degree of freedom $\\nu = m+n-2 = 8$\n",
    "\n",
    "The pooled standard deviation $s=\\sqrt{\\frac{n.S_a+m.S_b}{\\nu}} = 1.141$"
   ]
  },
  {
   "cell_type": "markdown",
   "metadata": {},
   "source": [
    "**b.** Compute the t statistic. Perform a two tailed test. What is the chance that these data would arise if the means were the same. What is the chance if we did a one-tailed test? **25 Points**"
   ]
  },
  {
   "cell_type": "markdown",
   "metadata": {},
   "source": [
    "Two tailed test:\n",
    "\n",
    "Null Hypothesis $H_0$: $\\mu_x-\\mu_y = 0$\n",
    "\n",
    "Alternative Hypothesis $H_a$: $\\mu_x-\\mu_y \\neq 0$\n",
    "\n",
    "One tailed test:\n",
    "\n",
    "Null Hypothesis $H_0$: $\\mu_x-\\mu_y = 0$\n",
    "\n",
    "Alternative Hypothesis $H_a$: $\\mu_x-\\mu_y \\le 0$"
   ]
  },
  {
   "cell_type": "code",
   "execution_count": 2,
   "metadata": {},
   "outputs": [
    {
     "name": "stdout",
     "output_type": "stream",
     "text": [
      "t_value= -1.391885409979911\n",
      "p_value= 0.10071622535977316 two tailed p_value= 0.20143245071954632\n"
     ]
    },
    {
     "data": {
      "text/plain": [
       "Text(0, 0.5, 'prob')"
      ]
     },
     "execution_count": 2,
     "metadata": {},
     "output_type": "execute_result"
    },
    {
     "data": {
      "image/png": "[encoded data removed]",
      "text/plain": [
       "<Figure size 432x288 with 1 Axes>"
      ]
     },
     "metadata": {
      "needs_background": "light"
     },
     "output_type": "display_data"
    }
   ],
   "source": [
    "t_value = ((A.mean()-B.mean())/(s*sqrt(1/len(A)+1/len(B))))\n",
    "print('t_value=',t_value)\n",
    "p_value = t.cdf(t_value,nu)\n",
    "print('p_value=',p_value,'two tailed p_value=',p_value*2)\n",
    "plt.fill_between(x=np.arange(-4,t_value,0.01), y1 = t.pdf(np.arange(-4,t_value,0.01),nu),facecolor ='red',alpha =0.35)\n",
    "plt.plot(np.arange(-4,4,0.01), t.pdf(np.arange(-4,4,0.01),nu))\n",
    "plt.fill_between(x=np.arange(-t_value,4,0.01), y1 = t.pdf(np.arange(-t_value,4,0.01),nu),facecolor ='red',alpha =0.35)\n",
    "plt.text(x=-2.5, y=0.03, s= 'p='+str(round(p_value,3)))\n",
    "plt.text(x=1.5, y=0.03, s= 'p='+str(round(p_value,3)))\n",
    "plt.title(r't distribution with $\\mu =0,dof = 8$')\n",
    "plt.xlabel('t')\n",
    "plt.ylabel(r'prob')"
   ]
  },
  {
   "cell_type": "markdown",
   "metadata": {},
   "source": [
    "The t value is $t = \\frac{\\overline{A}-\\overline{B}}{s.\\sqrt{\\frac{1}{m}+\\frac{1}{n}}} \\approx -1.392$\n",
    "\n",
    "One tailed p_value is 0.1007, two tailed p_value is 0.2014. \n",
    "\n",
    "The probability that these data would arise if the means were the same is 0.2014\n",
    "\n",
    "The probability for one-tailed test is 0.1007"
   ]
  },
  {
   "cell_type": "markdown",
   "metadata": {},
   "source": [
    "**c.** Calculate the distribution of $(\\mu_x-\\mu_y)$ from a Bayesian point of view and plot the resulting prob($\\mu_x-\\mu_y$) as a function of $(\\mu_x-\\mu_y)$. What is the chance that $\\mu_x$ is not smaller than $\\mu_y$? **25 Points**"
   ]
  },
  {
   "cell_type": "markdown",
   "metadata": {},
   "source": [
    "$$ t^\\prime = \\dfrac{(\\mu_x-\\mu_y)-(\\bar{X}-\\bar{Y})}{s\\sqrt{\\frac{1}{m}+\\frac{1}{n}}}, \\qquad \\textrm{where} \\qquad s^2 = \\dfrac{nS_x+mS_y}{\\nu} $$       \n",
    "\n",
    "$$ \\mathcal{P}(t^\\prime) = \\dfrac{\\Gamma\\left(\\frac{\\nu+1}{2}\\right)}{\\sqrt{\\pi\\nu}\\Gamma\\left(\\frac{\\nu}{2}\\right)} \\left(1+\\dfrac{t^{\\prime 2}}{\\nu}\\right)^{-\\frac{1}{2}(\\nu+1)} $$\n",
    "Using the two given equations, we can get the distribution of $(\\mu_x-\\mu_y)$ from a Bayesian point of view:\n",
    "$$ \\mathcal{P}(\\mu_x-\\mu_y) = \\dfrac{\\Gamma\\left(\\frac{\\nu+1}{2}\\right)}{\\sqrt{\\pi\\nu}\\Gamma\\left(\\frac{\\nu}{2}\\right)} \\left(1+\\dfrac{({\\dfrac{(\\mu_x-\\mu_y)-(\\bar{X}-\\bar{Y})}{s\\sqrt{\\frac{1}{m}+\\frac{1}{n}}}})^2}{\\nu}\\right)^{-\\frac{1}{2}(\\nu+1)} $$"
   ]
  },
  {
   "cell_type": "code",
   "execution_count": 3,
   "metadata": {},
   "outputs": [
    {
     "name": "stdout",
     "output_type": "stream",
     "text": [
      "The probability mu_x not smaller than mu_y is  0.10071622535977309\n"
     ]
    },
    {
     "data": {
      "image/png": "[encoded data removed]",
      "text/plain": [
       "<Figure size 432x288 with 1 Axes>"
      ]
     },
     "metadata": {
      "needs_background": "light"
     },
     "output_type": "display_data"
    }
   ],
   "source": [
    "plt.plot(np.arange(-4,3,0.01), t.pdf(np.arange(-4,3,0.01),nu,loc=A.mean()-B.mean(),scale = s*sqrt(1/len(A)+1/len(B))))\n",
    "plt.fill_between(x=np.arange(0,3,0.01), y1 = t.pdf(np.arange(0,3,0.01),nu,loc=A.mean()-B.mean(),scale = s*sqrt(1/len(A)+1/len(B))),facecolor ='red',alpha =0.35)\n",
    "p_red = 1-t.cdf(0,nu,loc=A.mean()-B.mean(),scale = s*sqrt(1/len(A)+1/len(B)))\n",
    "plt.title('distribution of $(\\mu_x-\\mu_y)$ with $\\mu =$'+str(A.mean()-B.mean())+' dof ='+str(nu))\n",
    "plt.xlabel('$\\mu_x-\\mu_y$')\n",
    "plt.ylabel(r'$prob(\\mu_x-\\mu_y)$')\n",
    "plt.text(x=-0.2,y=0.05,s='p='+str(round(p_red,4)))\n",
    "print('The probability mu_x not smaller than mu_y is ',p_red)"
   ]
  },
  {
   "cell_type": "markdown",
   "metadata": {},
   "source": [
    "**d.** By analogous calculations we arrive at the F test for variances. Again Gaussian distributions are assumed. The null hypothesis is $\\sigma_x=\\sigma_y$, the data are $X_i (i=1,\\ldots,n)$ and $Y_i (i=1,\\ldots,m)$ and the test statistic is,"
   ]
  },
  {
   "cell_type": "markdown",
   "metadata": {},
   "source": [
    "$${\\cal F} = \\dfrac{\\Sigma_i\\left(X_i-\\bar{X}\\right)^2/(n-1)}{\\Sigma_i\\left(Y_i-\\bar{Y}\\right)^2/(m-1)}$$"
   ]
  },
  {
   "cell_type": "markdown",
   "metadata": {},
   "source": [
    "This follows the F ratio distribution with $(n-1)$ and $(m-1)$ degrees of freedom. The testing is the as for the Student's t. Perform a test whether the variances of the two data sets are the same. **40 Points**"
   ]
  },
  {
   "cell_type": "markdown",
   "metadata": {},
   "source": [
    "Null Hypothesis $H_0$:  $\\sigma_x=\\sigma_y$\n",
    "\n",
    "Alternative Hypothesis $H_a$: $\\sigma_x \\neq \\sigma_y$\n",
    "\n",
    "We set $\\alpha = 0.05$"
   ]
  },
  {
   "cell_type": "code",
   "execution_count": 5,
   "metadata": {},
   "outputs": [
    {
     "name": "stdout",
     "output_type": "stream",
     "text": [
      "The value of F is  0.41727378259912323  The value of probability is  0.7909930575941863\n"
     ]
    },
    {
     "data": {
      "text/plain": [
       "Text(0, 0.5, 'prob')"
      ]
     },
     "execution_count": 5,
     "metadata": {},
     "output_type": "execute_result"
    },
    {
     "data": {
      "image/png": "[encoded data removed]",
      "text/plain": [
       "<Figure size 432x288 with 1 Axes>"
      ]
     },
     "metadata": {
      "needs_background": "light"
     },
     "output_type": "display_data"
    }
   ],
   "source": [
    "from scipy.stats import f\n",
    "\n",
    "F_num = A.var()*len(A)/(len(A)-1)\n",
    "F_den = B.var()*len(B)/(len(B)-1)\n",
    "F=F_num/F_den\n",
    "\n",
    "p_value_f = 1-f.cdf(F,len(A)-1,len(B)-1)\n",
    "print('The value of F is ',F,' The value of probability is ',p_value_f)\n",
    "plt.plot(np.arange(-1,6,0.01),f.pdf(np.arange(-1,6,0.01),len(A)-1,len(B)-1))\n",
    "plt.fill_between(x=np.arange(F,6,0.01),y1=f.pdf(np.arange(F,6,0.01),len(A)-1,len(B)-1),facecolor ='red',alpha =0.35)\n",
    "plt.title('F distribution with dofs 4,4')\n",
    "plt.text(x=1,y=0.1,s='p='+str(round(p_value_f,4)))\n",
    "plt.xlabel('F')\n",
    "plt.ylabel('prob')"
   ]
  },
  {
   "cell_type": "markdown",
   "metadata": {},
   "source": [
    "Decision:\n",
    "\n",
    "Fail to reject the null hypothesis because P_value_f > $\\alpha$, we still choose to belive $H_0$:  $\\sigma_x=\\sigma_y$"
   ]
  }
 ],
 "metadata": {
  "kernelspec": {
   "display_name": "Python 3 (ipykernel)",
   "language": "python",
   "name": "python3"
  },
  "language_info": {
   "codemirror_mode": {
    "name": "ipython",
    "version": 3
   },
   "file_extension": ".py",
   "mimetype": "text/x-python",
   "name": "python",
   "nbconvert_exporter": "python",
   "pygments_lexer": "ipython3",
   "version": "3.9.7"
  }
 },
 "nbformat": 4,
 "nbformat_minor": 4
}
