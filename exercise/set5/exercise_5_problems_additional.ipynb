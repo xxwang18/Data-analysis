{
 "cells": [
  {
   "cell_type": "markdown",
   "id": "b102439e-4ced-4ee2-97bb-2b0f5a2f198f",
   "metadata": {},
   "source": [
    "# Student's t-test and outliers"
   ]
  },
  {
   "cell_type": "markdown",
   "id": "6c0235a8-da77-4dbf-836f-26c7bdb52b06",
   "metadata": {},
   "source": [
    "We build up on what we learned in the previous problem. Since we are working on larger amounts of data you need to set up scripts/programs to perform the computations repeatedly."
   ]
  },
  {
   "cell_type": "markdown",
   "id": "b2e883a5-50cc-4629-b725-8d214b65fc18",
   "metadata": {},
   "source": [
    "**a)** Create two datasets. We compare the dataset A and B to investigate whether the mean values of dataset A and B are different. **15 Points**\n",
    "\n",
    " - Dataset A : 200 sets of 10 random numbers, drawn from a Gaussian of unit variance\n",
    "\n",
    " - Dataset B : 200 sets of 10 random numbers, drawn from a combination of two Gaussians - the dominant one of unit variance and the other three times wider. Prepare six cases from no contamination to 50% contaminations with a step of 10%.\n",
    "\n",
    "*Hint:* Start with all Gaussians having zero mean."
   ]
  },
  {
   "cell_type": "code",
   "execution_count": 13,
   "id": "a729c623",
   "metadata": {},
   "outputs": [
    {
     "name": "stdout",
     "output_type": "stream",
     "text": [
      "0:  The mean of A =-0.027774934485099795 The mean of B =-0.11966304958989689\n",
      "0.1:  The mean of A =0.09344670366155279 The mean of B =0.012941808089738107\n",
      "0.2:  The mean of A =0.20614703478722046 The mean of B =0.008411576574673908\n",
      "0.3:  The mean of A =0.31201969327102774 The mean of B =0.02689072368884347\n",
      "0.4:  The mean of A =0.3874143941518135 The mean of B =-0.0154966169824967\n",
      "0.5:  The mean of A =0.5165699583949795 The mean of B =0.1298289712765332\n"
     ]
    }
   ],
   "source": [
    "import numpy as np\n",
    "from scipy import stats\n",
    "import matplotlib.pyplot as plt\n",
    "\n",
    "mu = [0,0.1,0.2,0.3,0.4,0.5]\n",
    "dif_mean = []\n",
    "SE=np.zeros(6)\n",
    "i = 0\n",
    "for m in mu:\n",
    "\n",
    "    A = np.random.normal(m,1,size = (200,10))\n",
    "    B1 = np.random.normal(0,1,size=(200,10))\n",
    "    B2 = np.random.normal(0,3,size=(200,10))\n",
    "    B=B1+B2\n",
    "    dif = A-B\n",
    "    dif_mean.append(A.mean()-B.mean())\n",
    "    print(str(m)+':  The mean of A ='+str(A.mean()), 'The mean of B ='+ str(B.mean()))\n",
    "    SE[i] =stats.sem(dif,axis=None,ddof=0)\n",
    "    i+=1"
   ]
  },
  {
   "cell_type": "markdown",
   "id": "f05f3b4c",
   "metadata": {},
   "source": [
    "Null Hypyothesis: $H_0: \\mu_A -\\mu_B= 0 $\n",
    "\n",
    "Alternative Hypothesis: $H_a: \\mu_A -\\mu_B \\neq 0$\n",
    "\n",
    "$$z_{value} = \\frac{(\\overline A-\\overline B)}{SE}$$\n"
   ]
  },
  {
   "cell_type": "code",
   "execution_count": 2,
   "id": "010a8a8b",
   "metadata": {},
   "outputs": [
    {
     "data": {
      "text/plain": [
       "array([0.07542078, 0.07334422, 0.07439175, 0.07472165, 0.075315  ,\n",
       "       0.07262976])"
      ]
     },
     "execution_count": 2,
     "metadata": {},
     "output_type": "execute_result"
    }
   ],
   "source": [
    "SE"
   ]
  },
  {
   "cell_type": "code",
   "execution_count": 17,
   "id": "65db6479",
   "metadata": {},
   "outputs": [
    {
     "data": {
      "text/plain": [
       "array([1.22349383, 1.11908928, 2.64554251, 3.83841192, 5.53822945,\n",
       "       5.30307819])"
      ]
     },
     "execution_count": 17,
     "metadata": {},
     "output_type": "execute_result"
    }
   ],
   "source": [
    "z_value = np.zeros(6)\n",
    "p_value = np.zeros(6)\n",
    "for i in range(6):\n",
    "    z_value[i] = dif_mean[i]/SE[i]\n",
    "    p_value[i] = 1-stats.norm.cdf(z_value[i],scale=SE[i])\n",
    "z_value"
   ]
  },
  {
   "cell_type": "code",
   "execution_count": 25,
   "id": "b0aae6be",
   "metadata": {},
   "outputs": [
    {
     "data": {
      "image/png": "[encoded data removed]",
      "text/plain": [
       "<Figure size 432x288 with 6 Axes>"
      ]
     },
     "metadata": {
      "needs_background": "light"
     },
     "output_type": "display_data"
    }
   ],
   "source": [
    "x = np.arange(-6, 6, 0.01)\n",
    "p_value=[]\n",
    "fig, axs= plt.subplots(6)\n",
    "for i in range(6): \n",
    "    y=stats.norm.pdf(x, 0, SE[i])\n",
    "    x1 = np.arange(-6,-z_value[i],0.01)\n",
    "    x2 = np.arange(z_value[i],6,0.01)\n",
    "    y1= stats.norm.pdf(x1, 0, SE[i])\n",
    "    y2= stats.norm.pdf(x2, 0, SE[i])\n",
    "    axs[i].plot(x,y)\n",
    "    axs[i].fill_between(x=x1, y1=y1)\n",
    "    axs[i].fill_between(x=x2, y1=y2)\n",
    "    "
   ]
  },
  {
   "cell_type": "markdown",
   "id": "e3041a3f",
   "metadata": {},
   "source": [
    "**b)** Perform a t test on sets of 10 observations and investigate what happens as contamination from the wide Gaussian is increased. Compare the effect on the posterior distribution of the difference of the means. **15 Points**\n",
    "\n",
    "*Hint:* Calculate for each dataset the significance level of some fixed presumed difference in the means. Plot histogram and CDF of the derived significant levels for different contamination cases."
   ]
  },
  {
   "cell_type": "markdown",
   "id": "5c9d77c3-0268-40ab-905a-19470e122b60",
   "metadata": {},
   "source": [
    "**c.** Now shift the narrow Gaussian in dataset B by half a unit, and repeat the experiment. What effect do the outliers have on our ability to refute the null hypothesis? **15 Points**"
   ]
  },
  {
   "cell_type": "markdown",
   "id": "5b4517b2-e86b-4371-9563-3cbe63417d30",
   "metadata": {},
   "source": [
    "**d.** Analyse the same problem with the Bayesian approach. **15 Points**"
   ]
  }
 ],
 "metadata": {
  "kernelspec": {
   "display_name": "Python 3 (ipykernel)",
   "language": "python",
   "name": "python3"
  },
  "language_info": {
   "codemirror_mode": {
    "name": "ipython",
    "version": 3
   },
   "file_extension": ".py",
   "mimetype": "text/x-python",
   "name": "python",
   "nbconvert_exporter": "python",
   "pygments_lexer": "ipython3",
   "version": "3.9.7"
  }
 },
 "nbformat": 4,
 "nbformat_minor": 5
}
