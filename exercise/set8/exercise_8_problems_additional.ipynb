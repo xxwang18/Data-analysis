{
 "cells": [
  {
   "cell_type": "markdown",
   "id": "7e035c7f-3987-4796-8e9a-83574048ccda",
   "metadata": {},
   "source": [
    "# Combining Distributions [10 points]"
   ]
  },
  {
   "cell_type": "markdown",
   "id": "85354a6f-33a1-4060-97b9-6a8b6f17f16e",
   "metadata": {},
   "source": [
    "Let us define two gaussian distributions $x$ and $y$ with zero mean and standard deviation $\\sigma_x$ and $\\sigma_y.$ Make a plot to show how the quotient of these, $z=\\frac{x}{y}$, changes with $\\sigma_y.$ Assume $\\sigma_x=1$ and $\\sigma_y \\in [0.25, 0.5, 1, 2, 4].$ What is the equation you must solve numerically? **10 points**"
   ]
  },
  {
   "cell_type": "code",
   "execution_count": 23,
   "id": "2b6c73a4-6c6f-4a3b-a21d-a2e4a8a384ac",
   "metadata": {},
   "outputs": [
    {
     "data": {
      "image/png": "[encoded data removed]",
      "text/plain": [
       "<Figure size 432x360 with 4 Axes>"
      ]
     },
     "metadata": {
      "needs_background": "light"
     },
     "output_type": "display_data"
    }
   ],
   "source": [
    "import numpy as np\n",
    "import matplotlib.pyplot as plt\n",
    "\n",
    "mu = 0\n",
    "sigma_x = 1\n",
    "sigma_y_list = [0.25,0.5,1,2,4]\n",
    "\n",
    "x = np.random.normal(mu,sigma_x,1000)\n",
    "fig, axs = plt.subplots(2,2,sharex =True, sharey = True ,figsize =(6,5))\n",
    "i = 0\n",
    "j = 0\n",
    "for sigma_y in sigma_y_list:\n",
    "\n",
    "    y = np.random.normal(mu,sigma_y,1000)\n",
    "    z = x/y\n",
    "    axs[i][j].hist(z , bins = 40, density =2)\n",
    "    if i == 0:\n",
    "        j = 1\n",
    "    \n",
    "    if j == 1:\n",
    "        i = 1\n",
    "    \n",
    "    if i == 1 and j == 0:\n",
    "        j = 1"
   ]
  },
  {
   "cell_type": "markdown",
   "id": "d7f452f2-c7c2-414c-9103-4d0edb9eff8b",
   "metadata": {},
   "source": [
    "# Distribution of Maxima [10 points]"
   ]
  },
  {
   "cell_type": "markdown",
   "id": "1aa2cfe0-2d8a-447a-81a0-30671695d71d",
   "metadata": {},
   "source": [
    "A mass spectrum for interstellar gas is a trend that gives the relative abundance of clumps as a function of clump mass. The basic for is,\n",
    "\n",
    "$$\n",
    "\\frac{d\\mathcal{N}}{dM} = A M^{-\\alpha}\n",
    "$$\n",
    "\n",
    "where $A$ is a normalising constant and $\\alpha=1.8$. If we claim that clumps can range in mass from $1 M_\\odot$ to $100 M_\\odot$, what is the probability distribution of maxima for sample sizes $N \\in [10, 50, 100, 200]$? Take 1000 samples for create the distribution. **10 points**\n",
    "\n",
    " > *Note*: a clump in this sense is merely gas which is gravitationally bound and has homogeneous density"
   ]
  },
  {
   "cell_type": "code",
   "execution_count": 26,
   "id": "7d154e94-a3d8-49b2-b310-ef3f0fa3b2d1",
   "metadata": {},
   "outputs": [
    {
     "name": "stdout",
     "output_type": "stream",
     "text": [
      "1.2358035409351071\n"
     ]
    }
   ],
   "source": [
    "alpha = 1.8\n",
    "\n",
    "N = [10,50,100,200]\n",
    "\n",
    "dM = np.linspace(1,100,10000)\n",
    "A = 1\n",
    "Nm = 0\n",
    "dm = 0.01\n",
    "for M in dM:\n",
    "    Nm+=A*M**(-alpha)*dm\n",
    "print(Nm)\n",
    "\n",
    "\n"
   ]
  },
  {
   "cell_type": "code",
   "execution_count": null,
   "id": "7c883ee1-e8b1-45b9-8269-284b7064f6ce",
   "metadata": {},
   "outputs": [],
   "source": []
  }
 ],
 "metadata": {
  "kernelspec": {
   "display_name": "Python 3 (ipykernel)",
   "language": "python",
   "name": "python3"
  },
  "language_info": {
   "codemirror_mode": {
    "name": "ipython",
    "version": 3
   },
   "file_extension": ".py",
   "mimetype": "text/x-python",
   "name": "python",
   "nbconvert_exporter": "python",
   "pygments_lexer": "ipython3",
   "version": "3.9.7"
  }
 },
 "nbformat": 4,
 "nbformat_minor": 5
}
