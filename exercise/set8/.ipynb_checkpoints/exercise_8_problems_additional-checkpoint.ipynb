{
 "cells": [
  {
   "cell_type": "markdown",
   "id": "7e035c7f-3987-4796-8e9a-83574048ccda",
   "metadata": {},
   "source": [
    "# Combining Distributions [10 points]"
   ]
  },
  {
   "cell_type": "markdown",
   "id": "85354a6f-33a1-4060-97b9-6a8b6f17f16e",
   "metadata": {},
   "source": [
    "Let us define two gaussian distributions $x$ and $y$ with zero mean and standard deviation $\\sigma_x$ and $\\sigma_x.$ Make a plot to show how the quotient of these, $z=\\frac{x}{y}$, changes with $\\sigma_y.$ Assume $\\sigma_x=1$ and $\\sigma_y \\in [0.25, 0.5, 1, 2, 4].$ What is the equation you must solve numerically? **10 points**"
   ]
  },
  {
   "cell_type": "markdown",
   "id": "d7f452f2-c7c2-414c-9103-4d0edb9eff8b",
   "metadata": {},
   "source": [
    "# Distribution of Maxima [10 points]"
   ]
  },
  {
   "cell_type": "markdown",
   "id": "1aa2cfe0-2d8a-447a-81a0-30671695d71d",
   "metadata": {},
   "source": [
    "A mass spectrum for interstellar gas is a trend that gives the relative abundance of clumps as a function of clump mass. The basic for is,\n",
    "\n",
    "$$\n",
    "\\frac{d\\mathcal{N}}{dM} = A M^{-\\alpha}\n",
    "$$\n",
    "\n",
    "where $A$ is a normalising constant and $\\alpha=1.8$. If we claim that clumps can range in mass from $1 M_\\odot$ to $100 M_\\odot$, what is the probability distribution of maxima for sample sizes $N \\in [10, 50, 100, 200]$? Take 1000 samples for create the distribution. **10 points**\n",
    "\n",
    " > *Note*: a clump in this sense is merely gas which is gravitationally bound and has homogeneous density"
   ]
  }
 ],
 "metadata": {
  "kernelspec": {
   "display_name": "Python 3 (ipykernel)",
   "language": "python",
   "name": "python3"
  },
  "language_info": {
   "codemirror_mode": {
    "name": "ipython",
    "version": 3
   },
   "file_extension": ".py",
   "mimetype": "text/x-python",
   "name": "python",
   "nbconvert_exporter": "python",
   "pygments_lexer": "ipython3",
   "version": "3.9.7"
  }
 },
 "nbformat": 4,
 "nbformat_minor": 5
}
