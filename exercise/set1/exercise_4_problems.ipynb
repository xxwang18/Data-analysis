{
 "cells": [
  {
   "cell_type": "markdown",
   "id": "f9a29d57",
   "metadata": {},
   "source": [
    "Data Analysis in Astronomy and Physics (SoSe22)\n",
    "\n",
    "\n",
    "**Exercise Set 4**\n",
    "\n",
    "Submission by: Mahak Sadhwani, Xiongxiao Wang, Sakshi Pahujani\n",
    "\n",
    "Due: **10:00 2 May 2022**  \n",
    "Discussion: **13:00 6 May 2**  \n",
    "**Online submission** at via in the directory Exercises / Übungen -\\>\n",
    "Submission of Exercises / Rückgabe des Übungsblät\n",
    "\n"
   ]
  },
  {
   "cell_type": "code",
   "execution_count": 6,
   "id": "c5b538d9",
   "metadata": {},
   "outputs": [
    {
     "name": "stdout",
     "output_type": "stream",
     "text": [
      "九月工作一共 44.0 小时\n",
      "工资 396 欧\n",
      "动物园门票 11欧, hoplop门票12+5.5欧， 门票一共 28.5 欧\n",
      "借20欧\n",
      "一共 444.5 欧\n"
     ]
    }
   ],
   "source": [
    "hours = 5+1.5+5.5+4+7.5+8+8.5+4\n",
    "salary = 44*9\n",
    "print('九月工作一共',hours,'小时')\n",
    "print('工资',salary,'欧')\n",
    "tickets_fees = 11+12+5.5\n",
    "print('动物园门票 11欧,','hoplop门票12+5.5欧，','门票一共',tickets_fees,'欧')\n",
    "print('借20欧')\n",
    "print('一共',salary+tickets_fees+20,'欧')"
   ]
  },
  {
   "cell_type": "code",
   "execution_count": 2,
   "id": "b2c7d0ad",
   "metadata": {},
   "outputs": [
    {
     "data": {
      "text/plain": [
       "396"
      ]
     },
     "execution_count": 2,
     "metadata": {},
     "output_type": "execute_result"
    }
   ],
   "source": [
    "\n",
    "print('')"
   ]
  },
  {
   "cell_type": "markdown",
   "id": "cd96df02",
   "metadata": {},
   "source": [
    "**1. Samples & Sampling Simulation \\[60 points\\]**\n",
    "\n",
    "Write a numerical simulation code that reproduces the behaviour of the\n",
    "following simulation. Draw N samples of size n from a population with\n",
    "*µ* = 5 and *σ* = 1. Compute the confidence intervals (CI) of each\n",
    "sample distribution and the sampling distribution and visualize it in a\n",
    "similar manner. Test your simulation against your theoretical\n",
    "expectations. Make sure to test your result and to confirm that the\n",
    "result is as expected. (i.e. About 5 % of the samples not overlapping\n",
    "with the confidence interval, or 5% of all simulations with the\n",
    "population mean not part of the confidence interval.) **60 Points**\n",
    "\n"
   ]
  },
  {
   "cell_type": "markdown",
   "id": "19a4c7f9",
   "metadata": {},
   "source": [
    ">According to the question, we draw N=100 samples of size n=40 from a normal distribution with $\\mu =5$ and $\\sigma = 1$ by function **data = np.random.normal(mu,sigma,(N,n))** ."
   ]
  },
  {
   "cell_type": "code",
   "execution_count": 95,
   "id": "642b28dc",
   "metadata": {},
   "outputs": [
    {
     "name": "stdout",
     "output_type": "stream",
     "text": [
      "2.00099537704821\n"
     ]
    },
    {
     "data": {
      "image/png": "[encoded data removed]",
      "text/plain": [
       "<Figure size 432x288 with 4 Axes>"
      ]
     },
     "metadata": {
      "needs_background": "light"
     },
     "output_type": "display_data"
    }
   ],
   "source": [
    "import numpy as np\n",
    "import array\n",
    "from scipy.stats import t\n",
    "import matplotlib.pyplot as plt\n",
    "from math import sqrt\n",
    "\n",
    "mu, sigma = 5,1\n",
    "N, n=100, 60\n",
    "dof = n-1\n",
    "confidence = 0.95\n",
    "t_crit = np.abs(t.ppf((1-confidence)/2,dof))\n",
    "print(t_crit)\n",
    "CI=[]\n",
    "data = np.random.normal(mu,sigma,(N,n))\n",
    "f,a = plt.subplots(2,2)\n",
    "a = a.ravel()\n",
    "sample_means=[]\n",
    "for idx,ax in enumerate(a) :   \n",
    "    m = data[idx].mean()\n",
    "    s = data.std()\n",
    "    CI.append((m-s*t_crit/sqrt(n),m+s*t_crit/sqrt(n)))\n",
    "    sample_means.append(m)\n",
    "    ax.hist(data[idx],bins=20)\n",
    "    ax.set_title('sample of'+str(n)+' $\\overline{X_i}=$'+str(round(m,2))+' rms='+str(round(s,2)))\n",
    "    ax.set_xlabel('sample value')\n",
    "    ax.set_ylabel('frequency')\n",
    "for idx in range(4,N):\n",
    "    m = data[idx].mean()\n",
    "    s = data.std()\n",
    "    CI.append((m-s*t_crit/sqrt(n),m+s*t_crit/sqrt(n)))\n",
    "    sample_means.append(m)\n",
    "    \n",
    "plt.tight_layout()"
   ]
  },
  {
   "cell_type": "markdown",
   "id": "1b098046",
   "metadata": {},
   "source": [
    "The figures above are the first four examples of sample distribution of size 60,$\\overline{X_i} \\approx \\mu = 5, rms \\approx \\sigma =1$ ,which confirm that the result is as expected"
   ]
  },
  {
   "cell_type": "code",
   "execution_count": 96,
   "id": "bd5c0417",
   "metadata": {},
   "outputs": [],
   "source": [
    "samples_means=np.array(sample_means)"
   ]
  },
  {
   "cell_type": "markdown",
   "id": "63b116f9",
   "metadata": {},
   "source": [
    ">To find the sampling distribution, we use the means of 100 samples above as sample and calculate the mean and standard error of sampling distribution.\n",
    "\n",
    "The formula to calculate mean and standard error of sampling distribution is$$mean(\\overline{X_i})=\\sum \\frac {\\overline{X_i}}{N}$$ $$SE(standard error)=\\sqrt{\\sum {\\frac {(\\overline{X_i}-mean(\\overline{X_i}))^2}{N}}}$$"
   ]
  },
  {
   "cell_type": "code",
   "execution_count": 97,
   "id": "2b461d35",
   "metadata": {},
   "outputs": [
    {
     "name": "stdout",
     "output_type": "stream",
     "text": [
      "mean of sampling distribution:  4.9949380883054495 \n",
      "Std. error of sampling distribution:  0.13077568843439502\n"
     ]
    },
    {
     "data": {
      "text/plain": [
       "Text(0, 0.5, 'frequency')"
      ]
     },
     "execution_count": 97,
     "metadata": {},
     "output_type": "execute_result"
    },
    {
     "data": {
      "image/png": "[encoded data removed]",
      "text/plain": [
       "<Figure size 432x288 with 1 Axes>"
      ]
     },
     "metadata": {
      "needs_background": "light"
     },
     "output_type": "display_data"
    }
   ],
   "source": [
    "plt.hist(samples_means,bins=10)\n",
    "print(\"mean of sampling distribution: \", samples_means.mean(),\"\\nStd. error of sampling distribution: \",samples_means.std())\n",
    "sampling_mean= samples_means.mean()\n",
    "sampling_std= samples_means.std()\n",
    "plt.title('sampling distribution of '+str(N)+' samples $mean(\\overline{X_i})=$'+str(round(sampling_mean,2))+' SE= '+str(round(sampling_std,2)))\n",
    "plt.xlabel('sample mean')\n",
    "plt.ylabel('frequency')"
   ]
  },
  {
   "cell_type": "markdown",
   "id": "31bd170c",
   "metadata": {},
   "source": [
    "The figure above is sampling distribution, the sampling distribution $mean(\\overline{X_i}) \\approx \\mu$, and $SE \\ll \\sigma$\n",
    "\n"
   ]
  },
  {
   "cell_type": "markdown",
   "id": "47b4a665",
   "metadata": {},
   "source": [
    ">To calculate the confidence intervals (CI) of each sample distribution, we set confidence =0.95,\n",
    "\n",
    "Step 1: Subtract 1 from your sample size. 60 – 1 = 59. This gives you degrees of freedom, which you’ll need in step 3.\n",
    "\n",
    "Step 2: Subtract the confidence level from 1, then divide by two.\n",
    "(1 – .95) / 2 = 0.025\n",
    "\n",
    "Step 3: use the function **np.abs(t.ppf((1-confidence)/2),dof)** to calculate the $t$. For 39 degrees of freedom (df) and α = 0.025, my result t is 2.00099537704821.\n",
    "\n",
    "step 4: to calculate the confidence interval, we need to use the formula $\\overline{X}\\pm t \\frac{s}{\\sqrt{n}} $, where s is standard deviation of each sample and n is the size of sample. The corresponding function is CI.append((m-s$*$t_crit/sqrt(n),m+s$*$t_crit/sqrt(n)))"
   ]
  },
  {
   "cell_type": "code",
   "execution_count": 98,
   "id": "4c530de1",
   "metadata": {},
   "outputs": [],
   "source": [
    "CI.append((mu-sqrt(sigma)*t_crit/sqrt(dof),mu+sqrt(sigma)*t_crit/sqrt(dof))) #theoretical expectations of confidence interval\n",
    "samples_means=np.append(samples_means,5)\n",
    "#CI"
   ]
  },
  {
   "cell_type": "markdown",
   "id": "62a7fec1",
   "metadata": {},
   "source": [
    "The results above is confidence interval of 100 samples."
   ]
  },
  {
   "cell_type": "markdown",
   "id": "9d6b53f3",
   "metadata": {},
   "source": [
    ">To calculate the confidence intervals (CI) of the sampling distribution, we set confidence =0.95,\n",
    "\n",
    "Step 1: Subtract 1 from your sample size. 100 – 1 = 99. This gives you degrees of freedom, which you’ll need in step 3.\n",
    "\n",
    "Step 2: Subtract the confidence level from 1, then divide by two.\n",
    "(1 – .95) / 2 = 0.025\n",
    "\n",
    "Step 3: use the function **np.abs(t.ppf((1-confidence)/2),dof)** to calculate the $t$. For 99 degrees of freedom (df) and α = 0.025, my result t is 1.9842169515086827.\n",
    "\n",
    "step 4: to calculate the confidence interval, we need to use the formula $\\overline{X}\\pm t \\frac{s}{\\sqrt{N}} $, where s is standard deviation of samplind distribution and N is the total number of samples. "
   ]
  },
  {
   "cell_type": "code",
   "execution_count": 99,
   "id": "22123a89",
   "metadata": {},
   "outputs": [
    {
     "name": "stdout",
     "output_type": "stream",
     "text": [
      "1.9842169515086827\n",
      "0.07175508166238326\n",
      "Confidence interval of sampling distribution :  (5.066693169967833, 4.923183006643066)\n"
     ]
    }
   ],
   "source": [
    "c = np.abs(t.ppf((1-confidence)/2,99))\n",
    "print(c)\n",
    "print(c*np.sqrt(sampling_std)/np.sqrt(100))\n",
    "CI_sampling = (sampling_mean+ c*np.sqrt(sampling_std)/np.sqrt(100), sampling_mean - c*np.sqrt(sampling_std)/np.sqrt(100))\n",
    "print(\"Confidence interval of sampling distribution : \", CI_sampling)"
   ]
  },
  {
   "cell_type": "code",
   "execution_count": 100,
   "id": "dc12495a",
   "metadata": {},
   "outputs": [
    {
     "data": {
      "text/plain": [
       "<matplotlib.legend.Legend at 0x12295b760>"
      ]
     },
     "execution_count": 100,
     "metadata": {},
     "output_type": "execute_result"
    },
    {
     "data": {
      "image/png": "[encoded data removed]",
      "text/plain": [
       "<Figure size 648x648 with 1 Axes>"
      ]
     },
     "metadata": {
      "needs_background": "light"
     },
     "output_type": "display_data"
    }
   ],
   "source": [
    "plt.figure(figsize=(9,9))\n",
    "plt.title('Confidence interval of each sample')\n",
    "plt.xlabel('index of sample')\n",
    "plt.ylabel('means of sample')\n",
    "plt.errorbar(x=np.arange(1,N+1),\n",
    "             y=samples_means[:-1], \n",
    "             yerr=[(top-bot)/2 for top,bot in CI[:-1]],\n",
    "             fmt='o', label=\"samples' CI\")\n",
    "plt.errorbar(x=101, y=samples_means[-1], yerr=(CI[-1][0]-CI[-1][1])/2, fmt='o', color=\"purple\", label=\"theoretical CI\")\n",
    "plt.errorbar(x=102, y = sampling_mean, yerr=[CI_sampling[0]/2-CI_sampling[1]/2], fmt='o', color=\"red\", label=\"Sampling distribution\")\n",
    "plt.hlines(xmin=0, xmax=N+1,\n",
    "          y=data.mean(), \n",
    "          linewidth=2.0,\n",
    "          color=\"red\");\n",
    "plt.legend()"
   ]
  },
  {
   "cell_type": "markdown",
   "id": "73e32819",
   "metadata": {},
   "source": [
    "The figure above is the confidence interval of 100 samples, which blue line is the confidence interval of the sample and blue dots is the mean of the sample. Red line is the mean of sampling distribution. \n",
    "\n",
    "**The magenta line is theoretical confidence interval.** Compare the theoretical CI with the samples' CI, the result is as expected.\n",
    "\n",
    "**The red line is the confidence interval of the sampling distribution.**"
   ]
  },
  {
   "cell_type": "markdown",
   "id": "547ac09c",
   "metadata": {},
   "source": [
    "In order to verify our results, we check how many samples have their means outside the theoretical value of confidence interval and we see that roughly 3-5 out of our 100 samples comply with this criteria. If we increase our collected sample space this approximation moves closer to 5% of the samples. This indicates that 95% of our samples have means within the confidence interval hence verifyng the calculation."
   ]
  },
  {
   "cell_type": "code",
   "execution_count": 105,
   "id": "d7970501",
   "metadata": {},
   "outputs": [
    {
     "name": "stdout",
     "output_type": "stream",
     "text": [
      "(4.7394925909844305, 5.2605074090155695)\n",
      "Number of samples with mean value lying outside the theoretical confidence interval =  5\n"
     ]
    }
   ],
   "source": [
    "count=0\n",
    "print(CI[-1])\n",
    "for i in sample_means:\n",
    "    if(i<CI[-1][0] or i>CI[-1][1]):\n",
    "        count+=1        #increase count if mean is greater than upper cap or less than lower cap of confidence interval\n",
    "print(\"Number of samples with mean value lying outside the theoretical confidence interval = \",count)"
   ]
  },
  {
   "cell_type": "markdown",
   "id": "4b8c6e62",
   "metadata": {},
   "source": [
    "**2. Poisson statistics \\[40 points\\]**\n",
    "\n",
    "Perseids are a meteor showers associated with the comet Swift–Tuttle. In\n",
    "astronomy, the zenithal hourly rate (ZHR) of a meteor shower is the\n",
    "number of meteors a single observer would see in an hour of peak\n",
    "activity. Assume that today the Perseids have a ZHR = 120. Assume that\n",
    "the occurrence of every single meteor is distributed according to\n",
    "Poisson statistics."
   ]
  },
  {
   "cell_type": "markdown",
   "id": "7ee1323c",
   "metadata": {},
   "source": [
    "**a.** Find the probability that no meteor is observed during a given\n",
    "minute **10 Points**  "
   ]
  },
  {
   "cell_type": "markdown",
   "id": "706fedd2",
   "metadata": {},
   "source": [
    "The occurence of every single meteor obey Poisson distribution,$$P(x)=\\frac {\\mu ^{x}.e ^{- \\mu}}{x!}$$.The mean number in one minute $\\mu = \\frac{120}{60} = 2$ , so the probability that no meteor is observed during one minute $P(0)=\\frac{2^{0}.e^{-2}}{0!}$ = 0.1353"
   ]
  },
  {
   "cell_type": "markdown",
   "id": "ec4bf02e",
   "metadata": {},
   "source": [
    "**b.** What is the expected number of meteors occurring in two minutes\n",
    "**10 Points**  "
   ]
  },
  {
   "cell_type": "markdown",
   "id": "3cd42ca8",
   "metadata": {},
   "source": [
    "The expected number of meteors in two minutes,$<x> = \\frac{120\\times 2}{60}=4$"
   ]
  },
  {
   "cell_type": "markdown",
   "id": "cab4fcec",
   "metadata": {},
   "source": [
    "**c.** Find the probability that this expected number actually are\n",
    "observed in a given two-minute period. **10 Points**  "
   ]
  },
  {
   "cell_type": "markdown",
   "id": "2b259600",
   "metadata": {},
   "source": [
    "The probability that 4 meteors are observed in a given two-minute $P(4)=\\frac{4^{4}.e^{-4}}{4!}=0.1953$"
   ]
  },
  {
   "cell_type": "markdown",
   "id": "509a393a",
   "metadata": {},
   "source": [
    "**d.** Plot a histogram of the probabilities for the number of meteors\n",
    "for each 2 minute period. **10 Points**"
   ]
  },
  {
   "cell_type": "code",
   "execution_count": 102,
   "id": "802271b1",
   "metadata": {},
   "outputs": [
    {
     "name": "stdout",
     "output_type": "stream",
     "text": [
      "k-value 0 has probability = 0.01832\n",
      "k-value 1 has probability = 0.07326\n",
      "k-value 2 has probability = 0.14653\n",
      "k-value 3 has probability = 0.19537\n",
      "k-value 4 has probability = 0.19537\n",
      "k-value 5 has probability = 0.15629\n",
      "k-value 6 has probability = 0.1042\n",
      "k-value 7 has probability = 0.05954\n",
      "k-value 8 has probability = 0.02977\n",
      "k-value 9 has probability = 0.01323\n",
      "k-value 10 has probability = 0.00529\n",
      "k-value 11 has probability = 0.00192\n",
      "k-value 12 has probability = 0.00064\n",
      "k-value 13 has probability = 0.0002\n",
      "k-value 14 has probability = 6e-05\n",
      "k-value 15 has probability = 2e-05\n",
      "k-value 16 has probability = 0.0\n"
     ]
    },
    {
     "data": {
      "image/png": "[encoded data removed]",
      "text/plain": [
       "<Figure size 432x288 with 1 Axes>"
      ]
     },
     "metadata": {
      "needs_background": "light"
     },
     "output_type": "display_data"
    }
   ],
   "source": [
    "from scipy.stats import poisson\n",
    "k = np.arange(0, 17)\n",
    "pmf = poisson.pmf(k, mu=4)\n",
    "pmf = np.round(pmf, 5)\n",
    "for val, prob in zip(k,pmf):\n",
    "    print(f\"k-value {val} has probability = {prob}\")\n",
    "plt.plot(k, pmf, marker='o')\n",
    "plt.xlabel('the number of meteors')\n",
    "plt.ylabel('Probability')\n",
    "plt.title('Probability Mass function of Possion distribution, mu=4')\n",
    "\n",
    "plt.show()"
   ]
  },
  {
   "cell_type": "code",
   "execution_count": 103,
   "id": "a4c45133",
   "metadata": {},
   "outputs": [
    {
     "data": {
      "text/plain": [
       "Text(0, 0.5, 'Probability')"
      ]
     },
     "execution_count": 103,
     "metadata": {},
     "output_type": "execute_result"
    },
    {
     "data": {
      "image/png": "[encoded data removed]",
      "text/plain": [
       "<Figure size 432x288 with 1 Axes>"
      ]
     },
     "metadata": {
      "needs_background": "light"
     },
     "output_type": "display_data"
    }
   ],
   "source": [
    "rvs = poisson.rvs(4,size=1000000)\n",
    "fig, ax = plt.subplots(1, 1)\n",
    "ax.hist(rvs,bins=15,range=(0,16),density=1)\n",
    "plt.title('Probability Histogram of poisson samples of size 1000000')\n",
    "plt.xlabel('the number of meteors')\n",
    "plt.ylabel('Probability')"
   ]
  },
  {
   "cell_type": "code",
   "execution_count": 104,
   "id": "f148563c",
   "metadata": {},
   "outputs": [
    {
     "data": {
      "text/plain": [
       "Text(0, 0.5, 'Probability')"
      ]
     },
     "execution_count": 104,
     "metadata": {},
     "output_type": "execute_result"
    },
    {
     "data": {
      "image/png": "[encoded data removed]",
      "text/plain": [
       "<Figure size 432x288 with 1 Axes>"
      ]
     },
     "metadata": {
      "needs_background": "light"
     },
     "output_type": "display_data"
    }
   ],
   "source": [
    "rvs = poisson.rvs(4,size=1000000)\n",
    "fig, ax = plt.subplots(1, 1)\n",
    "ax.hist(rvs,bins=15,range=(0,16),density=1)\n",
    "plt.title('Probability Histogram of poisson samples of size 1000000')\n",
    "k = np.arange(0, 17)\n",
    "pmf = poisson.pmf(k, mu=4)\n",
    "pmf = np.round(pmf, 5)\n",
    "\n",
    "plt.plot(k, pmf, marker='o')\n",
    "plt.xlabel('the number of meteors')\n",
    "plt.ylabel('Probability')\n"
   ]
  }
 ],
 "metadata": {
  "kernelspec": {
   "display_name": "Python 3 (ipykernel)",
   "language": "python",
   "name": "python3"
  },
  "language_info": {
   "codemirror_mode": {
    "name": "ipython",
    "version": 3
   },
   "file_extension": ".py",
   "mimetype": "text/x-python",
   "name": "python",
   "nbconvert_exporter": "python",
   "pygments_lexer": "ipython3",
   "version": "3.9.7"
  }
 },
 "nbformat": 4,
 "nbformat_minor": 5
}
