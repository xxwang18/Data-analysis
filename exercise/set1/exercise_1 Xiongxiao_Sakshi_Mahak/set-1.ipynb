{
 "cells": [
  {
   "cell_type": "code",
   "execution_count": 1,
   "id": "08d74538",
   "metadata": {
    "_cell_guid": "b1076dfc-b9ad-4769-8c92-a6c4dae69d19",
    "_uuid": "8f2839f25d086af736a60e9eeb907d3b93b6e0e5",
    "execution": {
     "iopub.execute_input": "2022-04-10T09:36:17.713642Z",
     "iopub.status.busy": "2022-04-10T09:36:17.712404Z",
     "iopub.status.idle": "2022-04-10T09:36:17.731302Z",
     "shell.execute_reply": "2022-04-10T09:36:17.732122Z",
     "shell.execute_reply.started": "2022-04-10T09:35:40.660935Z"
    },
    "papermill": {
     "duration": 0.044433,
     "end_time": "2022-04-10T09:36:17.732506",
     "exception": false,
     "start_time": "2022-04-10T09:36:17.688073",
     "status": "completed"
    },
    "tags": []
   },
   "outputs": [
    {
     "name": "stdout",
     "output_type": "stream",
     "text": [
      "/kaggle/input/data-analysis/cdbrfss1999.csv\n"
     ]
    }
   ],
   "source": [
    "# This Python 3 environment comes with many helpful analytics libraries installed\n",
    "# It is defined by the kaggle/python Docker image: https://github.com/kaggle/docker-python\n",
    "# For example, here's several helpful packages to load\n",
    "\n",
    "import numpy as np # linear algebra\n",
    "import pandas as pd # data processing, CSV file I/O (e.g. pd.read_csv)\n",
    "\n",
    "# Input data files are available in the read-only \"../input/\" directory\n",
    "# For example, running this (by clicking run or pressing Shift+Enter) will list all files under the input directory\n",
    "\n",
    "import os\n",
    "for dirname, _, filenames in os.walk('/kaggle/input'):\n",
    "    for filename in filenames:\n",
    "        print(os.path.join(dirname, filename))\n",
    "\n",
    "# You can write up to 20GB to the current directory (/kaggle/working/) that gets preserved as output when you create a version using \"Save & Run All\" \n",
    "# You can also write temporary files to /kaggle/temp/, but they won't be saved outside of the current session"
   ]
  },
  {
   "cell_type": "markdown",
   "id": "85ab1e82",
   "metadata": {
    "papermill": {
     "duration": 0.019912,
     "end_time": "2022-04-10T09:36:17.773495",
     "exception": false,
     "start_time": "2022-04-10T09:36:17.753583",
     "status": "completed"
    },
    "tags": []
   },
   "source": [
    "Data Analysis in Astronomy and Physics\n",
    "\n",
    "Exercise Set 1\n",
    "\n",
    "* Xiongxiao Wang, Sakshi Pahujani, Mahak Sadhwani\n",
    "\n",
    "1.Sampling "
   ]
  },
  {
   "cell_type": "code",
   "execution_count": 2,
   "id": "26025075",
   "metadata": {
    "execution": {
     "iopub.execute_input": "2022-04-10T09:36:17.827472Z",
     "iopub.status.busy": "2022-04-10T09:36:17.826477Z",
     "iopub.status.idle": "2022-04-10T09:36:17.834951Z",
     "shell.execute_reply": "2022-04-10T09:36:17.835721Z",
     "shell.execute_reply.started": "2022-04-10T09:35:40.699250Z"
    },
    "papermill": {
     "duration": 0.038284,
     "end_time": "2022-04-10T09:36:17.835968",
     "exception": false,
     "start_time": "2022-04-10T09:36:17.797684",
     "status": "completed"
    },
    "tags": []
   },
   "outputs": [
    {
     "data": {
      "text/plain": [
       "'/kaggle/working'"
      ]
     },
     "execution_count": 2,
     "metadata": {},
     "output_type": "execute_result"
    }
   ],
   "source": [
    "import os\n",
    "os.getcwd() # get current working dictory"
   ]
  },
  {
   "cell_type": "code",
   "execution_count": 3,
   "id": "700a026a",
   "metadata": {
    "execution": {
     "iopub.execute_input": "2022-04-10T09:36:17.891593Z",
     "iopub.status.busy": "2022-04-10T09:36:17.890865Z",
     "iopub.status.idle": "2022-04-10T09:36:17.893587Z",
     "shell.execute_reply": "2022-04-10T09:36:17.894089Z",
     "shell.execute_reply.started": "2022-04-10T09:35:40.709974Z"
    },
    "papermill": {
     "duration": 0.032957,
     "end_time": "2022-04-10T09:36:17.894265",
     "exception": false,
     "start_time": "2022-04-10T09:36:17.861308",
     "status": "completed"
    },
    "tags": []
   },
   "outputs": [
    {
     "data": {
      "text/plain": [
       "'/kaggle'"
      ]
     },
     "execution_count": 3,
     "metadata": {},
     "output_type": "execute_result"
    }
   ],
   "source": [
    "os.chdir('/kaggle/') #change dirctory to kaggle\n",
    "os.getcwd()"
   ]
  },
  {
   "cell_type": "code",
   "execution_count": 4,
   "id": "e2ae96ac",
   "metadata": {
    "execution": {
     "iopub.execute_input": "2022-04-10T09:36:17.940139Z",
     "iopub.status.busy": "2022-04-10T09:36:17.939182Z",
     "iopub.status.idle": "2022-04-10T09:36:17.943296Z",
     "shell.execute_reply": "2022-04-10T09:36:17.943793Z",
     "shell.execute_reply.started": "2022-04-10T09:35:40.722985Z"
    },
    "papermill": {
     "duration": 0.029234,
     "end_time": "2022-04-10T09:36:17.943961",
     "exception": false,
     "start_time": "2022-04-10T09:36:17.914727",
     "status": "completed"
    },
    "tags": []
   },
   "outputs": [
    {
     "data": {
      "text/plain": [
       "['src', 'lib', 'input', 'working']"
      ]
     },
     "execution_count": 4,
     "metadata": {},
     "output_type": "execute_result"
    }
   ],
   "source": [
    "os.listdir('/kaggle') # show the list of dictory 'kaggle'"
   ]
  },
  {
   "cell_type": "code",
   "execution_count": 5,
   "id": "04bd4bf2",
   "metadata": {
    "execution": {
     "iopub.execute_input": "2022-04-10T09:36:17.988907Z",
     "iopub.status.busy": "2022-04-10T09:36:17.988224Z",
     "iopub.status.idle": "2022-04-10T09:36:17.993741Z",
     "shell.execute_reply": "2022-04-10T09:36:17.994336Z",
     "shell.execute_reply.started": "2022-04-10T09:35:40.739021Z"
    },
    "papermill": {
     "duration": 0.029669,
     "end_time": "2022-04-10T09:36:17.994511",
     "exception": false,
     "start_time": "2022-04-10T09:36:17.964842",
     "status": "completed"
    },
    "tags": []
   },
   "outputs": [
    {
     "data": {
      "text/plain": [
       "['cdbrfss1999.csv']"
      ]
     },
     "execution_count": 5,
     "metadata": {},
     "output_type": "execute_result"
    }
   ],
   "source": [
    "os.listdir('/kaggle/input/data-analysis')"
   ]
  },
  {
   "cell_type": "markdown",
   "id": "e0835bf3",
   "metadata": {
    "papermill": {
     "duration": 0.020711,
     "end_time": "2022-04-10T09:36:18.036484",
     "exception": false,
     "start_time": "2022-04-10T09:36:18.015773",
     "status": "completed"
    },
    "tags": []
   },
   "source": [
    "> **Large data**\n",
    "* > a. Take a sample of 30000 from this dataset and export it to an ASCII file. Make sure that your method allows to draw more than one sample from the population.\n",
    "* > b. Discuss your method to do so. Is your sampling a “good sample” in the sense that it is representative for the larger “population”? \n",
    "\n",
    "solution:\n",
    "* a.\n",
    "1. Get the total number of data in file by counting the number of rows and minus 1\n",
    "2. Set the desired sample size(30000)\n",
    "3. select (n-s) numbers randomly from range(1,n+1)\n",
    "4. skip the corresponding rows when reading the csv\n",
    "* b. \n",
    "The method here is simple random sampling,each sample chosen by equal probability, so it's can be representative for larger \"population\""
   ]
  },
  {
   "cell_type": "code",
   "execution_count": 6,
   "id": "c541da74",
   "metadata": {
    "execution": {
     "iopub.execute_input": "2022-04-10T09:36:18.082641Z",
     "iopub.status.busy": "2022-04-10T09:36:18.081864Z",
     "iopub.status.idle": "2022-04-10T09:36:20.806980Z",
     "shell.execute_reply": "2022-04-10T09:36:20.807922Z",
     "shell.execute_reply.started": "2022-04-10T09:35:40.760014Z"
    },
    "papermill": {
     "duration": 2.750608,
     "end_time": "2022-04-10T09:36:20.808187",
     "exception": false,
     "start_time": "2022-04-10T09:36:18.057579",
     "status": "completed"
    },
    "tags": []
   },
   "outputs": [
    {
     "name": "stderr",
     "output_type": "stream",
     "text": [
      "/opt/conda/lib/python3.7/site-packages/IPython/core/interactiveshell.py:3457: DtypeWarning: Columns (8) have mixed types.Specify dtype option on import or set low_memory=False.\n",
      "  exec(code_obj, self.user_global_ns, self.user_ns)\n"
     ]
    },
    {
     "data": {
      "text/html": [
       "<div>\n",
       "<style scoped>\n",
       "    .dataframe tbody tr th:only-of-type {\n",
       "        vertical-align: middle;\n",
       "    }\n",
       "\n",
       "    .dataframe tbody tr th {\n",
       "        vertical-align: top;\n",
       "    }\n",
       "\n",
       "    .dataframe thead th {\n",
       "        text-align: right;\n",
       "    }\n",
       "</style>\n",
       "<table border=\"1\" class=\"dataframe\">\n",
       "  <thead>\n",
       "    <tr style=\"text-align: right;\">\n",
       "      <th></th>\n",
       "      <th>STATE</th>\n",
       "      <th>GEOSTR</th>\n",
       "      <th>DENSTR</th>\n",
       "      <th>PSU</th>\n",
       "      <th>RECORD</th>\n",
       "      <th>IMONTH</th>\n",
       "      <th>IDAY</th>\n",
       "      <th>IYEAR</th>\n",
       "      <th>INTVID</th>\n",
       "      <th>Unnamed: 9</th>\n",
       "      <th>...</th>\n",
       "      <th>Unnamed: 272</th>\n",
       "      <th>Unnamed: 273</th>\n",
       "      <th>Unnamed: 274</th>\n",
       "      <th>Unnamed: 275</th>\n",
       "      <th>Unnamed: 276</th>\n",
       "      <th>Unnamed: 277</th>\n",
       "      <th>Unnamed: 278</th>\n",
       "      <th>Unnamed: 279</th>\n",
       "      <th>Unnamed: 280</th>\n",
       "      <th>Unnamed: 281</th>\n",
       "    </tr>\n",
       "  </thead>\n",
       "  <tbody>\n",
       "    <tr>\n",
       "      <th>0</th>\n",
       "      <td>1</td>\n",
       "      <td>1</td>\n",
       "      <td>1</td>\n",
       "      <td>10012</td>\n",
       "      <td>1</td>\n",
       "      <td>1</td>\n",
       "      <td>19</td>\n",
       "      <td>1999</td>\n",
       "      <td>40</td>\n",
       "      <td>NaN</td>\n",
       "      <td>...</td>\n",
       "      <td>1</td>\n",
       "      <td>9</td>\n",
       "      <td>1.0</td>\n",
       "      <td>1</td>\n",
       "      <td>3.0</td>\n",
       "      <td>11</td>\n",
       "      <td>2</td>\n",
       "      <td>1</td>\n",
       "      <td>1</td>\n",
       "      <td>1</td>\n",
       "    </tr>\n",
       "    <tr>\n",
       "      <th>1</th>\n",
       "      <td>1</td>\n",
       "      <td>1</td>\n",
       "      <td>1</td>\n",
       "      <td>10013</td>\n",
       "      <td>1</td>\n",
       "      <td>1</td>\n",
       "      <td>12</td>\n",
       "      <td>1999</td>\n",
       "      <td>33</td>\n",
       "      <td>NaN</td>\n",
       "      <td>...</td>\n",
       "      <td>1</td>\n",
       "      <td>9</td>\n",
       "      <td>2.0</td>\n",
       "      <td>1</td>\n",
       "      <td>3.0</td>\n",
       "      <td>8</td>\n",
       "      <td>1</td>\n",
       "      <td>1</td>\n",
       "      <td>1</td>\n",
       "      <td>1</td>\n",
       "    </tr>\n",
       "    <tr>\n",
       "      <th>2</th>\n",
       "      <td>1</td>\n",
       "      <td>1</td>\n",
       "      <td>1</td>\n",
       "      <td>10035</td>\n",
       "      <td>1</td>\n",
       "      <td>1</td>\n",
       "      <td>15</td>\n",
       "      <td>1999</td>\n",
       "      <td>45</td>\n",
       "      <td>NaN</td>\n",
       "      <td>...</td>\n",
       "      <td>1</td>\n",
       "      <td>9</td>\n",
       "      <td>1.0</td>\n",
       "      <td>1</td>\n",
       "      <td>1.0</td>\n",
       "      <td>2</td>\n",
       "      <td>1</td>\n",
       "      <td>1</td>\n",
       "      <td>1</td>\n",
       "      <td>1</td>\n",
       "    </tr>\n",
       "    <tr>\n",
       "      <th>3</th>\n",
       "      <td>1</td>\n",
       "      <td>1</td>\n",
       "      <td>1</td>\n",
       "      <td>10105</td>\n",
       "      <td>1</td>\n",
       "      <td>1</td>\n",
       "      <td>11</td>\n",
       "      <td>1999</td>\n",
       "      <td>40</td>\n",
       "      <td>NaN</td>\n",
       "      <td>...</td>\n",
       "      <td>1</td>\n",
       "      <td>9</td>\n",
       "      <td>1.0</td>\n",
       "      <td>1</td>\n",
       "      <td>3.0</td>\n",
       "      <td>9</td>\n",
       "      <td>1</td>\n",
       "      <td>1</td>\n",
       "      <td>1</td>\n",
       "      <td>1</td>\n",
       "    </tr>\n",
       "    <tr>\n",
       "      <th>4</th>\n",
       "      <td>1</td>\n",
       "      <td>1</td>\n",
       "      <td>1</td>\n",
       "      <td>10140</td>\n",
       "      <td>1</td>\n",
       "      <td>1</td>\n",
       "      <td>12</td>\n",
       "      <td>1999</td>\n",
       "      <td>33</td>\n",
       "      <td>NaN</td>\n",
       "      <td>...</td>\n",
       "      <td>1</td>\n",
       "      <td>9</td>\n",
       "      <td>1.0</td>\n",
       "      <td>1</td>\n",
       "      <td>3.0</td>\n",
       "      <td>12</td>\n",
       "      <td>2</td>\n",
       "      <td>2</td>\n",
       "      <td>2</td>\n",
       "      <td>1</td>\n",
       "    </tr>\n",
       "    <tr>\n",
       "      <th>...</th>\n",
       "      <td>...</td>\n",
       "      <td>...</td>\n",
       "      <td>...</td>\n",
       "      <td>...</td>\n",
       "      <td>...</td>\n",
       "      <td>...</td>\n",
       "      <td>...</td>\n",
       "      <td>...</td>\n",
       "      <td>...</td>\n",
       "      <td>...</td>\n",
       "      <td>...</td>\n",
       "      <td>...</td>\n",
       "      <td>...</td>\n",
       "      <td>...</td>\n",
       "      <td>...</td>\n",
       "      <td>...</td>\n",
       "      <td>...</td>\n",
       "      <td>...</td>\n",
       "      <td>...</td>\n",
       "      <td>...</td>\n",
       "      <td>...</td>\n",
       "    </tr>\n",
       "    <tr>\n",
       "      <th>29995</th>\n",
       "      <td>72</td>\n",
       "      <td>1</td>\n",
       "      <td>1</td>\n",
       "      <td>121017</td>\n",
       "      <td>1</td>\n",
       "      <td>12</td>\n",
       "      <td>19</td>\n",
       "      <td>1999</td>\n",
       "      <td>9</td>\n",
       "      <td>NaN</td>\n",
       "      <td>...</td>\n",
       "      <td>2</td>\n",
       "      <td>9</td>\n",
       "      <td>1.0</td>\n",
       "      <td>1</td>\n",
       "      <td>2.0</td>\n",
       "      <td>7</td>\n",
       "      <td>1</td>\n",
       "      <td>2</td>\n",
       "      <td>3</td>\n",
       "      <td>1</td>\n",
       "    </tr>\n",
       "    <tr>\n",
       "      <th>29996</th>\n",
       "      <td>72</td>\n",
       "      <td>1</td>\n",
       "      <td>1</td>\n",
       "      <td>121020</td>\n",
       "      <td>1</td>\n",
       "      <td>12</td>\n",
       "      <td>5</td>\n",
       "      <td>1999</td>\n",
       "      <td>6</td>\n",
       "      <td>NaN</td>\n",
       "      <td>...</td>\n",
       "      <td>2</td>\n",
       "      <td>9</td>\n",
       "      <td>3.0</td>\n",
       "      <td>1</td>\n",
       "      <td>1.0</td>\n",
       "      <td>3</td>\n",
       "      <td>1</td>\n",
       "      <td>2</td>\n",
       "      <td>3</td>\n",
       "      <td>1</td>\n",
       "    </tr>\n",
       "    <tr>\n",
       "      <th>29997</th>\n",
       "      <td>72</td>\n",
       "      <td>1</td>\n",
       "      <td>1</td>\n",
       "      <td>121029</td>\n",
       "      <td>1</td>\n",
       "      <td>12</td>\n",
       "      <td>19</td>\n",
       "      <td>1999</td>\n",
       "      <td>9</td>\n",
       "      <td>NaN</td>\n",
       "      <td>...</td>\n",
       "      <td>2</td>\n",
       "      <td>9</td>\n",
       "      <td>1.0</td>\n",
       "      <td>1</td>\n",
       "      <td>3.0</td>\n",
       "      <td>10</td>\n",
       "      <td>2</td>\n",
       "      <td>2</td>\n",
       "      <td>3</td>\n",
       "      <td>1</td>\n",
       "    </tr>\n",
       "    <tr>\n",
       "      <th>29998</th>\n",
       "      <td>72</td>\n",
       "      <td>1</td>\n",
       "      <td>1</td>\n",
       "      <td>121034</td>\n",
       "      <td>1</td>\n",
       "      <td>12</td>\n",
       "      <td>3</td>\n",
       "      <td>1999</td>\n",
       "      <td>6</td>\n",
       "      <td>NaN</td>\n",
       "      <td>...</td>\n",
       "      <td>1</td>\n",
       "      <td>9</td>\n",
       "      <td>1.0</td>\n",
       "      <td>1</td>\n",
       "      <td>2.0</td>\n",
       "      <td>7</td>\n",
       "      <td>1</td>\n",
       "      <td>2</td>\n",
       "      <td>3</td>\n",
       "      <td>1</td>\n",
       "    </tr>\n",
       "    <tr>\n",
       "      <th>29999</th>\n",
       "      <td>72</td>\n",
       "      <td>1</td>\n",
       "      <td>1</td>\n",
       "      <td>121040</td>\n",
       "      <td>1</td>\n",
       "      <td>12</td>\n",
       "      <td>2</td>\n",
       "      <td>1999</td>\n",
       "      <td>6</td>\n",
       "      <td>NaN</td>\n",
       "      <td>...</td>\n",
       "      <td>1</td>\n",
       "      <td>9</td>\n",
       "      <td>3.0</td>\n",
       "      <td>1</td>\n",
       "      <td>1.0</td>\n",
       "      <td>1</td>\n",
       "      <td>1</td>\n",
       "      <td>2</td>\n",
       "      <td>3</td>\n",
       "      <td>1</td>\n",
       "    </tr>\n",
       "  </tbody>\n",
       "</table>\n",
       "<p>30000 rows × 282 columns</p>\n",
       "</div>"
      ],
      "text/plain": [
       "       STATE  GEOSTR  DENSTR     PSU  RECORD  IMONTH   IDAY   IYEAR  INTVID   \\\n",
       "0          1       1       1   10012       1        1     19    1999      40   \n",
       "1          1       1       1   10013       1        1     12    1999      33   \n",
       "2          1       1       1   10035       1        1     15    1999      45   \n",
       "3          1       1       1   10105       1        1     11    1999      40   \n",
       "4          1       1       1   10140       1        1     12    1999      33   \n",
       "...      ...     ...     ...     ...     ...      ...    ...     ...     ...   \n",
       "29995     72       1       1  121017       1       12     19    1999       9   \n",
       "29996     72       1       1  121020       1       12      5    1999       6   \n",
       "29997     72       1       1  121029       1       12     19    1999       9   \n",
       "29998     72       1       1  121034       1       12      3    1999       6   \n",
       "29999     72       1       1  121040       1       12      2    1999       6   \n",
       "\n",
       "       Unnamed: 9  ...  Unnamed: 272  Unnamed: 273  Unnamed: 274  \\\n",
       "0             NaN  ...             1             9           1.0   \n",
       "1             NaN  ...             1             9           2.0   \n",
       "2             NaN  ...             1             9           1.0   \n",
       "3             NaN  ...             1             9           1.0   \n",
       "4             NaN  ...             1             9           1.0   \n",
       "...           ...  ...           ...           ...           ...   \n",
       "29995         NaN  ...             2             9           1.0   \n",
       "29996         NaN  ...             2             9           3.0   \n",
       "29997         NaN  ...             2             9           1.0   \n",
       "29998         NaN  ...             1             9           1.0   \n",
       "29999         NaN  ...             1             9           3.0   \n",
       "\n",
       "       Unnamed: 275  Unnamed: 276  Unnamed: 277  Unnamed: 278  Unnamed: 279  \\\n",
       "0                 1           3.0            11             2             1   \n",
       "1                 1           3.0             8             1             1   \n",
       "2                 1           1.0             2             1             1   \n",
       "3                 1           3.0             9             1             1   \n",
       "4                 1           3.0            12             2             2   \n",
       "...             ...           ...           ...           ...           ...   \n",
       "29995             1           2.0             7             1             2   \n",
       "29996             1           1.0             3             1             2   \n",
       "29997             1           3.0            10             2             2   \n",
       "29998             1           2.0             7             1             2   \n",
       "29999             1           1.0             1             1             2   \n",
       "\n",
       "       Unnamed: 280  Unnamed: 281  \n",
       "0                 1             1  \n",
       "1                 1             1  \n",
       "2                 1             1  \n",
       "3                 1             1  \n",
       "4                 2             1  \n",
       "...             ...           ...  \n",
       "29995             3             1  \n",
       "29996             3             1  \n",
       "29997             3             1  \n",
       "29998             3             1  \n",
       "29999             3             1  \n",
       "\n",
       "[30000 rows x 282 columns]"
      ]
     },
     "execution_count": 6,
     "metadata": {},
     "output_type": "execute_result"
    }
   ],
   "source": [
    "import pandas as pd\n",
    "import random\n",
    "\n",
    "filename = 'input/data-analysis/cdbrfss1999.csv'\n",
    "n = sum(1 for line in open(filename)) - 1 #number of rows in file (excludes header)\n",
    "s = 30000 #desired sample size\n",
    "skip = sorted(random.sample(range(1,n+1),n-s)) #select (n-s) numbers randomly from range(1,n+1). In next step, skip the corresponding row when reading the csv \n",
    "cdbr = pd.read_csv(filename,skiprows = skip)\n",
    "cdbr #display the 30000 samples by dataframe"
   ]
  },
  {
   "cell_type": "markdown",
   "id": "0a74dd2e",
   "metadata": {
    "papermill": {
     "duration": 0.02206,
     "end_time": "2022-04-10T09:36:20.854509",
     "exception": false,
     "start_time": "2022-04-10T09:36:20.832449",
     "status": "completed"
    },
    "tags": []
   },
   "source": [
    "**> Large columns**\n",
    "* > a. Locate the columns corresponding to the variables genhlth, exerany, htf, hti, smoke100, weight, wtdesire, age, and sex.\n",
    "* > b. Reduce your sample to include only these variables and export it to an ASCII file.\n",
    "\n",
    "solution:\n",
    "export this Dataframe into an ASCII file that include only these variables"
   ]
  },
  {
   "cell_type": "code",
   "execution_count": 7,
   "id": "8ec30416",
   "metadata": {
    "execution": {
     "iopub.execute_input": "2022-04-10T09:36:20.909656Z",
     "iopub.status.busy": "2022-04-10T09:36:20.908767Z",
     "iopub.status.idle": "2022-04-10T09:36:21.049795Z",
     "shell.execute_reply": "2022-04-10T09:36:21.050280Z",
     "shell.execute_reply.started": "2022-04-10T09:35:44.078800Z"
    },
    "papermill": {
     "duration": 0.173349,
     "end_time": "2022-04-10T09:36:21.050475",
     "exception": false,
     "start_time": "2022-04-10T09:36:20.877126",
     "status": "completed"
    },
    "tags": []
   },
   "outputs": [
    {
     "data": {
      "text/html": [
       "<div>\n",
       "<style scoped>\n",
       "    .dataframe tbody tr th:only-of-type {\n",
       "        vertical-align: middle;\n",
       "    }\n",
       "\n",
       "    .dataframe tbody tr th {\n",
       "        vertical-align: top;\n",
       "    }\n",
       "\n",
       "    .dataframe thead th {\n",
       "        text-align: right;\n",
       "    }\n",
       "</style>\n",
       "<table border=\"1\" class=\"dataframe\">\n",
       "  <thead>\n",
       "    <tr style=\"text-align: right;\">\n",
       "      <th></th>\n",
       "      <th>GENHLTH</th>\n",
       "      <th>EXERANY</th>\n",
       "      <th>HTF</th>\n",
       "      <th>HTI</th>\n",
       "      <th>SMOKE100</th>\n",
       "      <th>WEIGHT</th>\n",
       "      <th>WTDESIRE</th>\n",
       "      <th>AGE</th>\n",
       "      <th>SEX</th>\n",
       "    </tr>\n",
       "  </thead>\n",
       "  <tbody>\n",
       "    <tr>\n",
       "      <th>0</th>\n",
       "      <td>3</td>\n",
       "      <td>NaN</td>\n",
       "      <td>5</td>\n",
       "      <td>6</td>\n",
       "      <td>1</td>\n",
       "      <td>130</td>\n",
       "      <td>NaN</td>\n",
       "      <td>73</td>\n",
       "      <td>2</td>\n",
       "    </tr>\n",
       "    <tr>\n",
       "      <th>1</th>\n",
       "      <td>3</td>\n",
       "      <td>NaN</td>\n",
       "      <td>5</td>\n",
       "      <td>8</td>\n",
       "      <td>2</td>\n",
       "      <td>160</td>\n",
       "      <td>NaN</td>\n",
       "      <td>59</td>\n",
       "      <td>2</td>\n",
       "    </tr>\n",
       "    <tr>\n",
       "      <th>2</th>\n",
       "      <td>1</td>\n",
       "      <td>NaN</td>\n",
       "      <td>5</td>\n",
       "      <td>7</td>\n",
       "      <td>2</td>\n",
       "      <td>127</td>\n",
       "      <td>NaN</td>\n",
       "      <td>27</td>\n",
       "      <td>2</td>\n",
       "    </tr>\n",
       "    <tr>\n",
       "      <th>3</th>\n",
       "      <td>4</td>\n",
       "      <td>NaN</td>\n",
       "      <td>5</td>\n",
       "      <td>10</td>\n",
       "      <td>1</td>\n",
       "      <td>180</td>\n",
       "      <td>NaN</td>\n",
       "      <td>60</td>\n",
       "      <td>1</td>\n",
       "    </tr>\n",
       "    <tr>\n",
       "      <th>4</th>\n",
       "      <td>3</td>\n",
       "      <td>NaN</td>\n",
       "      <td>5</td>\n",
       "      <td>5</td>\n",
       "      <td>2</td>\n",
       "      <td>154</td>\n",
       "      <td>NaN</td>\n",
       "      <td>76</td>\n",
       "      <td>2</td>\n",
       "    </tr>\n",
       "    <tr>\n",
       "      <th>...</th>\n",
       "      <td>...</td>\n",
       "      <td>...</td>\n",
       "      <td>...</td>\n",
       "      <td>...</td>\n",
       "      <td>...</td>\n",
       "      <td>...</td>\n",
       "      <td>...</td>\n",
       "      <td>...</td>\n",
       "      <td>...</td>\n",
       "    </tr>\n",
       "    <tr>\n",
       "      <th>29995</th>\n",
       "      <td>3</td>\n",
       "      <td>NaN</td>\n",
       "      <td>5</td>\n",
       "      <td>6</td>\n",
       "      <td>2</td>\n",
       "      <td>190</td>\n",
       "      <td>NaN</td>\n",
       "      <td>50</td>\n",
       "      <td>1</td>\n",
       "    </tr>\n",
       "    <tr>\n",
       "      <th>29996</th>\n",
       "      <td>3</td>\n",
       "      <td>NaN</td>\n",
       "      <td>4</td>\n",
       "      <td>8</td>\n",
       "      <td>2</td>\n",
       "      <td>129</td>\n",
       "      <td>NaN</td>\n",
       "      <td>33</td>\n",
       "      <td>2</td>\n",
       "    </tr>\n",
       "    <tr>\n",
       "      <th>29997</th>\n",
       "      <td>4</td>\n",
       "      <td>NaN</td>\n",
       "      <td>5</td>\n",
       "      <td>1</td>\n",
       "      <td>2</td>\n",
       "      <td>170</td>\n",
       "      <td>NaN</td>\n",
       "      <td>65</td>\n",
       "      <td>2</td>\n",
       "    </tr>\n",
       "    <tr>\n",
       "      <th>29998</th>\n",
       "      <td>1</td>\n",
       "      <td>NaN</td>\n",
       "      <td>5</td>\n",
       "      <td>5</td>\n",
       "      <td>2</td>\n",
       "      <td>140</td>\n",
       "      <td>NaN</td>\n",
       "      <td>52</td>\n",
       "      <td>2</td>\n",
       "    </tr>\n",
       "    <tr>\n",
       "      <th>29999</th>\n",
       "      <td>1</td>\n",
       "      <td>NaN</td>\n",
       "      <td>5</td>\n",
       "      <td>1</td>\n",
       "      <td>2</td>\n",
       "      <td>120</td>\n",
       "      <td>NaN</td>\n",
       "      <td>24</td>\n",
       "      <td>2</td>\n",
       "    </tr>\n",
       "  </tbody>\n",
       "</table>\n",
       "<p>30000 rows × 9 columns</p>\n",
       "</div>"
      ],
      "text/plain": [
       "       GENHLTH  EXERANY  HTF  HTI  SMOKE100  WEIGHT  WTDESIRE  AGE  SEX\n",
       "0            3      NaN    5    6         1     130       NaN   73    2\n",
       "1            3      NaN    5    8         2     160       NaN   59    2\n",
       "2            1      NaN    5    7         2     127       NaN   27    2\n",
       "3            4      NaN    5   10         1     180       NaN   60    1\n",
       "4            3      NaN    5    5         2     154       NaN   76    2\n",
       "...        ...      ...  ...  ...       ...     ...       ...  ...  ...\n",
       "29995        3      NaN    5    6         2     190       NaN   50    1\n",
       "29996        3      NaN    4    8         2     129       NaN   33    2\n",
       "29997        4      NaN    5    1         2     170       NaN   65    2\n",
       "29998        1      NaN    5    5         2     140       NaN   52    2\n",
       "29999        1      NaN    5    1         2     120       NaN   24    2\n",
       "\n",
       "[30000 rows x 9 columns]"
      ]
     },
     "execution_count": 7,
     "metadata": {},
     "output_type": "execute_result"
    }
   ],
   "source": [
    "Large_Columns_b = cdbr[['GENHLTH','EXERANY','HTF','HTI','SMOKE100','WEIGHT','WTDESIRE','AGE','SEX']]\n",
    "filename_destination= 'working/Large_Columns_b.csv'\n",
    "Large_Columns_b.to_csv(filename_destination) \n",
    "Large_Columns_b  # display the Dataframe that question \"Large Column b\" required"
   ]
  },
  {
   "cell_type": "markdown",
   "id": "555159d5",
   "metadata": {
    "papermill": {
     "duration": 0.023345,
     "end_time": "2022-04-10T09:36:21.097254",
     "exception": false,
     "start_time": "2022-04-10T09:36:21.073909",
     "status": "completed"
    },
    "tags": []
   },
   "source": [
    "> c. How many cases and how many variables are there in your sample? \n",
    "\n",
    "(c) 30,000 cases; 9 variables"
   ]
  },
  {
   "cell_type": "markdown",
   "id": "bd3acc69",
   "metadata": {
    "papermill": {
     "duration": 0.022993,
     "end_time": "2022-04-10T09:36:21.143390",
     "exception": false,
     "start_time": "2022-04-10T09:36:21.120397",
     "status": "completed"
    },
    "tags": []
   },
   "source": [
    "> d. What type of variable is genhlth?\n",
    "\n",
    "(d) categorical, ordinal"
   ]
  },
  {
   "cell_type": "markdown",
   "id": "92e67d34",
   "metadata": {
    "papermill": {
     "duration": 0.023034,
     "end_time": "2022-04-10T09:36:21.189912",
     "exception": false,
     "start_time": "2022-04-10T09:36:21.166878",
     "status": "completed"
    },
    "tags": []
   },
   "source": [
    "> e. What type of variable is weight?\n",
    "\n",
    "(b) numerical, discrete"
   ]
  },
  {
   "cell_type": "markdown",
   "id": "e32d31e7",
   "metadata": {
    "papermill": {
     "duration": 0.023144,
     "end_time": "2022-04-10T09:36:21.236302",
     "exception": false,
     "start_time": "2022-04-10T09:36:21.213158",
     "status": "completed"
    },
    "tags": []
   },
   "source": [
    "> f. What type of variable is smoke100?\n",
    "\n",
    "(c) categorical (not ordinal)"
   ]
  },
  {
   "cell_type": "markdown",
   "id": "5bd229cf",
   "metadata": {
    "papermill": {
     "duration": 0.023569,
     "end_time": "2022-04-10T09:36:21.283344",
     "exception": false,
     "start_time": "2022-04-10T09:36:21.259775",
     "status": "completed"
    },
    "tags": []
   },
   "source": [
    "**> One Bar chart**\n",
    "* > Take all genhlth entries from your sample and draw a bar chart to visualize how the cases are distributed across the possible categories."
   ]
  },
  {
   "cell_type": "code",
   "execution_count": 8,
   "id": "fa39d982",
   "metadata": {
    "execution": {
     "iopub.execute_input": "2022-04-10T09:36:21.333987Z",
     "iopub.status.busy": "2022-04-10T09:36:21.333053Z",
     "iopub.status.idle": "2022-04-10T09:36:22.583214Z",
     "shell.execute_reply": "2022-04-10T09:36:22.582542Z",
     "shell.execute_reply.started": "2022-04-10T09:35:44.242141Z"
    },
    "papermill": {
     "duration": 1.276533,
     "end_time": "2022-04-10T09:36:22.583376",
     "exception": false,
     "start_time": "2022-04-10T09:36:21.306843",
     "status": "completed"
    },
    "tags": []
   },
   "outputs": [
    {
     "data": {
      "text/plain": [
       "<AxesSubplot:>"
      ]
     },
     "execution_count": 8,
     "metadata": {},
     "output_type": "execute_result"
    },
    {
     "data": {
      "image/png": "[encoded data removed]",
      "text/plain": [
       "<Figure size 432x288 with 1 Axes>"
      ]
     },
     "metadata": {
      "needs_background": "light"
     },
     "output_type": "display_data"
    }
   ],
   "source": [
    "# x axis represents General Health. 1,2,3,4,5,7,9 means Excellent, Very good, Good, Fair, Poor, Don't know, Refused respectively\n",
    "# y axis represents freuquency\n",
    "import numpy as np\n",
    "import seaborn as sns\n",
    "genhlth = Large_Columns_b['GENHLTH']\n",
    "genhlth_data_count = np.unique(genhlth,return_counts = True)\n",
    "sns.barplot(x = genhlth_data_count[0],y = genhlth_data_count[1])"
   ]
  },
  {
   "cell_type": "markdown",
   "id": "6d49d675",
   "metadata": {
    "papermill": {
     "duration": 0.024187,
     "end_time": "2022-04-10T09:36:22.634136",
     "exception": false,
     "start_time": "2022-04-10T09:36:22.609949",
     "status": "completed"
    },
    "tags": []
   },
   "source": [
    "> Two Bar Charts\n",
    "* > Combine the smoke100 with the genhlth entries from your sample and draw two bar charts, one showing the health of the smokers and a second one showing the health of the non-smokers."
   ]
  },
  {
   "cell_type": "code",
   "execution_count": 9,
   "id": "c527a22b",
   "metadata": {
    "execution": {
     "iopub.execute_input": "2022-04-10T09:36:22.689477Z",
     "iopub.status.busy": "2022-04-10T09:36:22.688744Z",
     "iopub.status.idle": "2022-04-10T09:36:22.700868Z",
     "shell.execute_reply": "2022-04-10T09:36:22.701413Z",
     "shell.execute_reply.started": "2022-04-10T09:35:45.684007Z"
    },
    "papermill": {
     "duration": 0.042657,
     "end_time": "2022-04-10T09:36:22.701605",
     "exception": false,
     "start_time": "2022-04-10T09:36:22.658948",
     "status": "completed"
    },
    "tags": []
   },
   "outputs": [
    {
     "data": {
      "text/plain": [
       "count      24.000000\n",
       "mean     1250.000000\n",
       "std      1849.471934\n",
       "min         1.000000\n",
       "25%         3.000000\n",
       "50%        24.500000\n",
       "75%      1986.750000\n",
       "max      5357.000000\n",
       "Name: SMOKE100, dtype: float64"
      ]
     },
     "execution_count": 9,
     "metadata": {},
     "output_type": "execute_result"
    }
   ],
   "source": [
    "genhlth_count_ifsmoke = Large_Columns_b.groupby(['SMOKE100','GENHLTH']).SMOKE100.agg('count')\n",
    "genhlth_count_ifsmoke.describe()\n",
    "#genhlth_count_ifsmoke['SMOKE100'].describe()\n",
    "#sns.barplot(x = 'SMOKE100', y = 'count', hue = 'GENHLTH',data = genhlth_count_ifsmoke)"
   ]
  },
  {
   "cell_type": "code",
   "execution_count": 10,
   "id": "83f59798",
   "metadata": {
    "execution": {
     "iopub.execute_input": "2022-04-10T09:36:22.755880Z",
     "iopub.status.busy": "2022-04-10T09:36:22.754374Z",
     "iopub.status.idle": "2022-04-10T09:36:23.090686Z",
     "shell.execute_reply": "2022-04-10T09:36:23.089694Z",
     "shell.execute_reply.started": "2022-04-10T09:35:45.703866Z"
    },
    "papermill": {
     "duration": 0.364109,
     "end_time": "2022-04-10T09:36:23.090853",
     "exception": false,
     "start_time": "2022-04-10T09:36:22.726744",
     "status": "completed"
    },
    "tags": []
   },
   "outputs": [
    {
     "data": {
      "text/plain": [
       "<AxesSubplot:xlabel='SMOKE100'>"
      ]
     },
     "execution_count": 10,
     "metadata": {},
     "output_type": "execute_result"
    },
    {
     "data": {
      "image/png": "[encoded data removed]",
      "text/plain": [
       "<Figure size 432x288 with 1 Axes>"
      ]
     },
     "metadata": {
      "needs_background": "light"
     },
     "output_type": "display_data"
    }
   ],
   "source": [
    "#  x axis represents if smoke100, if so ,x=1; otherwise x=2. x=7,9 means 'not sure'/'refused' respectively. y axis means frequency \n",
    "genhlth_count_ifsmoke.unstack().plot.bar() "
   ]
  },
  {
   "cell_type": "markdown",
   "id": "ce2d2c91",
   "metadata": {
    "papermill": {
     "duration": 0.026729,
     "end_time": "2022-04-10T09:36:23.144081",
     "exception": false,
     "start_time": "2022-04-10T09:36:23.117352",
     "status": "completed"
    },
    "tags": []
   },
   "source": [
    "**> BMI**\n",
    "* > Next let’s consider a new variable bmi that doesn’t show up directly in this data set: Body Mass Index (BMI). \n",
    "* > Compute the bmi for each case in your sample and add it to the sample (e.g. as additional column). \n",
    "* > Visualize the distribution of the BMI in your sample."
   ]
  },
  {
   "cell_type": "code",
   "execution_count": 11,
   "id": "05919037",
   "metadata": {
    "execution": {
     "iopub.execute_input": "2022-04-10T09:36:23.206431Z",
     "iopub.status.busy": "2022-04-10T09:36:23.205376Z",
     "iopub.status.idle": "2022-04-10T09:36:23.233958Z",
     "shell.execute_reply": "2022-04-10T09:36:23.234539Z",
     "shell.execute_reply.started": "2022-04-10T09:35:46.061109Z"
    },
    "papermill": {
     "duration": 0.064262,
     "end_time": "2022-04-10T09:36:23.234726",
     "exception": false,
     "start_time": "2022-04-10T09:36:23.170464",
     "status": "completed"
    },
    "tags": []
   },
   "outputs": [
    {
     "name": "stderr",
     "output_type": "stream",
     "text": [
      "/opt/conda/lib/python3.7/site-packages/ipykernel_launcher.py:1: SettingWithCopyWarning: \n",
      "A value is trying to be set on a copy of a slice from a DataFrame.\n",
      "Try using .loc[row_indexer,col_indexer] = value instead\n",
      "\n",
      "See the caveats in the documentation: https://pandas.pydata.org/pandas-docs/stable/user_guide/indexing.html#returning-a-view-versus-a-copy\n",
      "  \"\"\"Entry point for launching an IPython kernel.\n",
      "/opt/conda/lib/python3.7/site-packages/pandas/core/frame.py:4913: SettingWithCopyWarning: \n",
      "A value is trying to be set on a copy of a slice from a DataFrame\n",
      "\n",
      "See the caveats in the documentation: https://pandas.pydata.org/pandas-docs/stable/user_guide/indexing.html#returning-a-view-versus-a-copy\n",
      "  errors=errors,\n",
      "/opt/conda/lib/python3.7/site-packages/pandas/core/generic.py:4153: SettingWithCopyWarning: \n",
      "A value is trying to be set on a copy of a slice from a DataFrame\n",
      "\n",
      "See the caveats in the documentation: https://pandas.pydata.org/pandas-docs/stable/user_guide/indexing.html#returning-a-view-versus-a-copy\n",
      "  self._update_inplace(obj)\n"
     ]
    },
    {
     "data": {
      "text/plain": [
       "0          2538.611111\n",
       "1          1757.500000\n",
       "2          1822.061224\n",
       "3          1265.400000\n",
       "4          4330.480000\n",
       "             ...      \n",
       "29995      3710.277778\n",
       "29996      1416.984375\n",
       "29997    119510.000000\n",
       "29998      3936.800000\n",
       "29999     84360.000000\n",
       "Name: BMI, Length: 26868, dtype: float64"
      ]
     },
     "execution_count": 11,
     "metadata": {},
     "output_type": "execute_result"
    }
   ],
   "source": [
    "Large_Columns_b['BMI'] = Large_Columns_b['WEIGHT']/(Large_Columns_b['HTI']*Large_Columns_b['HTI'])*703\n",
    "Large_Columns_b.drop(Large_Columns_b[Large_Columns_b.HTI > 11].index, inplace = True)\n",
    "BMI_data = Large_Columns_b['BMI']\n",
    "BMI_data.drop(BMI_data[BMI_data == np.inf].index, inplace=True)\n",
    "BMI_data"
   ]
  },
  {
   "cell_type": "code",
   "execution_count": 12,
   "id": "a64a9726",
   "metadata": {
    "execution": {
     "iopub.execute_input": "2022-04-10T09:36:23.295014Z",
     "iopub.status.busy": "2022-04-10T09:36:23.292205Z",
     "iopub.status.idle": "2022-04-10T09:36:25.549209Z",
     "shell.execute_reply": "2022-04-10T09:36:25.548538Z",
     "shell.execute_reply.started": "2022-04-10T09:35:46.097360Z"
    },
    "papermill": {
     "duration": 2.286888,
     "end_time": "2022-04-10T09:36:25.549414",
     "exception": false,
     "start_time": "2022-04-10T09:36:23.262526",
     "status": "completed"
    },
    "tags": []
   },
   "outputs": [
    {
     "data": {
      "text/plain": [
       "<AxesSubplot:ylabel='Frequency'>"
      ]
     },
     "execution_count": 12,
     "metadata": {},
     "output_type": "execute_result"
    },
    {
     "data": {
      "image/png": "[encoded data removed]",
      "text/plain": [
       "<Figure size 432x288 with 1 Axes>"
      ]
     },
     "metadata": {
      "needs_background": "light"
     },
     "output_type": "display_data"
    }
   ],
   "source": [
    "# It's a histogram, x axis represents BMI, y axis represents Frequency\n",
    "BMI_data.plot.hist('BMI', bins = 1000, range=(0,175000))"
   ]
  }
 ],
 "metadata": {
  "kernelspec": {
   "display_name": "Python 3",
   "language": "python",
   "name": "python3"
  },
  "language_info": {
   "codemirror_mode": {
    "name": "ipython",
    "version": 3
   },
   "file_extension": ".py",
   "mimetype": "text/x-python",
   "name": "python",
   "nbconvert_exporter": "python",
   "pygments_lexer": "ipython3",
   "version": "3.7.12"
  },
  "papermill": {
   "default_parameters": {},
   "duration": 18.864957,
   "end_time": "2022-04-10T09:36:26.389638",
   "environment_variables": {},
   "exception": null,
   "input_path": "__notebook__.ipynb",
   "output_path": "__notebook__.ipynb",
   "parameters": {},
   "start_time": "2022-04-10T09:36:07.524681",
   "version": "2.3.3"
  }
 },
 "nbformat": 4,
 "nbformat_minor": 5
}
