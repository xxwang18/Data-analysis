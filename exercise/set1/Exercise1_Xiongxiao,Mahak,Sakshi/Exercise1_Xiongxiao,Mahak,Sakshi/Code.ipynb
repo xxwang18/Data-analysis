{
 "cells": [
  {
   "cell_type": "code",
   "execution_count": 1,
   "id": "75c771d8",
   "metadata": {
    "_cell_guid": "b1076dfc-b9ad-4769-8c92-a6c4dae69d19",
    "_uuid": "8f2839f25d086af736a60e9eeb907d3b93b6e0e5",
    "execution": {
     "iopub.execute_input": "2022-04-10T19:28:50.917459Z",
     "iopub.status.busy": "2022-04-10T19:28:50.915796Z",
     "iopub.status.idle": "2022-04-10T19:28:50.931312Z",
     "shell.execute_reply": "2022-04-10T19:28:50.930636Z",
     "shell.execute_reply.started": "2022-04-10T18:39:51.645396Z"
    },
    "papermill": {
     "duration": 0.037494,
     "end_time": "2022-04-10T19:28:50.931477",
     "exception": false,
     "start_time": "2022-04-10T19:28:50.893983",
     "status": "completed"
    },
    "tags": []
   },
   "outputs": [
    {
     "name": "stdout",
     "output_type": "stream",
     "text": [
      "/kaggle/input/dataset/cdbrfss1999.csv\n"
     ]
    }
   ],
   "source": [
    "# This Python 3 environment comes with many helpful analytics libraries installed\n",
    "# It is defined by the kaggle/python Docker image: https://github.com/kaggle/docker-python\n",
    "# For example, here's several helpful packages to load\n",
    "\n",
    "import numpy as np # linear algebra\n",
    "import pandas as pd # data processing, CSV file I/O (e.g. pd.read_csv)\n",
    "\n",
    "# Input data files are available in the read-only \"../input/\" directory\n",
    "# For example, running this (by clicking run or pressing Shift+Enter) will list all files under the input directory\n",
    "\n",
    "import os\n",
    "for dirname, _, filenames in os.walk('/kaggle/input'):\n",
    "    for filename in filenames:\n",
    "        print(os.path.join(dirname, filename))\n",
    "\n",
    "# You can write up to 20GB to the current directory (/kaggle/working/) that gets preserved as output when you create a version using \"Save & Run All\" \n",
    "# You can also write temporary files to /kaggle/temp/, but they won't be saved outside of the current session"
   ]
  },
  {
   "cell_type": "markdown",
   "id": "1d1166f0",
   "metadata": {
    "papermill": {
     "duration": 0.015372,
     "end_time": "2022-04-10T19:28:50.963387",
     "exception": false,
     "start_time": "2022-04-10T19:28:50.948015",
     "status": "completed"
    },
    "tags": []
   },
   "source": [
    "Data Analysis in Astronomy and Physics\n",
    "\n",
    "Exercise Set 1\n",
    "\n",
    "**Xiongxiao Wang, Sakshi Pahujani, Mahak Sadhwani**\n",
    "\n",
    "1.Sampling "
   ]
  },
  {
   "cell_type": "code",
   "execution_count": 2,
   "id": "6a433452",
   "metadata": {
    "execution": {
     "iopub.execute_input": "2022-04-10T19:28:50.997593Z",
     "iopub.status.busy": "2022-04-10T19:28:50.997002Z",
     "iopub.status.idle": "2022-04-10T19:28:51.002574Z",
     "shell.execute_reply": "2022-04-10T19:28:51.003066Z",
     "shell.execute_reply.started": "2022-04-10T18:39:55.479562Z"
    },
    "papermill": {
     "duration": 0.024175,
     "end_time": "2022-04-10T19:28:51.003232",
     "exception": false,
     "start_time": "2022-04-10T19:28:50.979057",
     "status": "completed"
    },
    "tags": []
   },
   "outputs": [
    {
     "data": {
      "text/plain": [
       "'/kaggle/working'"
      ]
     },
     "execution_count": 2,
     "metadata": {},
     "output_type": "execute_result"
    }
   ],
   "source": [
    "import os\n",
    "os.getcwd() # get current working dictory"
   ]
  },
  {
   "cell_type": "code",
   "execution_count": 3,
   "id": "cbb3ab7e",
   "metadata": {
    "execution": {
     "iopub.execute_input": "2022-04-10T19:28:51.041059Z",
     "iopub.status.busy": "2022-04-10T19:28:51.040295Z",
     "iopub.status.idle": "2022-04-10T19:28:51.043246Z",
     "shell.execute_reply": "2022-04-10T19:28:51.043779Z",
     "shell.execute_reply.started": "2022-04-10T18:39:58.245990Z"
    },
    "papermill": {
     "duration": 0.024664,
     "end_time": "2022-04-10T19:28:51.043933",
     "exception": false,
     "start_time": "2022-04-10T19:28:51.019269",
     "status": "completed"
    },
    "tags": []
   },
   "outputs": [
    {
     "data": {
      "text/plain": [
       "'/kaggle'"
      ]
     },
     "execution_count": 3,
     "metadata": {},
     "output_type": "execute_result"
    }
   ],
   "source": [
    "os.chdir('/kaggle/') #change dirctory to kaggle\n",
    "os.getcwd()"
   ]
  },
  {
   "cell_type": "code",
   "execution_count": 4,
   "id": "adde9cf1",
   "metadata": {
    "execution": {
     "iopub.execute_input": "2022-04-10T19:28:51.080623Z",
     "iopub.status.busy": "2022-04-10T19:28:51.078921Z",
     "iopub.status.idle": "2022-04-10T19:28:51.084354Z",
     "shell.execute_reply": "2022-04-10T19:28:51.084863Z",
     "shell.execute_reply.started": "2022-04-10T18:40:00.806346Z"
    },
    "papermill": {
     "duration": 0.024735,
     "end_time": "2022-04-10T19:28:51.085010",
     "exception": false,
     "start_time": "2022-04-10T19:28:51.060275",
     "status": "completed"
    },
    "tags": []
   },
   "outputs": [
    {
     "data": {
      "text/plain": [
       "['src', 'lib', 'input', 'working']"
      ]
     },
     "execution_count": 4,
     "metadata": {},
     "output_type": "execute_result"
    }
   ],
   "source": [
    "os.listdir('/kaggle') # show the list of dictory 'kaggle'"
   ]
  },
  {
   "cell_type": "code",
   "execution_count": 5,
   "id": "ba572c71",
   "metadata": {
    "execution": {
     "iopub.execute_input": "2022-04-10T19:28:51.121318Z",
     "iopub.status.busy": "2022-04-10T19:28:51.120165Z",
     "iopub.status.idle": "2022-04-10T19:28:51.126140Z",
     "shell.execute_reply": "2022-04-10T19:28:51.126706Z",
     "shell.execute_reply.started": "2022-04-10T18:59:08.108487Z"
    },
    "papermill": {
     "duration": 0.025593,
     "end_time": "2022-04-10T19:28:51.126862",
     "exception": false,
     "start_time": "2022-04-10T19:28:51.101269",
     "status": "completed"
    },
    "tags": []
   },
   "outputs": [
    {
     "data": {
      "text/plain": [
       "['cdbrfss1999.csv']"
      ]
     },
     "execution_count": 5,
     "metadata": {},
     "output_type": "execute_result"
    }
   ],
   "source": [
    "os.listdir('/kaggle/input/dataset')"
   ]
  },
  {
   "cell_type": "markdown",
   "id": "e4683606",
   "metadata": {
    "papermill": {
     "duration": 0.016625,
     "end_time": "2022-04-10T19:28:51.160639",
     "exception": false,
     "start_time": "2022-04-10T19:28:51.144014",
     "status": "completed"
    },
    "tags": []
   },
   "source": [
    "> **Large data**\n",
    "* > a. Take a sample of 30000 from this dataset and export it to an ASCII file. Make sure that your method allows to draw more than one sample from the population.\n",
    "* > b. Discuss your method to do so. Is your sampling a “good sample” in the sense that it is representative for the larger “population”? \n",
    "\n",
    "solution:\n",
    "* a.\n",
    "1. Get the total number of data in file by counting the number of rows and minus 1\n",
    "2. Set the desired sample size(30000)\n",
    "3. select (n-s) numbers randomly from range(1,n+1)\n",
    "4. skip the corresponding rows when reading the csv\n",
    "* b. \n",
    "The method here is simple random sampling,each sample chosen by equal probability, so it's can be representative for larger \"population\""
   ]
  },
  {
   "cell_type": "code",
   "execution_count": 6,
   "id": "c9659ab8",
   "metadata": {
    "execution": {
     "iopub.execute_input": "2022-04-10T19:28:51.199290Z",
     "iopub.status.busy": "2022-04-10T19:28:51.198651Z",
     "iopub.status.idle": "2022-04-10T19:28:53.125296Z",
     "shell.execute_reply": "2022-04-10T19:28:53.125693Z",
     "shell.execute_reply.started": "2022-04-10T18:59:25.154277Z"
    },
    "papermill": {
     "duration": 1.948695,
     "end_time": "2022-04-10T19:28:53.125847",
     "exception": false,
     "start_time": "2022-04-10T19:28:51.177152",
     "status": "completed"
    },
    "tags": []
   },
   "outputs": [
    {
     "name": "stderr",
     "output_type": "stream",
     "text": [
      "/opt/conda/lib/python3.7/site-packages/IPython/core/interactiveshell.py:3457: DtypeWarning: Columns (8) have mixed types.Specify dtype option on import or set low_memory=False.\n",
      "  exec(code_obj, self.user_global_ns, self.user_ns)\n"
     ]
    },
    {
     "data": {
      "text/html": [
       "<div>\n",
       "<style scoped>\n",
       "    .dataframe tbody tr th:only-of-type {\n",
       "        vertical-align: middle;\n",
       "    }\n",
       "\n",
       "    .dataframe tbody tr th {\n",
       "        vertical-align: top;\n",
       "    }\n",
       "\n",
       "    .dataframe thead th {\n",
       "        text-align: right;\n",
       "    }\n",
       "</style>\n",
       "<table border=\"1\" class=\"dataframe\">\n",
       "  <thead>\n",
       "    <tr style=\"text-align: right;\">\n",
       "      <th></th>\n",
       "      <th>STATE</th>\n",
       "      <th>GEOSTR</th>\n",
       "      <th>DENSTR</th>\n",
       "      <th>PSU</th>\n",
       "      <th>RECORD</th>\n",
       "      <th>IMONTH</th>\n",
       "      <th>IDAY</th>\n",
       "      <th>IYEAR</th>\n",
       "      <th>INTVID</th>\n",
       "      <th>Unnamed: 9</th>\n",
       "      <th>...</th>\n",
       "      <th>Unnamed: 272</th>\n",
       "      <th>Unnamed: 273</th>\n",
       "      <th>Unnamed: 274</th>\n",
       "      <th>Unnamed: 275</th>\n",
       "      <th>Unnamed: 276</th>\n",
       "      <th>Unnamed: 277</th>\n",
       "      <th>Unnamed: 278</th>\n",
       "      <th>Unnamed: 279</th>\n",
       "      <th>Unnamed: 280</th>\n",
       "      <th>Unnamed: 281</th>\n",
       "    </tr>\n",
       "  </thead>\n",
       "  <tbody>\n",
       "    <tr>\n",
       "      <th>0</th>\n",
       "      <td>1</td>\n",
       "      <td>1</td>\n",
       "      <td>1</td>\n",
       "      <td>10039</td>\n",
       "      <td>1</td>\n",
       "      <td>1</td>\n",
       "      <td>16</td>\n",
       "      <td>1999</td>\n",
       "      <td>0</td>\n",
       "      <td>NaN</td>\n",
       "      <td>...</td>\n",
       "      <td>1</td>\n",
       "      <td>9</td>\n",
       "      <td>1.0</td>\n",
       "      <td>1</td>\n",
       "      <td>2.0</td>\n",
       "      <td>6</td>\n",
       "      <td>1</td>\n",
       "      <td>1</td>\n",
       "      <td>1</td>\n",
       "      <td>1</td>\n",
       "    </tr>\n",
       "    <tr>\n",
       "      <th>1</th>\n",
       "      <td>1</td>\n",
       "      <td>1</td>\n",
       "      <td>1</td>\n",
       "      <td>10105</td>\n",
       "      <td>1</td>\n",
       "      <td>1</td>\n",
       "      <td>11</td>\n",
       "      <td>1999</td>\n",
       "      <td>40</td>\n",
       "      <td>NaN</td>\n",
       "      <td>...</td>\n",
       "      <td>1</td>\n",
       "      <td>9</td>\n",
       "      <td>1.0</td>\n",
       "      <td>1</td>\n",
       "      <td>3.0</td>\n",
       "      <td>9</td>\n",
       "      <td>1</td>\n",
       "      <td>1</td>\n",
       "      <td>1</td>\n",
       "      <td>1</td>\n",
       "    </tr>\n",
       "    <tr>\n",
       "      <th>2</th>\n",
       "      <td>1</td>\n",
       "      <td>1</td>\n",
       "      <td>1</td>\n",
       "      <td>10120</td>\n",
       "      <td>1</td>\n",
       "      <td>1</td>\n",
       "      <td>23</td>\n",
       "      <td>1999</td>\n",
       "      <td>33</td>\n",
       "      <td>NaN</td>\n",
       "      <td>...</td>\n",
       "      <td>1</td>\n",
       "      <td>9</td>\n",
       "      <td>1.0</td>\n",
       "      <td>1</td>\n",
       "      <td>1.0</td>\n",
       "      <td>3</td>\n",
       "      <td>1</td>\n",
       "      <td>1</td>\n",
       "      <td>1</td>\n",
       "      <td>1</td>\n",
       "    </tr>\n",
       "    <tr>\n",
       "      <th>3</th>\n",
       "      <td>1</td>\n",
       "      <td>1</td>\n",
       "      <td>1</td>\n",
       "      <td>10142</td>\n",
       "      <td>1</td>\n",
       "      <td>1</td>\n",
       "      <td>12</td>\n",
       "      <td>1999</td>\n",
       "      <td>33</td>\n",
       "      <td>NaN</td>\n",
       "      <td>...</td>\n",
       "      <td>1</td>\n",
       "      <td>9</td>\n",
       "      <td>3.0</td>\n",
       "      <td>1</td>\n",
       "      <td>2.0</td>\n",
       "      <td>5</td>\n",
       "      <td>1</td>\n",
       "      <td>1</td>\n",
       "      <td>1</td>\n",
       "      <td>1</td>\n",
       "    </tr>\n",
       "    <tr>\n",
       "      <th>4</th>\n",
       "      <td>1</td>\n",
       "      <td>1</td>\n",
       "      <td>1</td>\n",
       "      <td>10155</td>\n",
       "      <td>1</td>\n",
       "      <td>1</td>\n",
       "      <td>12</td>\n",
       "      <td>1999</td>\n",
       "      <td>0</td>\n",
       "      <td>NaN</td>\n",
       "      <td>...</td>\n",
       "      <td>1</td>\n",
       "      <td>9</td>\n",
       "      <td>1.0</td>\n",
       "      <td>1</td>\n",
       "      <td>2.0</td>\n",
       "      <td>7</td>\n",
       "      <td>1</td>\n",
       "      <td>1</td>\n",
       "      <td>1</td>\n",
       "      <td>1</td>\n",
       "    </tr>\n",
       "    <tr>\n",
       "      <th>...</th>\n",
       "      <td>...</td>\n",
       "      <td>...</td>\n",
       "      <td>...</td>\n",
       "      <td>...</td>\n",
       "      <td>...</td>\n",
       "      <td>...</td>\n",
       "      <td>...</td>\n",
       "      <td>...</td>\n",
       "      <td>...</td>\n",
       "      <td>...</td>\n",
       "      <td>...</td>\n",
       "      <td>...</td>\n",
       "      <td>...</td>\n",
       "      <td>...</td>\n",
       "      <td>...</td>\n",
       "      <td>...</td>\n",
       "      <td>...</td>\n",
       "      <td>...</td>\n",
       "      <td>...</td>\n",
       "      <td>...</td>\n",
       "      <td>...</td>\n",
       "    </tr>\n",
       "    <tr>\n",
       "      <th>29995</th>\n",
       "      <td>72</td>\n",
       "      <td>1</td>\n",
       "      <td>1</td>\n",
       "      <td>120976</td>\n",
       "      <td>1</td>\n",
       "      <td>12</td>\n",
       "      <td>20</td>\n",
       "      <td>1999</td>\n",
       "      <td>4</td>\n",
       "      <td>NaN</td>\n",
       "      <td>...</td>\n",
       "      <td>2</td>\n",
       "      <td>9</td>\n",
       "      <td>1.0</td>\n",
       "      <td>1</td>\n",
       "      <td>1.0</td>\n",
       "      <td>3</td>\n",
       "      <td>1</td>\n",
       "      <td>2</td>\n",
       "      <td>3</td>\n",
       "      <td>1</td>\n",
       "    </tr>\n",
       "    <tr>\n",
       "      <th>29996</th>\n",
       "      <td>72</td>\n",
       "      <td>1</td>\n",
       "      <td>1</td>\n",
       "      <td>121012</td>\n",
       "      <td>1</td>\n",
       "      <td>12</td>\n",
       "      <td>22</td>\n",
       "      <td>1999</td>\n",
       "      <td>9</td>\n",
       "      <td>NaN</td>\n",
       "      <td>...</td>\n",
       "      <td>1</td>\n",
       "      <td>9</td>\n",
       "      <td>1.0</td>\n",
       "      <td>1</td>\n",
       "      <td>3.0</td>\n",
       "      <td>10</td>\n",
       "      <td>2</td>\n",
       "      <td>2</td>\n",
       "      <td>3</td>\n",
       "      <td>1</td>\n",
       "    </tr>\n",
       "    <tr>\n",
       "      <th>29997</th>\n",
       "      <td>72</td>\n",
       "      <td>1</td>\n",
       "      <td>1</td>\n",
       "      <td>121021</td>\n",
       "      <td>1</td>\n",
       "      <td>12</td>\n",
       "      <td>19</td>\n",
       "      <td>1999</td>\n",
       "      <td>20</td>\n",
       "      <td>NaN</td>\n",
       "      <td>...</td>\n",
       "      <td>1</td>\n",
       "      <td>9</td>\n",
       "      <td>1.0</td>\n",
       "      <td>1</td>\n",
       "      <td>2.0</td>\n",
       "      <td>4</td>\n",
       "      <td>1</td>\n",
       "      <td>2</td>\n",
       "      <td>3</td>\n",
       "      <td>1</td>\n",
       "    </tr>\n",
       "    <tr>\n",
       "      <th>29998</th>\n",
       "      <td>72</td>\n",
       "      <td>1</td>\n",
       "      <td>1</td>\n",
       "      <td>121040</td>\n",
       "      <td>1</td>\n",
       "      <td>12</td>\n",
       "      <td>2</td>\n",
       "      <td>1999</td>\n",
       "      <td>6</td>\n",
       "      <td>NaN</td>\n",
       "      <td>...</td>\n",
       "      <td>1</td>\n",
       "      <td>9</td>\n",
       "      <td>3.0</td>\n",
       "      <td>1</td>\n",
       "      <td>1.0</td>\n",
       "      <td>1</td>\n",
       "      <td>1</td>\n",
       "      <td>2</td>\n",
       "      <td>3</td>\n",
       "      <td>1</td>\n",
       "    </tr>\n",
       "    <tr>\n",
       "      <th>29999</th>\n",
       "      <td>72</td>\n",
       "      <td>1</td>\n",
       "      <td>1</td>\n",
       "      <td>121057</td>\n",
       "      <td>1</td>\n",
       "      <td>12</td>\n",
       "      <td>9</td>\n",
       "      <td>1999</td>\n",
       "      <td>20</td>\n",
       "      <td>NaN</td>\n",
       "      <td>...</td>\n",
       "      <td>2</td>\n",
       "      <td>9</td>\n",
       "      <td>1.0</td>\n",
       "      <td>1</td>\n",
       "      <td>2.0</td>\n",
       "      <td>7</td>\n",
       "      <td>1</td>\n",
       "      <td>2</td>\n",
       "      <td>3</td>\n",
       "      <td>1</td>\n",
       "    </tr>\n",
       "  </tbody>\n",
       "</table>\n",
       "<p>30000 rows × 282 columns</p>\n",
       "</div>"
      ],
      "text/plain": [
       "       STATE  GEOSTR  DENSTR     PSU  RECORD  IMONTH   IDAY   IYEAR  INTVID   \\\n",
       "0          1       1       1   10039       1        1     16    1999       0   \n",
       "1          1       1       1   10105       1        1     11    1999      40   \n",
       "2          1       1       1   10120       1        1     23    1999      33   \n",
       "3          1       1       1   10142       1        1     12    1999      33   \n",
       "4          1       1       1   10155       1        1     12    1999       0   \n",
       "...      ...     ...     ...     ...     ...      ...    ...     ...     ...   \n",
       "29995     72       1       1  120976       1       12     20    1999       4   \n",
       "29996     72       1       1  121012       1       12     22    1999       9   \n",
       "29997     72       1       1  121021       1       12     19    1999      20   \n",
       "29998     72       1       1  121040       1       12      2    1999       6   \n",
       "29999     72       1       1  121057       1       12      9    1999      20   \n",
       "\n",
       "       Unnamed: 9  ...  Unnamed: 272  Unnamed: 273  Unnamed: 274  \\\n",
       "0             NaN  ...             1             9           1.0   \n",
       "1             NaN  ...             1             9           1.0   \n",
       "2             NaN  ...             1             9           1.0   \n",
       "3             NaN  ...             1             9           3.0   \n",
       "4             NaN  ...             1             9           1.0   \n",
       "...           ...  ...           ...           ...           ...   \n",
       "29995         NaN  ...             2             9           1.0   \n",
       "29996         NaN  ...             1             9           1.0   \n",
       "29997         NaN  ...             1             9           1.0   \n",
       "29998         NaN  ...             1             9           3.0   \n",
       "29999         NaN  ...             2             9           1.0   \n",
       "\n",
       "       Unnamed: 275  Unnamed: 276  Unnamed: 277  Unnamed: 278  Unnamed: 279  \\\n",
       "0                 1           2.0             6             1             1   \n",
       "1                 1           3.0             9             1             1   \n",
       "2                 1           1.0             3             1             1   \n",
       "3                 1           2.0             5             1             1   \n",
       "4                 1           2.0             7             1             1   \n",
       "...             ...           ...           ...           ...           ...   \n",
       "29995             1           1.0             3             1             2   \n",
       "29996             1           3.0            10             2             2   \n",
       "29997             1           2.0             4             1             2   \n",
       "29998             1           1.0             1             1             2   \n",
       "29999             1           2.0             7             1             2   \n",
       "\n",
       "       Unnamed: 280  Unnamed: 281  \n",
       "0                 1             1  \n",
       "1                 1             1  \n",
       "2                 1             1  \n",
       "3                 1             1  \n",
       "4                 1             1  \n",
       "...             ...           ...  \n",
       "29995             3             1  \n",
       "29996             3             1  \n",
       "29997             3             1  \n",
       "29998             3             1  \n",
       "29999             3             1  \n",
       "\n",
       "[30000 rows x 282 columns]"
      ]
     },
     "execution_count": 6,
     "metadata": {},
     "output_type": "execute_result"
    }
   ],
   "source": [
    "import pandas as pd\n",
    "import random\n",
    "\n",
    "filename = 'input/dataset/cdbrfss1999.csv'\n",
    "n = sum(1 for line in open(filename)) - 1 #number of rows in file (excludes header)\n",
    "s = 30000 #desired sample size\n",
    "skip = sorted(random.sample(range(1,n+1),n-s)) #select (n-s) numbers randomly from range(1,n+1). In next step, skip the corresponding row when reading the csv \n",
    "cdbr = pd.read_csv(filename,skiprows = skip)\n",
    "cdbr #display the 30000 samples by dataframe"
   ]
  },
  {
   "cell_type": "markdown",
   "id": "d73dc8de",
   "metadata": {
    "papermill": {
     "duration": 0.017455,
     "end_time": "2022-04-10T19:28:53.161115",
     "exception": false,
     "start_time": "2022-04-10T19:28:53.143660",
     "status": "completed"
    },
    "tags": []
   },
   "source": [
    "**> Large columns**\n",
    "* > a. Locate the columns corresponding to the variables genhlth, exerany, htf, hti, smoke100, weight, wtdesire, age, and sex.\n",
    "* > b. Reduce your sample to include only these variables and export it to an ASCII file.\n",
    "\n",
    "solution:\n",
    "export this Dataframe into an ASCII file that include only these variables"
   ]
  },
  {
   "cell_type": "code",
   "execution_count": 7,
   "id": "0e430eef",
   "metadata": {
    "execution": {
     "iopub.execute_input": "2022-04-10T19:28:53.199204Z",
     "iopub.status.busy": "2022-04-10T19:28:53.198660Z",
     "iopub.status.idle": "2022-04-10T19:28:53.290887Z",
     "shell.execute_reply": "2022-04-10T19:28:53.290344Z",
     "shell.execute_reply.started": "2022-04-10T18:59:29.607695Z"
    },
    "papermill": {
     "duration": 0.112485,
     "end_time": "2022-04-10T19:28:53.291021",
     "exception": false,
     "start_time": "2022-04-10T19:28:53.178536",
     "status": "completed"
    },
    "tags": []
   },
   "outputs": [
    {
     "data": {
      "text/html": [
       "<div>\n",
       "<style scoped>\n",
       "    .dataframe tbody tr th:only-of-type {\n",
       "        vertical-align: middle;\n",
       "    }\n",
       "\n",
       "    .dataframe tbody tr th {\n",
       "        vertical-align: top;\n",
       "    }\n",
       "\n",
       "    .dataframe thead th {\n",
       "        text-align: right;\n",
       "    }\n",
       "</style>\n",
       "<table border=\"1\" class=\"dataframe\">\n",
       "  <thead>\n",
       "    <tr style=\"text-align: right;\">\n",
       "      <th></th>\n",
       "      <th>GENHLTH</th>\n",
       "      <th>EXERANY</th>\n",
       "      <th>HTF</th>\n",
       "      <th>HTI</th>\n",
       "      <th>SMOKE100</th>\n",
       "      <th>WEIGHT</th>\n",
       "      <th>WTDESIRE</th>\n",
       "      <th>AGE</th>\n",
       "      <th>SEX</th>\n",
       "    </tr>\n",
       "  </thead>\n",
       "  <tbody>\n",
       "    <tr>\n",
       "      <th>0</th>\n",
       "      <td>1</td>\n",
       "      <td>NaN</td>\n",
       "      <td>5</td>\n",
       "      <td>8</td>\n",
       "      <td>1</td>\n",
       "      <td>175</td>\n",
       "      <td>NaN</td>\n",
       "      <td>49</td>\n",
       "      <td>2</td>\n",
       "    </tr>\n",
       "    <tr>\n",
       "      <th>1</th>\n",
       "      <td>4</td>\n",
       "      <td>NaN</td>\n",
       "      <td>5</td>\n",
       "      <td>10</td>\n",
       "      <td>1</td>\n",
       "      <td>180</td>\n",
       "      <td>NaN</td>\n",
       "      <td>60</td>\n",
       "      <td>1</td>\n",
       "    </tr>\n",
       "    <tr>\n",
       "      <th>2</th>\n",
       "      <td>1</td>\n",
       "      <td>NaN</td>\n",
       "      <td>5</td>\n",
       "      <td>3</td>\n",
       "      <td>2</td>\n",
       "      <td>147</td>\n",
       "      <td>NaN</td>\n",
       "      <td>34</td>\n",
       "      <td>2</td>\n",
       "    </tr>\n",
       "    <tr>\n",
       "      <th>3</th>\n",
       "      <td>3</td>\n",
       "      <td>NaN</td>\n",
       "      <td>5</td>\n",
       "      <td>5</td>\n",
       "      <td>1</td>\n",
       "      <td>110</td>\n",
       "      <td>NaN</td>\n",
       "      <td>42</td>\n",
       "      <td>2</td>\n",
       "    </tr>\n",
       "    <tr>\n",
       "      <th>4</th>\n",
       "      <td>2</td>\n",
       "      <td>NaN</td>\n",
       "      <td>5</td>\n",
       "      <td>3</td>\n",
       "      <td>2</td>\n",
       "      <td>126</td>\n",
       "      <td>NaN</td>\n",
       "      <td>52</td>\n",
       "      <td>2</td>\n",
       "    </tr>\n",
       "    <tr>\n",
       "      <th>...</th>\n",
       "      <td>...</td>\n",
       "      <td>...</td>\n",
       "      <td>...</td>\n",
       "      <td>...</td>\n",
       "      <td>...</td>\n",
       "      <td>...</td>\n",
       "      <td>...</td>\n",
       "      <td>...</td>\n",
       "      <td>...</td>\n",
       "    </tr>\n",
       "    <tr>\n",
       "      <th>29995</th>\n",
       "      <td>3</td>\n",
       "      <td>NaN</td>\n",
       "      <td>5</td>\n",
       "      <td>6</td>\n",
       "      <td>2</td>\n",
       "      <td>180</td>\n",
       "      <td>NaN</td>\n",
       "      <td>31</td>\n",
       "      <td>1</td>\n",
       "    </tr>\n",
       "    <tr>\n",
       "      <th>29996</th>\n",
       "      <td>3</td>\n",
       "      <td>NaN</td>\n",
       "      <td>5</td>\n",
       "      <td>4</td>\n",
       "      <td>2</td>\n",
       "      <td>120</td>\n",
       "      <td>NaN</td>\n",
       "      <td>69</td>\n",
       "      <td>2</td>\n",
       "    </tr>\n",
       "    <tr>\n",
       "      <th>29997</th>\n",
       "      <td>1</td>\n",
       "      <td>NaN</td>\n",
       "      <td>5</td>\n",
       "      <td>1</td>\n",
       "      <td>2</td>\n",
       "      <td>125</td>\n",
       "      <td>NaN</td>\n",
       "      <td>37</td>\n",
       "      <td>2</td>\n",
       "    </tr>\n",
       "    <tr>\n",
       "      <th>29998</th>\n",
       "      <td>1</td>\n",
       "      <td>NaN</td>\n",
       "      <td>5</td>\n",
       "      <td>1</td>\n",
       "      <td>2</td>\n",
       "      <td>120</td>\n",
       "      <td>NaN</td>\n",
       "      <td>24</td>\n",
       "      <td>2</td>\n",
       "    </tr>\n",
       "    <tr>\n",
       "      <th>29999</th>\n",
       "      <td>4</td>\n",
       "      <td>NaN</td>\n",
       "      <td>5</td>\n",
       "      <td>4</td>\n",
       "      <td>2</td>\n",
       "      <td>170</td>\n",
       "      <td>NaN</td>\n",
       "      <td>54</td>\n",
       "      <td>2</td>\n",
       "    </tr>\n",
       "  </tbody>\n",
       "</table>\n",
       "<p>30000 rows × 9 columns</p>\n",
       "</div>"
      ],
      "text/plain": [
       "       GENHLTH  EXERANY  HTF  HTI  SMOKE100  WEIGHT  WTDESIRE  AGE  SEX\n",
       "0            1      NaN    5    8         1     175       NaN   49    2\n",
       "1            4      NaN    5   10         1     180       NaN   60    1\n",
       "2            1      NaN    5    3         2     147       NaN   34    2\n",
       "3            3      NaN    5    5         1     110       NaN   42    2\n",
       "4            2      NaN    5    3         2     126       NaN   52    2\n",
       "...        ...      ...  ...  ...       ...     ...       ...  ...  ...\n",
       "29995        3      NaN    5    6         2     180       NaN   31    1\n",
       "29996        3      NaN    5    4         2     120       NaN   69    2\n",
       "29997        1      NaN    5    1         2     125       NaN   37    2\n",
       "29998        1      NaN    5    1         2     120       NaN   24    2\n",
       "29999        4      NaN    5    4         2     170       NaN   54    2\n",
       "\n",
       "[30000 rows x 9 columns]"
      ]
     },
     "execution_count": 7,
     "metadata": {},
     "output_type": "execute_result"
    }
   ],
   "source": [
    "Large_Columns_b = cdbr[['GENHLTH','EXERANY','HTF','HTI','SMOKE100','WEIGHT','WTDESIRE','AGE','SEX']]\n",
    "filename_destination= 'working/Large_Columns_b.csv'\n",
    "Large_Columns_b.to_csv(filename_destination) \n",
    "Large_Columns_b  # display the Dataframe that question \"Large Column b\" required"
   ]
  },
  {
   "cell_type": "markdown",
   "id": "bde7f44b",
   "metadata": {
    "papermill": {
     "duration": 0.017728,
     "end_time": "2022-04-10T19:28:53.328587",
     "exception": false,
     "start_time": "2022-04-10T19:28:53.310859",
     "status": "completed"
    },
    "tags": []
   },
   "source": [
    "> c. How many cases and how many variables are there in your sample? \n",
    "\n",
    "(c) 30,000 cases; 9 variables"
   ]
  },
  {
   "cell_type": "markdown",
   "id": "d2e6a73f",
   "metadata": {
    "papermill": {
     "duration": 0.017821,
     "end_time": "2022-04-10T19:28:53.364498",
     "exception": false,
     "start_time": "2022-04-10T19:28:53.346677",
     "status": "completed"
    },
    "tags": []
   },
   "source": [
    "> d. What type of variable is genhlth?\n",
    "\n",
    "(d) categorical, ordinal"
   ]
  },
  {
   "cell_type": "markdown",
   "id": "fadd50aa",
   "metadata": {
    "papermill": {
     "duration": 0.01783,
     "end_time": "2022-04-10T19:28:53.400433",
     "exception": false,
     "start_time": "2022-04-10T19:28:53.382603",
     "status": "completed"
    },
    "tags": []
   },
   "source": [
    "> e. What type of variable is weight?\n",
    "\n",
    "(b) numerical, discrete"
   ]
  },
  {
   "cell_type": "markdown",
   "id": "4e98b9b1",
   "metadata": {
    "papermill": {
     "duration": 0.01816,
     "end_time": "2022-04-10T19:28:53.436694",
     "exception": false,
     "start_time": "2022-04-10T19:28:53.418534",
     "status": "completed"
    },
    "tags": []
   },
   "source": [
    "> f. What type of variable is smoke100?\n",
    "\n",
    "(c) categorical (not ordinal)"
   ]
  },
  {
   "cell_type": "markdown",
   "id": "6bf296df",
   "metadata": {
    "papermill": {
     "duration": 0.017828,
     "end_time": "2022-04-10T19:28:53.472576",
     "exception": false,
     "start_time": "2022-04-10T19:28:53.454748",
     "status": "completed"
    },
    "tags": []
   },
   "source": [
    "**> One Bar chart**\n",
    "* > Take all genhlth entries from your sample and draw a bar chart to visualize how the cases are distributed across the possible categories."
   ]
  },
  {
   "cell_type": "code",
   "execution_count": 8,
   "id": "1ac47289",
   "metadata": {
    "execution": {
     "iopub.execute_input": "2022-04-10T19:28:53.514785Z",
     "iopub.status.busy": "2022-04-10T19:28:53.514086Z",
     "iopub.status.idle": "2022-04-10T19:28:54.604383Z",
     "shell.execute_reply": "2022-04-10T19:28:54.604809Z",
     "shell.execute_reply.started": "2022-04-10T19:12:05.358991Z"
    },
    "papermill": {
     "duration": 1.114453,
     "end_time": "2022-04-10T19:28:54.604980",
     "exception": false,
     "start_time": "2022-04-10T19:28:53.490527",
     "status": "completed"
    },
    "tags": []
   },
   "outputs": [
    {
     "data": {
      "text/plain": [
       "[Text(0.5, 0, 'Categories'),\n",
       " Text(0, 0.5, 'Frequency'),\n",
       " [Text(0, 0, 'Excellent'),\n",
       "  Text(1, 0, 'Very Good'),\n",
       "  Text(2, 0, 'Good'),\n",
       "  Text(3, 0, 'Fair'),\n",
       "  Text(4, 0, 'Poor'),\n",
       "  Text(5, 0, \"Don't know/Not sure\"),\n",
       "  Text(6, 0, 'Refused')]]"
      ]
     },
     "execution_count": 8,
     "metadata": {},
     "output_type": "execute_result"
    },
    {
     "data": {
      "image/png": "[encoded data removed]",
      "text/plain": [
       "<Figure size 720x576 with 1 Axes>"
      ]
     },
     "metadata": {
      "needs_background": "light"
     },
     "output_type": "display_data"
    }
   ],
   "source": [
    "# x axis represents General Health. 1,2,3,4,5,7,9 means Excellent, Very good, Good, Fair, Poor, Don't know, Refused respectively\n",
    "# y axis represents freuquency\n",
    "import numpy as np\n",
    "import seaborn as sns\n",
    "from matplotlib import rcParams\n",
    "import matplotlib.pyplot as plt\n",
    "\n",
    "\n",
    "\n",
    "genhlth = Large_Columns_b['GENHLTH']\n",
    "genhlth_data_count = np.unique(genhlth,return_counts = True)\n",
    "rcParams['figure.figsize'] = 10,8\n",
    "ax = sns.barplot(x = genhlth_data_count[0],y = genhlth_data_count[1])\n",
    "ax.set(xlabel = 'Categories',ylabel = 'Frequency',xticklabels = [\"Excellent\",\"Very Good\",\"Good\",\"Fair\",\"Poor\",\"Don't know/Not sure\",\"Refused\"])"
   ]
  },
  {
   "cell_type": "markdown",
   "id": "4abb578f",
   "metadata": {
    "papermill": {
     "duration": 0.01959,
     "end_time": "2022-04-10T19:28:54.644244",
     "exception": false,
     "start_time": "2022-04-10T19:28:54.624654",
     "status": "completed"
    },
    "tags": []
   },
   "source": [
    "> Two Bar Charts\n",
    "* > Combine the smoke100 with the genhlth entries from your sample and draw two bar charts, one showing the health of the smokers and a second one showing the health of the non-smokers."
   ]
  },
  {
   "cell_type": "code",
   "execution_count": 9,
   "id": "eed4aaf6",
   "metadata": {
    "execution": {
     "iopub.execute_input": "2022-04-10T19:28:54.686988Z",
     "iopub.status.busy": "2022-04-10T19:28:54.686099Z",
     "iopub.status.idle": "2022-04-10T19:28:54.699474Z",
     "shell.execute_reply": "2022-04-10T19:28:54.699955Z",
     "shell.execute_reply.started": "2022-04-10T19:08:35.261366Z"
    },
    "papermill": {
     "duration": 0.036214,
     "end_time": "2022-04-10T19:28:54.700112",
     "exception": false,
     "start_time": "2022-04-10T19:28:54.663898",
     "status": "completed"
    },
    "tags": []
   },
   "outputs": [
    {
     "data": {
      "text/plain": [
       "count      23.000000\n",
       "mean     1304.347826\n",
       "std      1877.661084\n",
       "min         1.000000\n",
       "25%         5.000000\n",
       "50%        31.000000\n",
       "75%      2206.500000\n",
       "max      5424.000000\n",
       "Name: SMOKE100, dtype: float64"
      ]
     },
     "execution_count": 9,
     "metadata": {},
     "output_type": "execute_result"
    }
   ],
   "source": [
    "genhlth_count_ifsmoke = Large_Columns_b.groupby(['SMOKE100','GENHLTH']).SMOKE100.agg('count')\n",
    "genhlth_count_ifsmoke.describe()\n",
    "#genhlth_count_ifsmoke['SMOKE100'].describe()\n",
    "#sns.barplot(x = 'SMOKE100', y = 'count', hue = 'GENHLTH',data = genhlth_count_ifsmoke)"
   ]
  },
  {
   "cell_type": "code",
   "execution_count": 10,
   "id": "f00b0006",
   "metadata": {
    "execution": {
     "iopub.execute_input": "2022-04-10T19:28:54.743841Z",
     "iopub.status.busy": "2022-04-10T19:28:54.742924Z",
     "iopub.status.idle": "2022-04-10T19:28:55.022260Z",
     "shell.execute_reply": "2022-04-10T19:28:55.021745Z",
     "shell.execute_reply.started": "2022-04-10T19:17:06.061141Z"
    },
    "papermill": {
     "duration": 0.302245,
     "end_time": "2022-04-10T19:28:55.022402",
     "exception": false,
     "start_time": "2022-04-10T19:28:54.720157",
     "status": "completed"
    },
    "tags": []
   },
   "outputs": [
    {
     "data": {
      "image/png": "[encoded data removed]",
      "text/plain": [
       "<Figure size 720x576 with 1 Axes>"
      ]
     },
     "metadata": {
      "needs_background": "light"
     },
     "output_type": "display_data"
    }
   ],
   "source": [
    "#  x axis represents if smoke100, if so ,x=1; otherwise x=2. x=7,9 means 'not sure'/'refused' respectively. y axis means frequency \n",
    "fig, ax = plt.subplots()\n",
    "genhlth_count_ifsmoke.unstack().plot.bar(ax=ax) \n",
    "ax.legend([\"Excellent\",\"Very Good\",\"Good\",\"Fair\",\"Poor\",\"Don't know/Not sure\",\"Refused\"])\n",
    "ax.set_xticklabels([\"Smokers\",\"Non-smokers\",\"Not Sure\",\"Refused\"])\n",
    "plt.show()"
   ]
  },
  {
   "cell_type": "markdown",
   "id": "20dcd976",
   "metadata": {
    "papermill": {
     "duration": 0.020487,
     "end_time": "2022-04-10T19:28:55.063665",
     "exception": false,
     "start_time": "2022-04-10T19:28:55.043178",
     "status": "completed"
    },
    "tags": []
   },
   "source": [
    "**We can clearly see from the plot that the general wellness is higher in non-smokers than in smokers**"
   ]
  },
  {
   "cell_type": "markdown",
   "id": "96a8cfff",
   "metadata": {
    "papermill": {
     "duration": 0.021083,
     "end_time": "2022-04-10T19:28:55.105679",
     "exception": false,
     "start_time": "2022-04-10T19:28:55.084596",
     "status": "completed"
    },
    "tags": []
   },
   "source": [
    "**> BMI**\n",
    "* > Next let’s consider a new variable bmi that doesn’t show up directly in this data set: Body Mass Index (BMI). \n",
    "* > Compute the bmi for each case in your sample and add it to the sample (e.g. as additional column). \n",
    "* > Visualize the distribution of the BMI in your sample."
   ]
  },
  {
   "cell_type": "code",
   "execution_count": 11,
   "id": "18e20fc4",
   "metadata": {
    "execution": {
     "iopub.execute_input": "2022-04-10T19:28:55.150468Z",
     "iopub.status.busy": "2022-04-10T19:28:55.149849Z",
     "iopub.status.idle": "2022-04-10T19:28:55.184938Z",
     "shell.execute_reply": "2022-04-10T19:28:55.184368Z",
     "shell.execute_reply.started": "2022-04-10T19:17:19.664003Z"
    },
    "papermill": {
     "duration": 0.058578,
     "end_time": "2022-04-10T19:28:55.185073",
     "exception": false,
     "start_time": "2022-04-10T19:28:55.126495",
     "status": "completed"
    },
    "tags": []
   },
   "outputs": [
    {
     "name": "stderr",
     "output_type": "stream",
     "text": [
      "/opt/conda/lib/python3.7/site-packages/ipykernel_launcher.py:1: SettingWithCopyWarning: \n",
      "A value is trying to be set on a copy of a slice from a DataFrame.\n",
      "Try using .loc[row_indexer,col_indexer] = value instead\n",
      "\n",
      "See the caveats in the documentation: https://pandas.pydata.org/pandas-docs/stable/user_guide/indexing.html#returning-a-view-versus-a-copy\n",
      "  \"\"\"Entry point for launching an IPython kernel.\n",
      "/opt/conda/lib/python3.7/site-packages/pandas/core/frame.py:4913: SettingWithCopyWarning: \n",
      "A value is trying to be set on a copy of a slice from a DataFrame\n",
      "\n",
      "See the caveats in the documentation: https://pandas.pydata.org/pandas-docs/stable/user_guide/indexing.html#returning-a-view-versus-a-copy\n",
      "  errors=errors,\n",
      "/opt/conda/lib/python3.7/site-packages/pandas/core/generic.py:4153: SettingWithCopyWarning: \n",
      "A value is trying to be set on a copy of a slice from a DataFrame\n",
      "\n",
      "See the caveats in the documentation: https://pandas.pydata.org/pandas-docs/stable/user_guide/indexing.html#returning-a-view-versus-a-copy\n",
      "  self._update_inplace(obj)\n"
     ]
    },
    {
     "data": {
      "text/plain": [
       "0        26.605753\n",
       "1        25.824490\n",
       "2        26.037037\n",
       "3        18.302959\n",
       "4        22.317460\n",
       "           ...    \n",
       "29995    29.049587\n",
       "29996    20.595703\n",
       "29997    23.615963\n",
       "29998    22.671325\n",
       "29999    29.177246\n",
       "Name: BMI, Length: 28810, dtype: float64"
      ]
     },
     "execution_count": 11,
     "metadata": {},
     "output_type": "execute_result"
    }
   ],
   "source": [
    "Large_Columns_b['BMI'] = Large_Columns_b['WEIGHT']/((Large_Columns_b['HTF']*12+Large_Columns_b['HTI'])*(Large_Columns_b['HTF']*12+Large_Columns_b['HTI']))*703\n",
    "Large_Columns_b.drop(Large_Columns_b[Large_Columns_b.HTI > 11].index, inplace = True) #drop the data whose height(iches) is 77 and 99(means Don't know and refused respectively)\n",
    "Large_Columns_b.drop(Large_Columns_b[Large_Columns_b.WEIGHT > 776].index, inplace = True)#drop the data whose weight is 777 and 999(means Don't know and refused respectively)\n",
    "Large_Columns_b.drop(Large_Columns_b[Large_Columns_b.HTF > 7].index, inplace = True)#drop the data whose height (feets) is 9(means refused)\n",
    "BMI_data = Large_Columns_b['BMI']\n",
    "BMI_data.drop(BMI_data[BMI_data == np.inf].index, inplace=True)# drop the data whose height is 0\n",
    "BMI_data"
   ]
  },
  {
   "cell_type": "code",
   "execution_count": 12,
   "id": "aeedbaa7",
   "metadata": {
    "execution": {
     "iopub.execute_input": "2022-04-10T19:28:55.234037Z",
     "iopub.status.busy": "2022-04-10T19:28:55.233445Z",
     "iopub.status.idle": "2022-04-10T19:28:55.531777Z",
     "shell.execute_reply": "2022-04-10T19:28:55.532212Z",
     "shell.execute_reply.started": "2022-04-10T19:18:33.765596Z"
    },
    "papermill": {
     "duration": 0.324922,
     "end_time": "2022-04-10T19:28:55.532378",
     "exception": false,
     "start_time": "2022-04-10T19:28:55.207456",
     "status": "completed"
    },
    "tags": []
   },
   "outputs": [
    {
     "data": {
      "text/plain": [
       "[Text(0.5, 0, 'BMI')]"
      ]
     },
     "execution_count": 12,
     "metadata": {},
     "output_type": "execute_result"
    },
    {
     "data": {
      "image/png": "[encoded data removed]",
      "text/plain": [
       "<Figure size 720x576 with 1 Axes>"
      ]
     },
     "metadata": {
      "needs_background": "light"
     },
     "output_type": "display_data"
    }
   ],
   "source": [
    "# It's a histogram, x axis represents BMI, y axis represents Frequency\n",
    "ax = BMI_data.plot.hist('BMI', bins =60 , range=(0,60))\n",
    "ax.set(xlabel = \"BMI\")"
   ]
  },
  {
   "cell_type": "markdown",
   "id": "2d451847",
   "metadata": {
    "papermill": {
     "duration": 0.022251,
     "end_time": "2022-04-10T19:28:55.577086",
     "exception": false,
     "start_time": "2022-04-10T19:28:55.554835",
     "status": "completed"
    },
    "tags": []
   },
   "source": [
    "The distribution of BMI peaks around 25. Most of the population lies in healthy-overweight categories but a heavy tailed distribution indicates that a significant fraction of population is obese. "
   ]
  },
  {
   "cell_type": "markdown",
   "id": "1cc2bc14",
   "metadata": {
    "papermill": {
     "duration": 0.022064,
     "end_time": "2022-04-10T19:28:55.621550",
     "exception": false,
     "start_time": "2022-04-10T19:28:55.599486",
     "status": "completed"
    },
    "tags": []
   },
   "source": [
    "Overall, we can see that different combinations and visualisations of data can provide with significant information about it."
   ]
  }
 ],
 "metadata": {
  "kernelspec": {
   "display_name": "Python 3",
   "language": "python",
   "name": "python3"
  },
  "language_info": {
   "codemirror_mode": {
    "name": "ipython",
    "version": 3
   },
   "file_extension": ".py",
   "mimetype": "text/x-python",
   "name": "python",
   "nbconvert_exporter": "python",
   "pygments_lexer": "ipython3",
   "version": "3.7.12"
  },
  "papermill": {
   "default_parameters": {},
   "duration": 13.912206,
   "end_time": "2022-04-10T19:28:56.253127",
   "environment_variables": {},
   "exception": null,
   "input_path": "__notebook__.ipynb",
   "output_path": "__notebook__.ipynb",
   "parameters": {},
   "start_time": "2022-04-10T19:28:42.340921",
   "version": "2.3.3"
  }
 },
 "nbformat": 4,
 "nbformat_minor": 5
}
