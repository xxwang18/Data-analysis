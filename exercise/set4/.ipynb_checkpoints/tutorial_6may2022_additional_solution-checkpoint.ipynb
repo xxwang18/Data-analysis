{
 "cells": [
  {
   "cell_type": "markdown",
   "id": "55bc907a-702b-4091-b84a-159e1e49e3e8",
   "metadata": {
    "tags": []
   },
   "source": [
    "# Tutorial 6 May 2022"
   ]
  },
  {
   "cell_type": "markdown",
   "id": "1516ebce-7e5c-401c-ba6f-d7b0fa91d207",
   "metadata": {},
   "source": [
    "Here we have the solutions to the problems discussed in class. Please note that I incorporate ipywidgets to perform the plotting. This is useful if you are working solely inside an ipython environment such as jupyter. These widgets are not ideal for exporting to a pdf, like you need to do in your submitted solutions."
   ]
  },
  {
   "cell_type": "markdown",
   "id": "e9b9a67c-fd34-4c21-bfa7-70eea4112870",
   "metadata": {},
   "source": [
    "# Random coordinates"
   ]
  },
  {
   "cell_type": "markdown",
   "id": "a233e40e-940e-408b-a9a6-11ac809e890a",
   "metadata": {},
   "source": [
    "**a.** Populate the surface of a unit-cube (a cube with side-length 1) equally with 1000 random points. Visualize the distribution of the points in 3D. **10 Points**"
   ]
  },
  {
   "cell_type": "markdown",
   "id": "081ce6b2-9d5a-41a1-bb1e-0aa23662b258",
   "metadata": {},
   "source": [
    "## Solution"
   ]
  },
  {
   "cell_type": "code",
   "execution_count": 1,
   "id": "e4fda5be-f377-445b-88e1-aaee8d495631",
   "metadata": {},
   "outputs": [
    {
     "data": {
      "application/vnd.jupyter.widget-view+json": {
       "model_id": "8fbe85ded385402386175eb706990bcd",
       "version_major": 2,
       "version_minor": 0
      },
      "text/plain": [
       "VBox(children=(HBox(children=(VBox(children=(IntSlider(value=1000, description='N', max=10000, min=1000), Floa…"
      ]
     },
     "metadata": {},
     "output_type": "display_data"
    }
   ],
   "source": [
    "import ipywidgets as widgets\n",
    "import matplotlib.pyplot as plt\n",
    "import numpy as np\n",
    "import random\n",
    "\n",
    "from IPython.display import clear_output\n",
    "from itertools import product, combinations\n",
    "from mpl_toolkits.mplot3d import Axes3D\n",
    "\n",
    "\n",
    "n_cube_slider = widgets.IntSlider(min=1000, max=10000, description='N')\n",
    "cube_length_slider = widgets.FloatSlider(min=1, max=10, step=0.1, description='Length')\n",
    "plot_cube_button = widgets.Button(description='Plot cube')\n",
    "cube_output = widgets.Output()\n",
    "\n",
    "def strip_side(point, min=-1, max=1):\n",
    "    \"\"\" Maps a 3D coordinate to a random side of the enclosing cube\"\"\"\n",
    "    axes = [0, 1, 2]\n",
    "    axes = random.choice(axes)\n",
    "    side = [min, max]\n",
    "    side = random.choice(side)\n",
    "    point[axes] = side\n",
    "    return point\n",
    "\n",
    "def random_cube():\n",
    "    fig = plt.figure(figsize=(10,10))\n",
    "    ax = fig.add_subplot(111, projection='3d')\n",
    "\n",
    "    N = n_cube_slider.value\n",
    "    length = cube_length_slider.value\n",
    "    vn = np.random.uniform(low=-length/2, high=length/2, size=(N, 3)) \n",
    "    vn = [strip_side(point, min=-length/2, max=length/2) for point in vn]\n",
    "    # Ensure that the next plot doesn't overwrite the first plot\n",
    "    for v in vn:\n",
    "        ax.scatter(v[0], v[1], v[2], color='xkcd:bright red')\n",
    "\n",
    "    r = [-length/2, length/2]\n",
    "    for s, e in combinations(np.array(list(product(r, r, r))), 2):\n",
    "        if np.sum(np.abs(s-e)) == r[1]-r[0]:\n",
    "            ax.plot3D(*zip(s, e), color=\"xkcd:sapphire\")\n",
    "    plt.show()\n",
    "\n",
    "def plot_cube(b):\n",
    "    with cube_output:\n",
    "        clear_output()\n",
    "        random_cube()\n",
    "    return\n",
    "\n",
    "plot_cube_button.on_click(plot_cube)\n",
    "\n",
    "interact_box = widgets.HBox((widgets.VBox((n_cube_slider, cube_length_slider)), plot_cube_button))\n",
    "widgets.VBox((interact_box, cube_output))"
   ]
  },
  {
   "cell_type": "markdown",
   "id": "0d092c27-6476-4986-b13b-ae3cf5d3b4e7",
   "metadata": {},
   "source": [
    "**b.** Populate the surface of a unit-sphere (a sphere with radius 1) equally with 1000 random points. Visualize the distribution of the points in 3D. (Hint: Recall that the area elements are a function of the elevation angle!) **10 Points**"
   ]
  },
  {
   "cell_type": "markdown",
   "id": "8e0b493b-0013-456e-8e22-903d44aa4727",
   "metadata": {},
   "source": [
    "## Solution"
   ]
  },
  {
   "cell_type": "code",
   "execution_count": 2,
   "id": "c2f72c81-af85-4c61-9f3e-ca7ad03ad87a",
   "metadata": {},
   "outputs": [
    {
     "data": {
      "application/vnd.jupyter.widget-view+json": {
       "model_id": "a5c5fc660d0e4b86bd8e07f58cef8edd",
       "version_major": 2,
       "version_minor": 0
      },
      "text/plain": [
       "VBox(children=(HBox(children=(VBox(children=(IntSlider(value=1000, description='N', max=10000, min=10), FloatS…"
      ]
     },
     "metadata": {},
     "output_type": "display_data"
    }
   ],
   "source": [
    "import ipywidgets as widgets\n",
    "import matplotlib.pyplot as plt\n",
    "import numpy as np\n",
    "\n",
    "from IPython.display import clear_output\n",
    "from mpl_toolkits.mplot3d import Axes3D\n",
    "\n",
    "\n",
    "n_sphere_slider = widgets.IntSlider(min=10, max=10000, value=1000, description='N')\n",
    "radius_slider = widgets.FloatSlider(min=1, max=10, step=0.1, description='Radius')\n",
    "plot_sphere_button = widgets.Button(description='Plot sphere')\n",
    "sphere_output = widgets.Output()\n",
    "\n",
    "\n",
    "def random_sphere():\n",
    "    fig = plt.figure(figsize=(10,10))\n",
    "    ax = fig.add_subplot(111, projection='3d')\n",
    "\n",
    "    N = n_sphere_slider.value\n",
    "    radius = radius_slider.value\n",
    "    # Get 3D Gaussian distribution\n",
    "    v = np.random.normal(size=(3, N)) \n",
    "    # divide each coordinate of all vectors by its length to map them to a sphere\n",
    "    vn = v/ np.sqrt(np.sum(v**2, axis=0)) * radius\n",
    "    # plot the points\n",
    "    ax.scatter(vn[0], vn[1], vn[2], color='xkcd:sapphire')\n",
    "\n",
    "    # Plot a sphere\n",
    "    u = np.linspace(0, 2 * np.pi, 100)\n",
    "    v = np.linspace(0, np.pi, 100)\n",
    "\n",
    "    x = radius * np.outer(np.cos(u), np.sin(v))\n",
    "    y = radius * np.outer(np.sin(u), np.sin(v))\n",
    "    z = radius * np.outer(np.ones(np.size(u)), np.cos(v))\n",
    "\n",
    "    ax.plot_surface(x, y, z,  rstride=4, cstride=4, color='xkcd:emerald', linewidth=0, alpha=0.1)\n",
    "    \n",
    "    plt.show()\n",
    "    \n",
    "    return\n",
    "\n",
    "def plot_sphere(b):\n",
    "    with sphere_output:\n",
    "        clear_output()\n",
    "        random_sphere()\n",
    "    return\n",
    "\n",
    "\n",
    "plot_sphere_button.on_click(plot_sphere)\n",
    "\n",
    "sphere_interact_box = widgets.HBox((widgets.VBox((n_sphere_slider, radius_slider)), plot_sphere_button))\n",
    "widgets.VBox((sphere_interact_box, sphere_output))"
   ]
  },
  {
   "cell_type": "code",
   "execution_count": null,
   "id": "df23134b",
   "metadata": {},
   "outputs": [],
   "source": []
  }
 ],
 "metadata": {
  "kernelspec": {
   "display_name": "Python 3 (ipykernel)",
   "language": "python",
   "name": "python3"
  },
  "language_info": {
   "codemirror_mode": {
    "name": "ipython",
    "version": 3
   },
   "file_extension": ".py",
   "mimetype": "text/x-python",
   "name": "python",
   "nbconvert_exporter": "python",
   "pygments_lexer": "ipython3",
   "version": "3.9.7"
  }
 },
 "nbformat": 4,
 "nbformat_minor": 5
}
